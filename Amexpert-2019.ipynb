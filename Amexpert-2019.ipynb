{
 "cells": [
  {
   "cell_type": "markdown",
   "metadata": {},
   "source": [
    "# Import"
   ]
  },
  {
   "cell_type": "code",
   "execution_count": 1,
   "metadata": {},
   "outputs": [],
   "source": [
    "import pandas as pd\n",
    "import numpy as np"
   ]
  },
  {
   "cell_type": "code",
   "execution_count": 2,
   "metadata": {},
   "outputs": [],
   "source": [
    "import os"
   ]
  },
  {
   "cell_type": "code",
   "execution_count": 3,
   "metadata": {},
   "outputs": [],
   "source": [
    "import pathlib"
   ]
  },
  {
   "cell_type": "code",
   "execution_count": 4,
   "metadata": {},
   "outputs": [],
   "source": [
    "from tqdm import tqdm"
   ]
  },
  {
   "cell_type": "code",
   "execution_count": 5,
   "metadata": {},
   "outputs": [],
   "source": [
    "import pickle"
   ]
  },
  {
   "cell_type": "code",
   "execution_count": 6,
   "metadata": {},
   "outputs": [],
   "source": [
    "from xgboost import XGBClassifier\n",
    "from sklearn.model_selection import train_test_split"
   ]
  },
  {
   "cell_type": "code",
   "execution_count": 7,
   "metadata": {},
   "outputs": [],
   "source": [
    "from sklearn.metrics import accuracy_score"
   ]
  },
  {
   "cell_type": "code",
   "execution_count": 8,
   "metadata": {},
   "outputs": [],
   "source": [
    "from bayes_opt import BayesianOptimization\n",
    "from sklearn.ensemble import RandomForestClassifier\n",
    "from sklearn.model_selection import cross_val_score"
   ]
  },
  {
   "cell_type": "code",
   "execution_count": 9,
   "metadata": {},
   "outputs": [],
   "source": [
    "from sklearn import metrics"
   ]
  },
  {
   "cell_type": "code",
   "execution_count": 10,
   "metadata": {},
   "outputs": [],
   "source": [
    "from sklearn.model_selection import GridSearchCV"
   ]
  },
  {
   "cell_type": "code",
   "execution_count": 11,
   "metadata": {},
   "outputs": [],
   "source": [
    "from sklearn.model_selection import RandomizedSearchCV"
   ]
  },
  {
   "cell_type": "code",
   "execution_count": 12,
   "metadata": {},
   "outputs": [],
   "source": [
    "from sklearn.model_selection import StratifiedKFold"
   ]
  },
  {
   "cell_type": "code",
   "execution_count": 168,
   "metadata": {},
   "outputs": [],
   "source": [
    "import lightgbm"
   ]
  },
  {
   "cell_type": "code",
   "execution_count": 220,
   "metadata": {},
   "outputs": [],
   "source": [
    "from sklearn.preprocessing import StandardScaler"
   ]
  },
  {
   "cell_type": "markdown",
   "metadata": {},
   "source": [
    "# Data pre-processing"
   ]
  },
  {
   "cell_type": "markdown",
   "metadata": {},
   "source": [
    "## Loading data"
   ]
  },
  {
   "cell_type": "code",
   "execution_count": 13,
   "metadata": {},
   "outputs": [],
   "source": [
    "DATA_DIR = './Data'"
   ]
  },
  {
   "cell_type": "code",
   "execution_count": 14,
   "metadata": {},
   "outputs": [],
   "source": [
    "campaign_data_df = pd.read_csv(os.path.join(DATA_DIR, 'campaign_data.csv'), parse_dates=['start_date','end_date'], dayfirst=True)\n"
   ]
  },
  {
   "cell_type": "code",
   "execution_count": 15,
   "metadata": {},
   "outputs": [],
   "source": [
    "coupon_item_map_df = pd.read_csv(os.path.join(DATA_DIR, 'coupon_item_mapping.csv'))\n"
   ]
  },
  {
   "cell_type": "code",
   "execution_count": 16,
   "metadata": {},
   "outputs": [],
   "source": [
    "customer_demographics_df = pd.read_csv(os.path.join(DATA_DIR, 'customer_demographics.csv'))"
   ]
  },
  {
   "cell_type": "code",
   "execution_count": 17,
   "metadata": {},
   "outputs": [],
   "source": [
    "customer_transaction_data_df = pd.read_csv(os.path.join(DATA_DIR, 'customer_transaction_data.csv'))"
   ]
  },
  {
   "cell_type": "code",
   "execution_count": 18,
   "metadata": {},
   "outputs": [],
   "source": [
    "item_data_df = pd.read_csv(os.path.join(DATA_DIR, 'item_data.csv'))"
   ]
  },
  {
   "cell_type": "code",
   "execution_count": 19,
   "metadata": {},
   "outputs": [],
   "source": [
    "train_df = pd.read_csv(os.path.join(DATA_DIR, 'train.csv'))"
   ]
  },
  {
   "cell_type": "code",
   "execution_count": 20,
   "metadata": {},
   "outputs": [],
   "source": [
    "test_df = pd.read_csv(os.path.join(DATA_DIR, 'test_QyjYwdj.csv'))"
   ]
  },
  {
   "cell_type": "code",
   "execution_count": 21,
   "metadata": {},
   "outputs": [],
   "source": [
    "sample_submission_df = pd.read_csv(os.path.join(DATA_DIR, 'sample_submission_Byiv0dS.csv'))"
   ]
  },
  {
   "cell_type": "markdown",
   "metadata": {},
   "source": [
    "## Exploration"
   ]
  },
  {
   "cell_type": "markdown",
   "metadata": {},
   "source": [
    "### Campaign Data"
   ]
  },
  {
   "cell_type": "code",
   "execution_count": 22,
   "metadata": {},
   "outputs": [
    {
     "data": {
      "text/html": [
       "<div>\n",
       "<style scoped>\n",
       "    .dataframe tbody tr th:only-of-type {\n",
       "        vertical-align: middle;\n",
       "    }\n",
       "\n",
       "    .dataframe tbody tr th {\n",
       "        vertical-align: top;\n",
       "    }\n",
       "\n",
       "    .dataframe thead th {\n",
       "        text-align: right;\n",
       "    }\n",
       "</style>\n",
       "<table border=\"1\" class=\"dataframe\">\n",
       "  <thead>\n",
       "    <tr style=\"text-align: right;\">\n",
       "      <th></th>\n",
       "      <th>campaign_id</th>\n",
       "      <th>campaign_type</th>\n",
       "      <th>start_date</th>\n",
       "      <th>end_date</th>\n",
       "    </tr>\n",
       "  </thead>\n",
       "  <tbody>\n",
       "    <tr>\n",
       "      <th>0</th>\n",
       "      <td>24</td>\n",
       "      <td>Y</td>\n",
       "      <td>2013-10-21</td>\n",
       "      <td>2013-12-20</td>\n",
       "    </tr>\n",
       "    <tr>\n",
       "      <th>1</th>\n",
       "      <td>25</td>\n",
       "      <td>Y</td>\n",
       "      <td>2013-10-21</td>\n",
       "      <td>2013-11-22</td>\n",
       "    </tr>\n",
       "    <tr>\n",
       "      <th>2</th>\n",
       "      <td>20</td>\n",
       "      <td>Y</td>\n",
       "      <td>2013-09-07</td>\n",
       "      <td>2013-11-16</td>\n",
       "    </tr>\n",
       "    <tr>\n",
       "      <th>3</th>\n",
       "      <td>23</td>\n",
       "      <td>Y</td>\n",
       "      <td>2013-10-08</td>\n",
       "      <td>2013-11-15</td>\n",
       "    </tr>\n",
       "    <tr>\n",
       "      <th>4</th>\n",
       "      <td>21</td>\n",
       "      <td>Y</td>\n",
       "      <td>2013-09-16</td>\n",
       "      <td>2013-10-18</td>\n",
       "    </tr>\n",
       "  </tbody>\n",
       "</table>\n",
       "</div>"
      ],
      "text/plain": [
       "   campaign_id campaign_type start_date   end_date\n",
       "0           24             Y 2013-10-21 2013-12-20\n",
       "1           25             Y 2013-10-21 2013-11-22\n",
       "2           20             Y 2013-09-07 2013-11-16\n",
       "3           23             Y 2013-10-08 2013-11-15\n",
       "4           21             Y 2013-09-16 2013-10-18"
      ]
     },
     "execution_count": 22,
     "metadata": {},
     "output_type": "execute_result"
    }
   ],
   "source": [
    "campaign_data_df.head()"
   ]
  },
  {
   "cell_type": "code",
   "execution_count": 23,
   "metadata": {},
   "outputs": [
    {
     "data": {
      "text/plain": [
       "array(['Y', 'X'], dtype=object)"
      ]
     },
     "execution_count": 23,
     "metadata": {},
     "output_type": "execute_result"
    }
   ],
   "source": [
    "campaign_data_df['campaign_type'].unique()"
   ]
  },
  {
   "cell_type": "code",
   "execution_count": 24,
   "metadata": {},
   "outputs": [
    {
     "data": {
      "text/plain": [
       "(28, 4)"
      ]
     },
     "execution_count": 24,
     "metadata": {},
     "output_type": "execute_result"
    }
   ],
   "source": [
    "campaign_data_df.shape"
   ]
  },
  {
   "cell_type": "code",
   "execution_count": 25,
   "metadata": {},
   "outputs": [
    {
     "data": {
      "text/plain": [
       "array([24, 25, 20, 23, 21, 22, 18, 19, 17, 16, 13, 11, 12, 10,  9,  8,  7,\n",
       "        6,  3,  5,  4,  1,  2, 30, 29, 28, 27, 26])"
      ]
     },
     "execution_count": 25,
     "metadata": {},
     "output_type": "execute_result"
    }
   ],
   "source": [
    "campaign_data_df['campaign_id'].unique()"
   ]
  },
  {
   "cell_type": "code",
   "execution_count": 26,
   "metadata": {},
   "outputs": [
    {
     "data": {
      "text/plain": [
       "28"
      ]
     },
     "execution_count": 26,
     "metadata": {},
     "output_type": "execute_result"
    }
   ],
   "source": [
    "campaign_data_df['campaign_id'].nunique()"
   ]
  },
  {
   "cell_type": "code",
   "execution_count": 27,
   "metadata": {},
   "outputs": [
    {
     "name": "stdout",
     "output_type": "stream",
     "text": [
      "<class 'pandas.core.frame.DataFrame'>\n",
      "RangeIndex: 28 entries, 0 to 27\n",
      "Data columns (total 4 columns):\n",
      "campaign_id      28 non-null int64\n",
      "campaign_type    28 non-null object\n",
      "start_date       28 non-null datetime64[ns]\n",
      "end_date         28 non-null datetime64[ns]\n",
      "dtypes: datetime64[ns](2), int64(1), object(1)\n",
      "memory usage: 976.0+ bytes\n"
     ]
    }
   ],
   "source": [
    "campaign_data_df.info()"
   ]
  },
  {
   "cell_type": "code",
   "execution_count": 28,
   "metadata": {},
   "outputs": [
    {
     "data": {
      "text/plain": [
       "(Timestamp('2012-08-12 00:00:00'), Timestamp('2013-10-21 00:00:00'))"
      ]
     },
     "execution_count": 28,
     "metadata": {},
     "output_type": "execute_result"
    }
   ],
   "source": [
    "campaign_data_df['start_date'].min(), campaign_data_df['start_date'].max()"
   ]
  },
  {
   "cell_type": "code",
   "execution_count": 29,
   "metadata": {},
   "outputs": [
    {
     "data": {
      "text/plain": [
       "(Timestamp('2012-09-21 00:00:00'), Timestamp('2013-12-20 00:00:00'))"
      ]
     },
     "execution_count": 29,
     "metadata": {},
     "output_type": "execute_result"
    }
   ],
   "source": [
    "campaign_data_df['end_date'].min(), campaign_data_df['end_date'].max()"
   ]
  },
  {
   "cell_type": "code",
   "execution_count": 30,
   "metadata": {},
   "outputs": [],
   "source": [
    "campaign_data_df['num_days'] = (campaign_data_df['end_date'] - campaign_data_df['start_date']).dt.days"
   ]
  },
  {
   "cell_type": "code",
   "execution_count": 31,
   "metadata": {},
   "outputs": [
    {
     "data": {
      "text/html": [
       "<div>\n",
       "<style scoped>\n",
       "    .dataframe tbody tr th:only-of-type {\n",
       "        vertical-align: middle;\n",
       "    }\n",
       "\n",
       "    .dataframe tbody tr th {\n",
       "        vertical-align: top;\n",
       "    }\n",
       "\n",
       "    .dataframe thead th {\n",
       "        text-align: right;\n",
       "    }\n",
       "</style>\n",
       "<table border=\"1\" class=\"dataframe\">\n",
       "  <thead>\n",
       "    <tr style=\"text-align: right;\">\n",
       "      <th></th>\n",
       "      <th>campaign_id</th>\n",
       "      <th>num_days</th>\n",
       "    </tr>\n",
       "  </thead>\n",
       "  <tbody>\n",
       "    <tr>\n",
       "      <th>count</th>\n",
       "      <td>28.000000</td>\n",
       "      <td>28.000000</td>\n",
       "    </tr>\n",
       "    <tr>\n",
       "      <th>mean</th>\n",
       "      <td>15.571429</td>\n",
       "      <td>41.857143</td>\n",
       "    </tr>\n",
       "    <tr>\n",
       "      <th>std</th>\n",
       "      <td>9.118271</td>\n",
       "      <td>11.958924</td>\n",
       "    </tr>\n",
       "    <tr>\n",
       "      <th>min</th>\n",
       "      <td>1.000000</td>\n",
       "      <td>32.000000</td>\n",
       "    </tr>\n",
       "    <tr>\n",
       "      <th>25%</th>\n",
       "      <td>7.750000</td>\n",
       "      <td>32.000000</td>\n",
       "    </tr>\n",
       "    <tr>\n",
       "      <th>50%</th>\n",
       "      <td>16.500000</td>\n",
       "      <td>35.500000</td>\n",
       "    </tr>\n",
       "    <tr>\n",
       "      <th>75%</th>\n",
       "      <td>23.250000</td>\n",
       "      <td>49.250000</td>\n",
       "    </tr>\n",
       "    <tr>\n",
       "      <th>max</th>\n",
       "      <td>30.000000</td>\n",
       "      <td>70.000000</td>\n",
       "    </tr>\n",
       "  </tbody>\n",
       "</table>\n",
       "</div>"
      ],
      "text/plain": [
       "       campaign_id   num_days\n",
       "count    28.000000  28.000000\n",
       "mean     15.571429  41.857143\n",
       "std       9.118271  11.958924\n",
       "min       1.000000  32.000000\n",
       "25%       7.750000  32.000000\n",
       "50%      16.500000  35.500000\n",
       "75%      23.250000  49.250000\n",
       "max      30.000000  70.000000"
      ]
     },
     "execution_count": 31,
     "metadata": {},
     "output_type": "execute_result"
    }
   ],
   "source": [
    "campaign_data_df.describe()"
   ]
  },
  {
   "cell_type": "markdown",
   "metadata": {},
   "source": [
    "#### Observation \n",
    "\n",
    "- 28 different campaigns, each of either type X or type Y. \n",
    "- These campaigns are between 10th August 2012 to 1st December of 2013\n",
    "- The end dates vary from 21st September 2012 to 20th December 2013\n",
    "- Average number of days a campaign lasts is aobut 41 days ; Minimum is 32 days ; Maximum is about 70 days!"
   ]
  },
  {
   "cell_type": "markdown",
   "metadata": {},
   "source": [
    "### Coupon-Item Data "
   ]
  },
  {
   "cell_type": "code",
   "execution_count": 32,
   "metadata": {},
   "outputs": [
    {
     "data": {
      "text/html": [
       "<div>\n",
       "<style scoped>\n",
       "    .dataframe tbody tr th:only-of-type {\n",
       "        vertical-align: middle;\n",
       "    }\n",
       "\n",
       "    .dataframe tbody tr th {\n",
       "        vertical-align: top;\n",
       "    }\n",
       "\n",
       "    .dataframe thead th {\n",
       "        text-align: right;\n",
       "    }\n",
       "</style>\n",
       "<table border=\"1\" class=\"dataframe\">\n",
       "  <thead>\n",
       "    <tr style=\"text-align: right;\">\n",
       "      <th></th>\n",
       "      <th>coupon_id</th>\n",
       "      <th>item_id</th>\n",
       "    </tr>\n",
       "  </thead>\n",
       "  <tbody>\n",
       "    <tr>\n",
       "      <th>0</th>\n",
       "      <td>105</td>\n",
       "      <td>37</td>\n",
       "    </tr>\n",
       "    <tr>\n",
       "      <th>1</th>\n",
       "      <td>107</td>\n",
       "      <td>75</td>\n",
       "    </tr>\n",
       "    <tr>\n",
       "      <th>2</th>\n",
       "      <td>494</td>\n",
       "      <td>76</td>\n",
       "    </tr>\n",
       "    <tr>\n",
       "      <th>3</th>\n",
       "      <td>522</td>\n",
       "      <td>77</td>\n",
       "    </tr>\n",
       "    <tr>\n",
       "      <th>4</th>\n",
       "      <td>518</td>\n",
       "      <td>77</td>\n",
       "    </tr>\n",
       "  </tbody>\n",
       "</table>\n",
       "</div>"
      ],
      "text/plain": [
       "   coupon_id  item_id\n",
       "0        105       37\n",
       "1        107       75\n",
       "2        494       76\n",
       "3        522       77\n",
       "4        518       77"
      ]
     },
     "execution_count": 32,
     "metadata": {},
     "output_type": "execute_result"
    }
   ],
   "source": [
    "coupon_item_map_df.head()"
   ]
  },
  {
   "cell_type": "code",
   "execution_count": 33,
   "metadata": {},
   "outputs": [
    {
     "data": {
      "text/plain": [
       "(39, 2)"
      ]
     },
     "execution_count": 33,
     "metadata": {},
     "output_type": "execute_result"
    }
   ],
   "source": [
    "# verification for below\n",
    "coupon_item_map_df[coupon_item_map_df['coupon_id'] == 1].shape"
   ]
  },
  {
   "cell_type": "code",
   "execution_count": 34,
   "metadata": {},
   "outputs": [],
   "source": [
    "items_gby_coupon_df = coupon_item_map_df.groupby('coupon_id')[['item_id']].count()"
   ]
  },
  {
   "cell_type": "code",
   "execution_count": 35,
   "metadata": {},
   "outputs": [
    {
     "data": {
      "text/html": [
       "<div>\n",
       "<style scoped>\n",
       "    .dataframe tbody tr th:only-of-type {\n",
       "        vertical-align: middle;\n",
       "    }\n",
       "\n",
       "    .dataframe tbody tr th {\n",
       "        vertical-align: top;\n",
       "    }\n",
       "\n",
       "    .dataframe thead th {\n",
       "        text-align: right;\n",
       "    }\n",
       "</style>\n",
       "<table border=\"1\" class=\"dataframe\">\n",
       "  <thead>\n",
       "    <tr style=\"text-align: right;\">\n",
       "      <th></th>\n",
       "      <th>item_id</th>\n",
       "    </tr>\n",
       "    <tr>\n",
       "      <th>coupon_id</th>\n",
       "      <th></th>\n",
       "    </tr>\n",
       "  </thead>\n",
       "  <tbody>\n",
       "    <tr>\n",
       "      <th>1</th>\n",
       "      <td>39</td>\n",
       "    </tr>\n",
       "    <tr>\n",
       "      <th>2</th>\n",
       "      <td>2</td>\n",
       "    </tr>\n",
       "    <tr>\n",
       "      <th>3</th>\n",
       "      <td>17</td>\n",
       "    </tr>\n",
       "    <tr>\n",
       "      <th>4</th>\n",
       "      <td>24</td>\n",
       "    </tr>\n",
       "    <tr>\n",
       "      <th>5</th>\n",
       "      <td>7</td>\n",
       "    </tr>\n",
       "  </tbody>\n",
       "</table>\n",
       "</div>"
      ],
      "text/plain": [
       "           item_id\n",
       "coupon_id         \n",
       "1               39\n",
       "2                2\n",
       "3               17\n",
       "4               24\n",
       "5                7"
      ]
     },
     "execution_count": 35,
     "metadata": {},
     "output_type": "execute_result"
    }
   ],
   "source": [
    "items_gby_coupon_df.head()"
   ]
  },
  {
   "cell_type": "code",
   "execution_count": 36,
   "metadata": {},
   "outputs": [
    {
     "data": {
      "text/html": [
       "<div>\n",
       "<style scoped>\n",
       "    .dataframe tbody tr th:only-of-type {\n",
       "        vertical-align: middle;\n",
       "    }\n",
       "\n",
       "    .dataframe tbody tr th {\n",
       "        vertical-align: top;\n",
       "    }\n",
       "\n",
       "    .dataframe thead th {\n",
       "        text-align: right;\n",
       "    }\n",
       "</style>\n",
       "<table border=\"1\" class=\"dataframe\">\n",
       "  <thead>\n",
       "    <tr style=\"text-align: right;\">\n",
       "      <th></th>\n",
       "      <th>item_id</th>\n",
       "    </tr>\n",
       "    <tr>\n",
       "      <th>coupon_id</th>\n",
       "      <th></th>\n",
       "    </tr>\n",
       "  </thead>\n",
       "  <tbody>\n",
       "    <tr>\n",
       "      <th>32</th>\n",
       "      <td>11814</td>\n",
       "    </tr>\n",
       "    <tr>\n",
       "      <th>23</th>\n",
       "      <td>11813</td>\n",
       "    </tr>\n",
       "    <tr>\n",
       "      <th>22</th>\n",
       "      <td>4947</td>\n",
       "    </tr>\n",
       "    <tr>\n",
       "      <th>31</th>\n",
       "      <td>4873</td>\n",
       "    </tr>\n",
       "    <tr>\n",
       "      <th>24</th>\n",
       "      <td>4394</td>\n",
       "    </tr>\n",
       "  </tbody>\n",
       "</table>\n",
       "</div>"
      ],
      "text/plain": [
       "           item_id\n",
       "coupon_id         \n",
       "32           11814\n",
       "23           11813\n",
       "22            4947\n",
       "31            4873\n",
       "24            4394"
      ]
     },
     "execution_count": 36,
     "metadata": {},
     "output_type": "execute_result"
    }
   ],
   "source": [
    "items_gby_coupon_df.sort_values(by='item_id', ascending=False).head()"
   ]
  },
  {
   "cell_type": "code",
   "execution_count": 37,
   "metadata": {},
   "outputs": [
    {
     "data": {
      "text/plain": [
       "item_id    11814\n",
       "dtype: int64"
      ]
     },
     "execution_count": 37,
     "metadata": {},
     "output_type": "execute_result"
    }
   ],
   "source": [
    "# verify that all are unique\n",
    "coupon_item_map_df[coupon_item_map_df['coupon_id'] == 32][['item_id']].nunique()"
   ]
  },
  {
   "cell_type": "code",
   "execution_count": 38,
   "metadata": {},
   "outputs": [
    {
     "data": {
      "text/html": [
       "<div>\n",
       "<style scoped>\n",
       "    .dataframe tbody tr th:only-of-type {\n",
       "        vertical-align: middle;\n",
       "    }\n",
       "\n",
       "    .dataframe tbody tr th {\n",
       "        vertical-align: top;\n",
       "    }\n",
       "\n",
       "    .dataframe thead th {\n",
       "        text-align: right;\n",
       "    }\n",
       "</style>\n",
       "<table border=\"1\" class=\"dataframe\">\n",
       "  <thead>\n",
       "    <tr style=\"text-align: right;\">\n",
       "      <th></th>\n",
       "      <th>item_id</th>\n",
       "    </tr>\n",
       "  </thead>\n",
       "  <tbody>\n",
       "    <tr>\n",
       "      <th>count</th>\n",
       "      <td>1116.000000</td>\n",
       "    </tr>\n",
       "    <tr>\n",
       "      <th>mean</th>\n",
       "      <td>83.031362</td>\n",
       "    </tr>\n",
       "    <tr>\n",
       "      <th>std</th>\n",
       "      <td>633.143339</td>\n",
       "    </tr>\n",
       "    <tr>\n",
       "      <th>min</th>\n",
       "      <td>1.000000</td>\n",
       "    </tr>\n",
       "    <tr>\n",
       "      <th>25%</th>\n",
       "      <td>5.000000</td>\n",
       "    </tr>\n",
       "    <tr>\n",
       "      <th>50%</th>\n",
       "      <td>10.000000</td>\n",
       "    </tr>\n",
       "    <tr>\n",
       "      <th>75%</th>\n",
       "      <td>24.000000</td>\n",
       "    </tr>\n",
       "    <tr>\n",
       "      <th>max</th>\n",
       "      <td>11814.000000</td>\n",
       "    </tr>\n",
       "  </tbody>\n",
       "</table>\n",
       "</div>"
      ],
      "text/plain": [
       "            item_id\n",
       "count   1116.000000\n",
       "mean      83.031362\n",
       "std      633.143339\n",
       "min        1.000000\n",
       "25%        5.000000\n",
       "50%       10.000000\n",
       "75%       24.000000\n",
       "max    11814.000000"
      ]
     },
     "execution_count": 38,
     "metadata": {},
     "output_type": "execute_result"
    }
   ],
   "source": [
    "items_gby_coupon_df.describe()"
   ]
  },
  {
   "cell_type": "code",
   "execution_count": 39,
   "metadata": {},
   "outputs": [
    {
     "data": {
      "text/plain": [
       "(1116, 1)"
      ]
     },
     "execution_count": 39,
     "metadata": {},
     "output_type": "execute_result"
    }
   ],
   "source": [
    "items_gby_coupon_df.shape"
   ]
  },
  {
   "cell_type": "markdown",
   "metadata": {},
   "source": [
    "--------"
   ]
  },
  {
   "cell_type": "code",
   "execution_count": 40,
   "metadata": {},
   "outputs": [],
   "source": [
    "coupon_groupby_items_df = coupon_item_map_df.groupby('item_id')[['coupon_id']].count()"
   ]
  },
  {
   "cell_type": "code",
   "execution_count": 41,
   "metadata": {},
   "outputs": [
    {
     "data": {
      "text/html": [
       "<div>\n",
       "<style scoped>\n",
       "    .dataframe tbody tr th:only-of-type {\n",
       "        vertical-align: middle;\n",
       "    }\n",
       "\n",
       "    .dataframe tbody tr th {\n",
       "        vertical-align: top;\n",
       "    }\n",
       "\n",
       "    .dataframe thead th {\n",
       "        text-align: right;\n",
       "    }\n",
       "</style>\n",
       "<table border=\"1\" class=\"dataframe\">\n",
       "  <thead>\n",
       "    <tr style=\"text-align: right;\">\n",
       "      <th></th>\n",
       "      <th>coupon_id</th>\n",
       "    </tr>\n",
       "    <tr>\n",
       "      <th>item_id</th>\n",
       "      <th></th>\n",
       "    </tr>\n",
       "  </thead>\n",
       "  <tbody>\n",
       "    <tr>\n",
       "      <th>1</th>\n",
       "      <td>2</td>\n",
       "    </tr>\n",
       "    <tr>\n",
       "      <th>4</th>\n",
       "      <td>3</td>\n",
       "    </tr>\n",
       "    <tr>\n",
       "      <th>7</th>\n",
       "      <td>2</td>\n",
       "    </tr>\n",
       "    <tr>\n",
       "      <th>10</th>\n",
       "      <td>4</td>\n",
       "    </tr>\n",
       "    <tr>\n",
       "      <th>12</th>\n",
       "      <td>2</td>\n",
       "    </tr>\n",
       "  </tbody>\n",
       "</table>\n",
       "</div>"
      ],
      "text/plain": [
       "         coupon_id\n",
       "item_id           \n",
       "1                2\n",
       "4                3\n",
       "7                2\n",
       "10               4\n",
       "12               2"
      ]
     },
     "execution_count": 41,
     "metadata": {},
     "output_type": "execute_result"
    }
   ],
   "source": [
    "coupon_groupby_items_df.head()"
   ]
  },
  {
   "cell_type": "code",
   "execution_count": 42,
   "metadata": {},
   "outputs": [
    {
     "data": {
      "text/plain": [
       "(3, 2)"
      ]
     },
     "execution_count": 42,
     "metadata": {},
     "output_type": "execute_result"
    }
   ],
   "source": [
    "# verification for below\n",
    "coupon_item_map_df[coupon_item_map_df['item_id'] == 4].shape"
   ]
  },
  {
   "cell_type": "code",
   "execution_count": 43,
   "metadata": {},
   "outputs": [
    {
     "data": {
      "text/html": [
       "<div>\n",
       "<style scoped>\n",
       "    .dataframe tbody tr th:only-of-type {\n",
       "        vertical-align: middle;\n",
       "    }\n",
       "\n",
       "    .dataframe tbody tr th {\n",
       "        vertical-align: top;\n",
       "    }\n",
       "\n",
       "    .dataframe thead th {\n",
       "        text-align: right;\n",
       "    }\n",
       "</style>\n",
       "<table border=\"1\" class=\"dataframe\">\n",
       "  <thead>\n",
       "    <tr style=\"text-align: right;\">\n",
       "      <th></th>\n",
       "      <th>coupon_id</th>\n",
       "    </tr>\n",
       "    <tr>\n",
       "      <th>item_id</th>\n",
       "      <th></th>\n",
       "    </tr>\n",
       "  </thead>\n",
       "  <tbody>\n",
       "    <tr>\n",
       "      <th>1</th>\n",
       "      <td>2</td>\n",
       "    </tr>\n",
       "    <tr>\n",
       "      <th>4</th>\n",
       "      <td>3</td>\n",
       "    </tr>\n",
       "    <tr>\n",
       "      <th>7</th>\n",
       "      <td>2</td>\n",
       "    </tr>\n",
       "    <tr>\n",
       "      <th>10</th>\n",
       "      <td>4</td>\n",
       "    </tr>\n",
       "    <tr>\n",
       "      <th>12</th>\n",
       "      <td>2</td>\n",
       "    </tr>\n",
       "  </tbody>\n",
       "</table>\n",
       "</div>"
      ],
      "text/plain": [
       "         coupon_id\n",
       "item_id           \n",
       "1                2\n",
       "4                3\n",
       "7                2\n",
       "10               4\n",
       "12               2"
      ]
     },
     "execution_count": 43,
     "metadata": {},
     "output_type": "execute_result"
    }
   ],
   "source": [
    "coupon_groupby_items_df.head()"
   ]
  },
  {
   "cell_type": "code",
   "execution_count": 44,
   "metadata": {},
   "outputs": [
    {
     "data": {
      "text/plain": [
       "coupon_id    4\n",
       "dtype: int64"
      ]
     },
     "execution_count": 44,
     "metadata": {},
     "output_type": "execute_result"
    }
   ],
   "source": [
    "# verify that all are unique\n",
    "coupon_item_map_df[coupon_item_map_df['item_id'] == 10][['coupon_id']].nunique()"
   ]
  },
  {
   "cell_type": "code",
   "execution_count": 45,
   "metadata": {},
   "outputs": [
    {
     "data": {
      "text/plain": [
       "(36289, 1)"
      ]
     },
     "execution_count": 45,
     "metadata": {},
     "output_type": "execute_result"
    }
   ],
   "source": [
    "coupon_groupby_items_df.shape"
   ]
  },
  {
   "cell_type": "code",
   "execution_count": 46,
   "metadata": {},
   "outputs": [
    {
     "data": {
      "text/html": [
       "<div>\n",
       "<style scoped>\n",
       "    .dataframe tbody tr th:only-of-type {\n",
       "        vertical-align: middle;\n",
       "    }\n",
       "\n",
       "    .dataframe tbody tr th {\n",
       "        vertical-align: top;\n",
       "    }\n",
       "\n",
       "    .dataframe thead th {\n",
       "        text-align: right;\n",
       "    }\n",
       "</style>\n",
       "<table border=\"1\" class=\"dataframe\">\n",
       "  <thead>\n",
       "    <tr style=\"text-align: right;\">\n",
       "      <th></th>\n",
       "      <th>coupon_id</th>\n",
       "    </tr>\n",
       "  </thead>\n",
       "  <tbody>\n",
       "    <tr>\n",
       "      <th>count</th>\n",
       "      <td>36289.000000</td>\n",
       "    </tr>\n",
       "    <tr>\n",
       "      <th>mean</th>\n",
       "      <td>2.553474</td>\n",
       "    </tr>\n",
       "    <tr>\n",
       "      <th>std</th>\n",
       "      <td>1.166767</td>\n",
       "    </tr>\n",
       "    <tr>\n",
       "      <th>min</th>\n",
       "      <td>1.000000</td>\n",
       "    </tr>\n",
       "    <tr>\n",
       "      <th>25%</th>\n",
       "      <td>2.000000</td>\n",
       "    </tr>\n",
       "    <tr>\n",
       "      <th>50%</th>\n",
       "      <td>2.000000</td>\n",
       "    </tr>\n",
       "    <tr>\n",
       "      <th>75%</th>\n",
       "      <td>3.000000</td>\n",
       "    </tr>\n",
       "    <tr>\n",
       "      <th>max</th>\n",
       "      <td>11.000000</td>\n",
       "    </tr>\n",
       "  </tbody>\n",
       "</table>\n",
       "</div>"
      ],
      "text/plain": [
       "          coupon_id\n",
       "count  36289.000000\n",
       "mean       2.553474\n",
       "std        1.166767\n",
       "min        1.000000\n",
       "25%        2.000000\n",
       "50%        2.000000\n",
       "75%        3.000000\n",
       "max       11.000000"
      ]
     },
     "execution_count": 46,
     "metadata": {},
     "output_type": "execute_result"
    }
   ],
   "source": [
    "coupon_groupby_items_df.describe()"
   ]
  },
  {
   "cell_type": "markdown",
   "metadata": {},
   "source": [
    "#### Observations\n",
    "\n",
    "- Some coupons have as many as 11800 items under them\n",
    "- Average items a coupon has are 83\n",
    "- There are a total of 36289 items which get featured in coupons\n",
    "\n",
    "- Some items appear in as 11 coupons\n",
    "- Average item gets featured in 2-3 coupons\n",
    "- Total number of coupons are 1116"
   ]
  },
  {
   "cell_type": "markdown",
   "metadata": {},
   "source": [
    "### Customer Demographics Data"
   ]
  },
  {
   "cell_type": "code",
   "execution_count": 47,
   "metadata": {},
   "outputs": [],
   "source": [
    "customer_demographics_df = pd.read_csv(os.path.join(DATA_DIR, 'customer_demographics.csv'))"
   ]
  },
  {
   "cell_type": "code",
   "execution_count": 48,
   "metadata": {},
   "outputs": [
    {
     "data": {
      "text/html": [
       "<div>\n",
       "<style scoped>\n",
       "    .dataframe tbody tr th:only-of-type {\n",
       "        vertical-align: middle;\n",
       "    }\n",
       "\n",
       "    .dataframe tbody tr th {\n",
       "        vertical-align: top;\n",
       "    }\n",
       "\n",
       "    .dataframe thead th {\n",
       "        text-align: right;\n",
       "    }\n",
       "</style>\n",
       "<table border=\"1\" class=\"dataframe\">\n",
       "  <thead>\n",
       "    <tr style=\"text-align: right;\">\n",
       "      <th></th>\n",
       "      <th>customer_id</th>\n",
       "      <th>age_range</th>\n",
       "      <th>marital_status</th>\n",
       "      <th>rented</th>\n",
       "      <th>family_size</th>\n",
       "      <th>no_of_children</th>\n",
       "      <th>income_bracket</th>\n",
       "    </tr>\n",
       "  </thead>\n",
       "  <tbody>\n",
       "    <tr>\n",
       "      <th>0</th>\n",
       "      <td>1</td>\n",
       "      <td>70+</td>\n",
       "      <td>Married</td>\n",
       "      <td>0</td>\n",
       "      <td>2</td>\n",
       "      <td>NaN</td>\n",
       "      <td>4</td>\n",
       "    </tr>\n",
       "    <tr>\n",
       "      <th>1</th>\n",
       "      <td>6</td>\n",
       "      <td>46-55</td>\n",
       "      <td>Married</td>\n",
       "      <td>0</td>\n",
       "      <td>2</td>\n",
       "      <td>NaN</td>\n",
       "      <td>5</td>\n",
       "    </tr>\n",
       "    <tr>\n",
       "      <th>2</th>\n",
       "      <td>7</td>\n",
       "      <td>26-35</td>\n",
       "      <td>NaN</td>\n",
       "      <td>0</td>\n",
       "      <td>3</td>\n",
       "      <td>1</td>\n",
       "      <td>3</td>\n",
       "    </tr>\n",
       "    <tr>\n",
       "      <th>3</th>\n",
       "      <td>8</td>\n",
       "      <td>26-35</td>\n",
       "      <td>NaN</td>\n",
       "      <td>0</td>\n",
       "      <td>4</td>\n",
       "      <td>2</td>\n",
       "      <td>6</td>\n",
       "    </tr>\n",
       "    <tr>\n",
       "      <th>4</th>\n",
       "      <td>10</td>\n",
       "      <td>46-55</td>\n",
       "      <td>Single</td>\n",
       "      <td>0</td>\n",
       "      <td>1</td>\n",
       "      <td>NaN</td>\n",
       "      <td>5</td>\n",
       "    </tr>\n",
       "  </tbody>\n",
       "</table>\n",
       "</div>"
      ],
      "text/plain": [
       "   customer_id age_range marital_status  rented family_size no_of_children  \\\n",
       "0            1       70+        Married       0           2            NaN   \n",
       "1            6     46-55        Married       0           2            NaN   \n",
       "2            7     26-35            NaN       0           3              1   \n",
       "3            8     26-35            NaN       0           4              2   \n",
       "4           10     46-55         Single       0           1            NaN   \n",
       "\n",
       "   income_bracket  \n",
       "0               4  \n",
       "1               5  \n",
       "2               3  \n",
       "3               6  \n",
       "4               5  "
      ]
     },
     "execution_count": 48,
     "metadata": {},
     "output_type": "execute_result"
    }
   ],
   "source": [
    "customer_demographics_df.head()"
   ]
  },
  {
   "cell_type": "code",
   "execution_count": 49,
   "metadata": {},
   "outputs": [
    {
     "data": {
      "text/plain": [
       "array(['70+', '46-55', '26-35', '36-45', '18-25', '56-70'], dtype=object)"
      ]
     },
     "execution_count": 49,
     "metadata": {},
     "output_type": "execute_result"
    }
   ],
   "source": [
    "customer_demographics_df['age_range'].unique()"
   ]
  },
  {
   "cell_type": "code",
   "execution_count": 50,
   "metadata": {},
   "outputs": [
    {
     "data": {
      "text/plain": [
       "array(['Married', nan, 'Single'], dtype=object)"
      ]
     },
     "execution_count": 50,
     "metadata": {},
     "output_type": "execute_result"
    }
   ],
   "source": [
    "customer_demographics_df['marital_status'].unique()"
   ]
  },
  {
   "cell_type": "code",
   "execution_count": 51,
   "metadata": {},
   "outputs": [
    {
     "data": {
      "text/plain": [
       "customer_id         0\n",
       "age_range           0\n",
       "marital_status    329\n",
       "rented              0\n",
       "family_size         0\n",
       "no_of_children    538\n",
       "income_bracket      0\n",
       "dtype: int64"
      ]
     },
     "execution_count": 51,
     "metadata": {},
     "output_type": "execute_result"
    }
   ],
   "source": [
    "customer_demographics_df.isnull().sum()"
   ]
  },
  {
   "cell_type": "code",
   "execution_count": 52,
   "metadata": {},
   "outputs": [
    {
     "data": {
      "text/plain": [
       "(760, 7)"
      ]
     },
     "execution_count": 52,
     "metadata": {},
     "output_type": "execute_result"
    }
   ],
   "source": [
    "customer_demographics_df.shape"
   ]
  },
  {
   "cell_type": "code",
   "execution_count": 53,
   "metadata": {},
   "outputs": [
    {
     "data": {
      "text/plain": [
       "array([0, 1])"
      ]
     },
     "execution_count": 53,
     "metadata": {},
     "output_type": "execute_result"
    }
   ],
   "source": [
    "customer_demographics_df['rented'].unique()"
   ]
  },
  {
   "cell_type": "code",
   "execution_count": 54,
   "metadata": {},
   "outputs": [
    {
     "data": {
      "text/plain": [
       "array(['2', '3', '4', '1', '5+'], dtype=object)"
      ]
     },
     "execution_count": 54,
     "metadata": {},
     "output_type": "execute_result"
    }
   ],
   "source": [
    "customer_demographics_df['family_size'].unique()"
   ]
  },
  {
   "cell_type": "code",
   "execution_count": 55,
   "metadata": {},
   "outputs": [
    {
     "data": {
      "text/plain": [
       "(719, 7)"
      ]
     },
     "execution_count": 55,
     "metadata": {},
     "output_type": "execute_result"
    }
   ],
   "source": [
    "customer_demographics_df[customer_demographics_df['rented'] == 0].shape"
   ]
  },
  {
   "cell_type": "code",
   "execution_count": 56,
   "metadata": {},
   "outputs": [
    {
     "data": {
      "text/plain": [
       "(41, 7)"
      ]
     },
     "execution_count": 56,
     "metadata": {},
     "output_type": "execute_result"
    }
   ],
   "source": [
    "customer_demographics_df[customer_demographics_df['rented'] == 1].shape"
   ]
  },
  {
   "cell_type": "code",
   "execution_count": 57,
   "metadata": {},
   "outputs": [
    {
     "data": {
      "text/plain": [
       "array([ 4,  5,  3,  6,  1,  7,  2,  8,  9, 12, 10, 11])"
      ]
     },
     "execution_count": 57,
     "metadata": {},
     "output_type": "execute_result"
    }
   ],
   "source": [
    "customer_demographics_df['income_bracket'].unique()"
   ]
  },
  {
   "cell_type": "markdown",
   "metadata": {},
   "source": [
    "#### Observations\n",
    "\n",
    "- 760 customers' data is there\n",
    "- Age ranges from 18 to 70+ \n",
    "- Age range is categorical but there's an inherent order so we need to change it to an ordered variable\n",
    "- Marital status has NaN for many\n",
    "- Very few customers have rented recommendations. Most have it bought! No particular correlation of such folks with their family size or no_of_children as such\n",
    "- Income bracket goes from 1 to 11. 11 being highest!\n",
    "- Family size is 1,2,3,4,5+ --- hence categorical\n",
    "\n",
    "\n",
    "#### Actions\n",
    "- Family size mein 5+ can be changed to just 5. So, it can be treated as an ordial number\n",
    "- Try removing marital status from data? Does it affect negatively?\n",
    "- Try removing no_of_children from data? Does it affect negatively?\n",
    "- Somehow incorporate both and see"
   ]
  },
  {
   "cell_type": "markdown",
   "metadata": {},
   "source": [
    "### Customer Transaction Data"
   ]
  },
  {
   "cell_type": "code",
   "execution_count": 58,
   "metadata": {},
   "outputs": [],
   "source": [
    "customer_transaction_df = pd.read_csv(os.path.join(DATA_DIR, 'customer_transaction_data.csv'), parse_dates=['date'], dayfirst=True)"
   ]
  },
  {
   "cell_type": "code",
   "execution_count": 59,
   "metadata": {},
   "outputs": [
    {
     "data": {
      "text/html": [
       "<div>\n",
       "<style scoped>\n",
       "    .dataframe tbody tr th:only-of-type {\n",
       "        vertical-align: middle;\n",
       "    }\n",
       "\n",
       "    .dataframe tbody tr th {\n",
       "        vertical-align: top;\n",
       "    }\n",
       "\n",
       "    .dataframe thead th {\n",
       "        text-align: right;\n",
       "    }\n",
       "</style>\n",
       "<table border=\"1\" class=\"dataframe\">\n",
       "  <thead>\n",
       "    <tr style=\"text-align: right;\">\n",
       "      <th></th>\n",
       "      <th>date</th>\n",
       "      <th>customer_id</th>\n",
       "      <th>item_id</th>\n",
       "      <th>quantity</th>\n",
       "      <th>selling_price</th>\n",
       "      <th>other_discount</th>\n",
       "      <th>coupon_discount</th>\n",
       "    </tr>\n",
       "  </thead>\n",
       "  <tbody>\n",
       "    <tr>\n",
       "      <th>0</th>\n",
       "      <td>2012-01-02</td>\n",
       "      <td>1501</td>\n",
       "      <td>26830</td>\n",
       "      <td>1</td>\n",
       "      <td>35.26</td>\n",
       "      <td>-10.69</td>\n",
       "      <td>0.0</td>\n",
       "    </tr>\n",
       "    <tr>\n",
       "      <th>1</th>\n",
       "      <td>2012-01-02</td>\n",
       "      <td>1501</td>\n",
       "      <td>54253</td>\n",
       "      <td>1</td>\n",
       "      <td>53.43</td>\n",
       "      <td>-13.89</td>\n",
       "      <td>0.0</td>\n",
       "    </tr>\n",
       "    <tr>\n",
       "      <th>2</th>\n",
       "      <td>2012-01-02</td>\n",
       "      <td>1501</td>\n",
       "      <td>31962</td>\n",
       "      <td>1</td>\n",
       "      <td>106.50</td>\n",
       "      <td>-14.25</td>\n",
       "      <td>0.0</td>\n",
       "    </tr>\n",
       "    <tr>\n",
       "      <th>3</th>\n",
       "      <td>2012-01-02</td>\n",
       "      <td>1501</td>\n",
       "      <td>33647</td>\n",
       "      <td>1</td>\n",
       "      <td>67.32</td>\n",
       "      <td>0.00</td>\n",
       "      <td>0.0</td>\n",
       "    </tr>\n",
       "    <tr>\n",
       "      <th>4</th>\n",
       "      <td>2012-01-02</td>\n",
       "      <td>1501</td>\n",
       "      <td>48199</td>\n",
       "      <td>1</td>\n",
       "      <td>71.24</td>\n",
       "      <td>-28.14</td>\n",
       "      <td>0.0</td>\n",
       "    </tr>\n",
       "  </tbody>\n",
       "</table>\n",
       "</div>"
      ],
      "text/plain": [
       "        date  customer_id  item_id  quantity  selling_price  other_discount  \\\n",
       "0 2012-01-02         1501    26830         1          35.26          -10.69   \n",
       "1 2012-01-02         1501    54253         1          53.43          -13.89   \n",
       "2 2012-01-02         1501    31962         1         106.50          -14.25   \n",
       "3 2012-01-02         1501    33647         1          67.32            0.00   \n",
       "4 2012-01-02         1501    48199         1          71.24          -28.14   \n",
       "\n",
       "   coupon_discount  \n",
       "0              0.0  \n",
       "1              0.0  \n",
       "2              0.0  \n",
       "3              0.0  \n",
       "4              0.0  "
      ]
     },
     "execution_count": 59,
     "metadata": {},
     "output_type": "execute_result"
    }
   ],
   "source": [
    "customer_transaction_df.head()"
   ]
  },
  {
   "cell_type": "code",
   "execution_count": 60,
   "metadata": {},
   "outputs": [
    {
     "name": "stdout",
     "output_type": "stream",
     "text": [
      "<class 'pandas.core.frame.DataFrame'>\n",
      "RangeIndex: 1324566 entries, 0 to 1324565\n",
      "Data columns (total 7 columns):\n",
      "date               1324566 non-null datetime64[ns]\n",
      "customer_id        1324566 non-null int64\n",
      "item_id            1324566 non-null int64\n",
      "quantity           1324566 non-null int64\n",
      "selling_price      1324566 non-null float64\n",
      "other_discount     1324566 non-null float64\n",
      "coupon_discount    1324566 non-null float64\n",
      "dtypes: datetime64[ns](1), float64(3), int64(3)\n",
      "memory usage: 70.7 MB\n"
     ]
    }
   ],
   "source": [
    "customer_transaction_df.info()"
   ]
  },
  {
   "cell_type": "code",
   "execution_count": 61,
   "metadata": {},
   "outputs": [
    {
     "data": {
      "text/plain": [
       "(Timestamp('2012-01-02 00:00:00'), Timestamp('2013-07-03 00:00:00'))"
      ]
     },
     "execution_count": 61,
     "metadata": {},
     "output_type": "execute_result"
    }
   ],
   "source": [
    "customer_transaction_df['date'].min(), customer_transaction_df['date'].max()"
   ]
  },
  {
   "cell_type": "code",
   "execution_count": 62,
   "metadata": {},
   "outputs": [
    {
     "data": {
      "text/plain": [
       "1582"
      ]
     },
     "execution_count": 62,
     "metadata": {},
     "output_type": "execute_result"
    }
   ],
   "source": [
    "customer_transaction_df['customer_id'].nunique()"
   ]
  },
  {
   "cell_type": "code",
   "execution_count": 63,
   "metadata": {},
   "outputs": [
    {
     "data": {
      "text/plain": [
       "74063"
      ]
     },
     "execution_count": 63,
     "metadata": {},
     "output_type": "execute_result"
    }
   ],
   "source": [
    "customer_transaction_df['item_id'].nunique()"
   ]
  },
  {
   "cell_type": "code",
   "execution_count": 64,
   "metadata": {},
   "outputs": [
    {
     "data": {
      "text/plain": [
       "(1324566, 7)"
      ]
     },
     "execution_count": 64,
     "metadata": {},
     "output_type": "execute_result"
    }
   ],
   "source": [
    "customer_transaction_df.shape"
   ]
  },
  {
   "cell_type": "code",
   "execution_count": 65,
   "metadata": {},
   "outputs": [],
   "source": [
    "customer_transaction_gby_customer_df = customer_transaction_df.groupby('customer_id')[['item_id']].count()"
   ]
  },
  {
   "cell_type": "code",
   "execution_count": 66,
   "metadata": {
    "scrolled": true
   },
   "outputs": [
    {
     "data": {
      "text/html": [
       "<div>\n",
       "<style scoped>\n",
       "    .dataframe tbody tr th:only-of-type {\n",
       "        vertical-align: middle;\n",
       "    }\n",
       "\n",
       "    .dataframe tbody tr th {\n",
       "        vertical-align: top;\n",
       "    }\n",
       "\n",
       "    .dataframe thead th {\n",
       "        text-align: right;\n",
       "    }\n",
       "</style>\n",
       "<table border=\"1\" class=\"dataframe\">\n",
       "  <thead>\n",
       "    <tr style=\"text-align: right;\">\n",
       "      <th></th>\n",
       "      <th>item_id</th>\n",
       "    </tr>\n",
       "    <tr>\n",
       "      <th>customer_id</th>\n",
       "      <th></th>\n",
       "    </tr>\n",
       "  </thead>\n",
       "  <tbody>\n",
       "    <tr>\n",
       "      <th>1555</th>\n",
       "      <td>4522</td>\n",
       "    </tr>\n",
       "    <tr>\n",
       "      <th>711</th>\n",
       "      <td>4173</td>\n",
       "    </tr>\n",
       "    <tr>\n",
       "      <th>464</th>\n",
       "      <td>4134</td>\n",
       "    </tr>\n",
       "    <tr>\n",
       "      <th>1475</th>\n",
       "      <td>3945</td>\n",
       "    </tr>\n",
       "    <tr>\n",
       "      <th>1011</th>\n",
       "      <td>3862</td>\n",
       "    </tr>\n",
       "    <tr>\n",
       "      <th>911</th>\n",
       "      <td>3600</td>\n",
       "    </tr>\n",
       "    <tr>\n",
       "      <th>1466</th>\n",
       "      <td>3443</td>\n",
       "    </tr>\n",
       "    <tr>\n",
       "      <th>627</th>\n",
       "      <td>3429</td>\n",
       "    </tr>\n",
       "    <tr>\n",
       "      <th>60</th>\n",
       "      <td>3328</td>\n",
       "    </tr>\n",
       "    <tr>\n",
       "      <th>898</th>\n",
       "      <td>3248</td>\n",
       "    </tr>\n",
       "    <tr>\n",
       "      <th>934</th>\n",
       "      <td>3126</td>\n",
       "    </tr>\n",
       "    <tr>\n",
       "      <th>239</th>\n",
       "      <td>3123</td>\n",
       "    </tr>\n",
       "    <tr>\n",
       "      <th>1485</th>\n",
       "      <td>2917</td>\n",
       "    </tr>\n",
       "    <tr>\n",
       "      <th>161</th>\n",
       "      <td>2858</td>\n",
       "    </tr>\n",
       "    <tr>\n",
       "      <th>626</th>\n",
       "      <td>2831</td>\n",
       "    </tr>\n",
       "    <tr>\n",
       "      <th>208</th>\n",
       "      <td>2828</td>\n",
       "    </tr>\n",
       "    <tr>\n",
       "      <th>1444</th>\n",
       "      <td>2825</td>\n",
       "    </tr>\n",
       "    <tr>\n",
       "      <th>1033</th>\n",
       "      <td>2816</td>\n",
       "    </tr>\n",
       "    <tr>\n",
       "      <th>1337</th>\n",
       "      <td>2809</td>\n",
       "    </tr>\n",
       "    <tr>\n",
       "      <th>1463</th>\n",
       "      <td>2800</td>\n",
       "    </tr>\n",
       "    <tr>\n",
       "      <th>259</th>\n",
       "      <td>2748</td>\n",
       "    </tr>\n",
       "    <tr>\n",
       "      <th>1023</th>\n",
       "      <td>2736</td>\n",
       "    </tr>\n",
       "    <tr>\n",
       "      <th>1558</th>\n",
       "      <td>2727</td>\n",
       "    </tr>\n",
       "    <tr>\n",
       "      <th>1152</th>\n",
       "      <td>2714</td>\n",
       "    </tr>\n",
       "    <tr>\n",
       "      <th>150</th>\n",
       "      <td>2712</td>\n",
       "    </tr>\n",
       "    <tr>\n",
       "      <th>1451</th>\n",
       "      <td>2680</td>\n",
       "    </tr>\n",
       "    <tr>\n",
       "      <th>379</th>\n",
       "      <td>2672</td>\n",
       "    </tr>\n",
       "    <tr>\n",
       "      <th>1566</th>\n",
       "      <td>2661</td>\n",
       "    </tr>\n",
       "    <tr>\n",
       "      <th>566</th>\n",
       "      <td>2654</td>\n",
       "    </tr>\n",
       "    <tr>\n",
       "      <th>78</th>\n",
       "      <td>2648</td>\n",
       "    </tr>\n",
       "    <tr>\n",
       "      <th>...</th>\n",
       "      <td>...</td>\n",
       "    </tr>\n",
       "    <tr>\n",
       "      <th>1540</th>\n",
       "      <td>147</td>\n",
       "    </tr>\n",
       "    <tr>\n",
       "      <th>897</th>\n",
       "      <td>144</td>\n",
       "    </tr>\n",
       "    <tr>\n",
       "      <th>115</th>\n",
       "      <td>144</td>\n",
       "    </tr>\n",
       "    <tr>\n",
       "      <th>1277</th>\n",
       "      <td>142</td>\n",
       "    </tr>\n",
       "    <tr>\n",
       "      <th>589</th>\n",
       "      <td>141</td>\n",
       "    </tr>\n",
       "    <tr>\n",
       "      <th>996</th>\n",
       "      <td>138</td>\n",
       "    </tr>\n",
       "    <tr>\n",
       "      <th>991</th>\n",
       "      <td>137</td>\n",
       "    </tr>\n",
       "    <tr>\n",
       "      <th>1325</th>\n",
       "      <td>136</td>\n",
       "    </tr>\n",
       "    <tr>\n",
       "      <th>425</th>\n",
       "      <td>136</td>\n",
       "    </tr>\n",
       "    <tr>\n",
       "      <th>1288</th>\n",
       "      <td>133</td>\n",
       "    </tr>\n",
       "    <tr>\n",
       "      <th>1569</th>\n",
       "      <td>126</td>\n",
       "    </tr>\n",
       "    <tr>\n",
       "      <th>1175</th>\n",
       "      <td>123</td>\n",
       "    </tr>\n",
       "    <tr>\n",
       "      <th>171</th>\n",
       "      <td>120</td>\n",
       "    </tr>\n",
       "    <tr>\n",
       "      <th>1513</th>\n",
       "      <td>120</td>\n",
       "    </tr>\n",
       "    <tr>\n",
       "      <th>1221</th>\n",
       "      <td>119</td>\n",
       "    </tr>\n",
       "    <tr>\n",
       "      <th>818</th>\n",
       "      <td>117</td>\n",
       "    </tr>\n",
       "    <tr>\n",
       "      <th>26</th>\n",
       "      <td>110</td>\n",
       "    </tr>\n",
       "    <tr>\n",
       "      <th>662</th>\n",
       "      <td>110</td>\n",
       "    </tr>\n",
       "    <tr>\n",
       "      <th>261</th>\n",
       "      <td>110</td>\n",
       "    </tr>\n",
       "    <tr>\n",
       "      <th>893</th>\n",
       "      <td>109</td>\n",
       "    </tr>\n",
       "    <tr>\n",
       "      <th>1363</th>\n",
       "      <td>105</td>\n",
       "    </tr>\n",
       "    <tr>\n",
       "      <th>285</th>\n",
       "      <td>104</td>\n",
       "    </tr>\n",
       "    <tr>\n",
       "      <th>542</th>\n",
       "      <td>103</td>\n",
       "    </tr>\n",
       "    <tr>\n",
       "      <th>850</th>\n",
       "      <td>102</td>\n",
       "    </tr>\n",
       "    <tr>\n",
       "      <th>794</th>\n",
       "      <td>88</td>\n",
       "    </tr>\n",
       "    <tr>\n",
       "      <th>1150</th>\n",
       "      <td>87</td>\n",
       "    </tr>\n",
       "    <tr>\n",
       "      <th>1180</th>\n",
       "      <td>83</td>\n",
       "    </tr>\n",
       "    <tr>\n",
       "      <th>406</th>\n",
       "      <td>83</td>\n",
       "    </tr>\n",
       "    <tr>\n",
       "      <th>907</th>\n",
       "      <td>80</td>\n",
       "    </tr>\n",
       "    <tr>\n",
       "      <th>1326</th>\n",
       "      <td>79</td>\n",
       "    </tr>\n",
       "  </tbody>\n",
       "</table>\n",
       "<p>1582 rows × 1 columns</p>\n",
       "</div>"
      ],
      "text/plain": [
       "             item_id\n",
       "customer_id         \n",
       "1555            4522\n",
       "711             4173\n",
       "464             4134\n",
       "1475            3945\n",
       "1011            3862\n",
       "911             3600\n",
       "1466            3443\n",
       "627             3429\n",
       "60              3328\n",
       "898             3248\n",
       "934             3126\n",
       "239             3123\n",
       "1485            2917\n",
       "161             2858\n",
       "626             2831\n",
       "208             2828\n",
       "1444            2825\n",
       "1033            2816\n",
       "1337            2809\n",
       "1463            2800\n",
       "259             2748\n",
       "1023            2736\n",
       "1558            2727\n",
       "1152            2714\n",
       "150             2712\n",
       "1451            2680\n",
       "379             2672\n",
       "1566            2661\n",
       "566             2654\n",
       "78              2648\n",
       "...              ...\n",
       "1540             147\n",
       "897              144\n",
       "115              144\n",
       "1277             142\n",
       "589              141\n",
       "996              138\n",
       "991              137\n",
       "1325             136\n",
       "425              136\n",
       "1288             133\n",
       "1569             126\n",
       "1175             123\n",
       "171              120\n",
       "1513             120\n",
       "1221             119\n",
       "818              117\n",
       "26               110\n",
       "662              110\n",
       "261              110\n",
       "893              109\n",
       "1363             105\n",
       "285              104\n",
       "542              103\n",
       "850              102\n",
       "794               88\n",
       "1150              87\n",
       "1180              83\n",
       "406               83\n",
       "907               80\n",
       "1326              79\n",
       "\n",
       "[1582 rows x 1 columns]"
      ]
     },
     "execution_count": 66,
     "metadata": {},
     "output_type": "execute_result"
    }
   ],
   "source": [
    "# most shopaholic users\n",
    "customer_transaction_gby_customer_df.sort_values(by='item_id', ascending=False)"
   ]
  },
  {
   "cell_type": "code",
   "execution_count": 67,
   "metadata": {},
   "outputs": [
    {
     "data": {
      "text/plain": [
       "(1582, 1)"
      ]
     },
     "execution_count": 67,
     "metadata": {},
     "output_type": "execute_result"
    }
   ],
   "source": [
    "customer_transaction_gby_customer_df.shape"
   ]
  },
  {
   "cell_type": "code",
   "execution_count": 68,
   "metadata": {},
   "outputs": [],
   "source": [
    "# popular items\n",
    "customer_transaction_gby_item_df = customer_transaction_df.groupby('item_id')[['customer_id']].count()"
   ]
  },
  {
   "cell_type": "code",
   "execution_count": 69,
   "metadata": {
    "scrolled": true
   },
   "outputs": [
    {
     "data": {
      "text/html": [
       "<div>\n",
       "<style scoped>\n",
       "    .dataframe tbody tr th:only-of-type {\n",
       "        vertical-align: middle;\n",
       "    }\n",
       "\n",
       "    .dataframe tbody tr th {\n",
       "        vertical-align: top;\n",
       "    }\n",
       "\n",
       "    .dataframe thead th {\n",
       "        text-align: right;\n",
       "    }\n",
       "</style>\n",
       "<table border=\"1\" class=\"dataframe\">\n",
       "  <thead>\n",
       "    <tr style=\"text-align: right;\">\n",
       "      <th></th>\n",
       "      <th>customer_id</th>\n",
       "    </tr>\n",
       "    <tr>\n",
       "      <th>item_id</th>\n",
       "      <th></th>\n",
       "    </tr>\n",
       "  </thead>\n",
       "  <tbody>\n",
       "    <tr>\n",
       "      <th>49009</th>\n",
       "      <td>13540</td>\n",
       "    </tr>\n",
       "    <tr>\n",
       "      <th>34047</th>\n",
       "      <td>6308</td>\n",
       "    </tr>\n",
       "    <tr>\n",
       "      <th>13174</th>\n",
       "      <td>3879</td>\n",
       "    </tr>\n",
       "    <tr>\n",
       "      <th>45502</th>\n",
       "      <td>3292</td>\n",
       "    </tr>\n",
       "    <tr>\n",
       "      <th>29847</th>\n",
       "      <td>2276</td>\n",
       "    </tr>\n",
       "    <tr>\n",
       "      <th>18156</th>\n",
       "      <td>2226</td>\n",
       "    </tr>\n",
       "    <tr>\n",
       "      <th>28633</th>\n",
       "      <td>2152</td>\n",
       "    </tr>\n",
       "    <tr>\n",
       "      <th>32991</th>\n",
       "      <td>2101</td>\n",
       "    </tr>\n",
       "    <tr>\n",
       "      <th>9281</th>\n",
       "      <td>2007</td>\n",
       "    </tr>\n",
       "    <tr>\n",
       "      <th>8525</th>\n",
       "      <td>1922</td>\n",
       "    </tr>\n",
       "    <tr>\n",
       "      <th>6958</th>\n",
       "      <td>1883</td>\n",
       "    </tr>\n",
       "    <tr>\n",
       "      <th>53517</th>\n",
       "      <td>1755</td>\n",
       "    </tr>\n",
       "    <tr>\n",
       "      <th>5798</th>\n",
       "      <td>1747</td>\n",
       "    </tr>\n",
       "    <tr>\n",
       "      <th>13774</th>\n",
       "      <td>1630</td>\n",
       "    </tr>\n",
       "    <tr>\n",
       "      <th>45372</th>\n",
       "      <td>1627</td>\n",
       "    </tr>\n",
       "    <tr>\n",
       "      <th>45539</th>\n",
       "      <td>1526</td>\n",
       "    </tr>\n",
       "    <tr>\n",
       "      <th>30518</th>\n",
       "      <td>1507</td>\n",
       "    </tr>\n",
       "    <tr>\n",
       "      <th>53521</th>\n",
       "      <td>1500</td>\n",
       "    </tr>\n",
       "    <tr>\n",
       "      <th>57632</th>\n",
       "      <td>1500</td>\n",
       "    </tr>\n",
       "    <tr>\n",
       "      <th>32573</th>\n",
       "      <td>1463</td>\n",
       "    </tr>\n",
       "    <tr>\n",
       "      <th>27054</th>\n",
       "      <td>1409</td>\n",
       "    </tr>\n",
       "    <tr>\n",
       "      <th>21813</th>\n",
       "      <td>1340</td>\n",
       "    </tr>\n",
       "    <tr>\n",
       "      <th>10673</th>\n",
       "      <td>1323</td>\n",
       "    </tr>\n",
       "    <tr>\n",
       "      <th>30293</th>\n",
       "      <td>1309</td>\n",
       "    </tr>\n",
       "    <tr>\n",
       "      <th>19632</th>\n",
       "      <td>1304</td>\n",
       "    </tr>\n",
       "    <tr>\n",
       "      <th>14172</th>\n",
       "      <td>1247</td>\n",
       "    </tr>\n",
       "    <tr>\n",
       "      <th>28939</th>\n",
       "      <td>1181</td>\n",
       "    </tr>\n",
       "    <tr>\n",
       "      <th>57921</th>\n",
       "      <td>1178</td>\n",
       "    </tr>\n",
       "    <tr>\n",
       "      <th>30851</th>\n",
       "      <td>1172</td>\n",
       "    </tr>\n",
       "    <tr>\n",
       "      <th>25377</th>\n",
       "      <td>1169</td>\n",
       "    </tr>\n",
       "    <tr>\n",
       "      <th>...</th>\n",
       "      <td>...</td>\n",
       "    </tr>\n",
       "    <tr>\n",
       "      <th>31308</th>\n",
       "      <td>1</td>\n",
       "    </tr>\n",
       "    <tr>\n",
       "      <th>31298</th>\n",
       "      <td>1</td>\n",
       "    </tr>\n",
       "    <tr>\n",
       "      <th>52903</th>\n",
       "      <td>1</td>\n",
       "    </tr>\n",
       "    <tr>\n",
       "      <th>52869</th>\n",
       "      <td>1</td>\n",
       "    </tr>\n",
       "    <tr>\n",
       "      <th>52902</th>\n",
       "      <td>1</td>\n",
       "    </tr>\n",
       "    <tr>\n",
       "      <th>52901</th>\n",
       "      <td>1</td>\n",
       "    </tr>\n",
       "    <tr>\n",
       "      <th>31233</th>\n",
       "      <td>1</td>\n",
       "    </tr>\n",
       "    <tr>\n",
       "      <th>52899</th>\n",
       "      <td>1</td>\n",
       "    </tr>\n",
       "    <tr>\n",
       "      <th>31238</th>\n",
       "      <td>1</td>\n",
       "    </tr>\n",
       "    <tr>\n",
       "      <th>31239</th>\n",
       "      <td>1</td>\n",
       "    </tr>\n",
       "    <tr>\n",
       "      <th>31245</th>\n",
       "      <td>1</td>\n",
       "    </tr>\n",
       "    <tr>\n",
       "      <th>31251</th>\n",
       "      <td>1</td>\n",
       "    </tr>\n",
       "    <tr>\n",
       "      <th>31260</th>\n",
       "      <td>1</td>\n",
       "    </tr>\n",
       "    <tr>\n",
       "      <th>31265</th>\n",
       "      <td>1</td>\n",
       "    </tr>\n",
       "    <tr>\n",
       "      <th>52890</th>\n",
       "      <td>1</td>\n",
       "    </tr>\n",
       "    <tr>\n",
       "      <th>52889</th>\n",
       "      <td>1</td>\n",
       "    </tr>\n",
       "    <tr>\n",
       "      <th>52888</th>\n",
       "      <td>1</td>\n",
       "    </tr>\n",
       "    <tr>\n",
       "      <th>31275</th>\n",
       "      <td>1</td>\n",
       "    </tr>\n",
       "    <tr>\n",
       "      <th>31281</th>\n",
       "      <td>1</td>\n",
       "    </tr>\n",
       "    <tr>\n",
       "      <th>31286</th>\n",
       "      <td>1</td>\n",
       "    </tr>\n",
       "    <tr>\n",
       "      <th>52879</th>\n",
       "      <td>1</td>\n",
       "    </tr>\n",
       "    <tr>\n",
       "      <th>31288</th>\n",
       "      <td>1</td>\n",
       "    </tr>\n",
       "    <tr>\n",
       "      <th>52877</th>\n",
       "      <td>1</td>\n",
       "    </tr>\n",
       "    <tr>\n",
       "      <th>31289</th>\n",
       "      <td>1</td>\n",
       "    </tr>\n",
       "    <tr>\n",
       "      <th>52875</th>\n",
       "      <td>1</td>\n",
       "    </tr>\n",
       "    <tr>\n",
       "      <th>31294</th>\n",
       "      <td>1</td>\n",
       "    </tr>\n",
       "    <tr>\n",
       "      <th>31295</th>\n",
       "      <td>1</td>\n",
       "    </tr>\n",
       "    <tr>\n",
       "      <th>52871</th>\n",
       "      <td>1</td>\n",
       "    </tr>\n",
       "    <tr>\n",
       "      <th>52870</th>\n",
       "      <td>1</td>\n",
       "    </tr>\n",
       "    <tr>\n",
       "      <th>74066</th>\n",
       "      <td>1</td>\n",
       "    </tr>\n",
       "  </tbody>\n",
       "</table>\n",
       "<p>74063 rows × 1 columns</p>\n",
       "</div>"
      ],
      "text/plain": [
       "         customer_id\n",
       "item_id             \n",
       "49009          13540\n",
       "34047           6308\n",
       "13174           3879\n",
       "45502           3292\n",
       "29847           2276\n",
       "18156           2226\n",
       "28633           2152\n",
       "32991           2101\n",
       "9281            2007\n",
       "8525            1922\n",
       "6958            1883\n",
       "53517           1755\n",
       "5798            1747\n",
       "13774           1630\n",
       "45372           1627\n",
       "45539           1526\n",
       "30518           1507\n",
       "53521           1500\n",
       "57632           1500\n",
       "32573           1463\n",
       "27054           1409\n",
       "21813           1340\n",
       "10673           1323\n",
       "30293           1309\n",
       "19632           1304\n",
       "14172           1247\n",
       "28939           1181\n",
       "57921           1178\n",
       "30851           1172\n",
       "25377           1169\n",
       "...              ...\n",
       "31308              1\n",
       "31298              1\n",
       "52903              1\n",
       "52869              1\n",
       "52902              1\n",
       "52901              1\n",
       "31233              1\n",
       "52899              1\n",
       "31238              1\n",
       "31239              1\n",
       "31245              1\n",
       "31251              1\n",
       "31260              1\n",
       "31265              1\n",
       "52890              1\n",
       "52889              1\n",
       "52888              1\n",
       "31275              1\n",
       "31281              1\n",
       "31286              1\n",
       "52879              1\n",
       "31288              1\n",
       "52877              1\n",
       "31289              1\n",
       "52875              1\n",
       "31294              1\n",
       "31295              1\n",
       "52871              1\n",
       "52870              1\n",
       "74066              1\n",
       "\n",
       "[74063 rows x 1 columns]"
      ]
     },
     "execution_count": 69,
     "metadata": {},
     "output_type": "execute_result"
    }
   ],
   "source": [
    "customer_transaction_gby_item_df.sort_values(by='customer_id', ascending=False)"
   ]
  },
  {
   "cell_type": "code",
   "execution_count": 70,
   "metadata": {},
   "outputs": [
    {
     "data": {
      "text/plain": [
       "(74063, 1)"
      ]
     },
     "execution_count": 70,
     "metadata": {},
     "output_type": "execute_result"
    }
   ],
   "source": [
    "customer_transaction_gby_item_df.shape"
   ]
  },
  {
   "cell_type": "markdown",
   "metadata": {},
   "source": [
    "---------------\n",
    "---------------"
   ]
  },
  {
   "cell_type": "code",
   "execution_count": 71,
   "metadata": {},
   "outputs": [],
   "source": [
    "customer_transactions_with_some_kind_of_discounts_df = customer_transaction_df[(customer_transaction_df['coupon_discount'] < 0) | (customer_transaction_df['other_discount'] < 0)]"
   ]
  },
  {
   "cell_type": "code",
   "execution_count": 72,
   "metadata": {},
   "outputs": [
    {
     "data": {
      "text/plain": [
       "(679316, 7)"
      ]
     },
     "execution_count": 72,
     "metadata": {},
     "output_type": "execute_result"
    }
   ],
   "source": [
    "customer_transactions_with_some_kind_of_discounts_df.shape"
   ]
  },
  {
   "cell_type": "code",
   "execution_count": 73,
   "metadata": {},
   "outputs": [],
   "source": [
    "customer_transaction_with_some_kind_of_discounts_gby_customer_df = customer_transactions_with_some_kind_of_discounts_df.groupby('customer_id')[['item_id']].count()"
   ]
  },
  {
   "cell_type": "code",
   "execution_count": 74,
   "metadata": {
    "scrolled": true
   },
   "outputs": [
    {
     "data": {
      "text/html": [
       "<div>\n",
       "<style scoped>\n",
       "    .dataframe tbody tr th:only-of-type {\n",
       "        vertical-align: middle;\n",
       "    }\n",
       "\n",
       "    .dataframe tbody tr th {\n",
       "        vertical-align: top;\n",
       "    }\n",
       "\n",
       "    .dataframe thead th {\n",
       "        text-align: right;\n",
       "    }\n",
       "</style>\n",
       "<table border=\"1\" class=\"dataframe\">\n",
       "  <thead>\n",
       "    <tr style=\"text-align: right;\">\n",
       "      <th></th>\n",
       "      <th>item_id</th>\n",
       "    </tr>\n",
       "    <tr>\n",
       "      <th>customer_id</th>\n",
       "      <th></th>\n",
       "    </tr>\n",
       "  </thead>\n",
       "  <tbody>\n",
       "    <tr>\n",
       "      <th>464</th>\n",
       "      <td>3397</td>\n",
       "    </tr>\n",
       "    <tr>\n",
       "      <th>1555</th>\n",
       "      <td>2647</td>\n",
       "    </tr>\n",
       "    <tr>\n",
       "      <th>934</th>\n",
       "      <td>1901</td>\n",
       "    </tr>\n",
       "    <tr>\n",
       "      <th>1115</th>\n",
       "      <td>1898</td>\n",
       "    </tr>\n",
       "    <tr>\n",
       "      <th>60</th>\n",
       "      <td>1889</td>\n",
       "    </tr>\n",
       "    <tr>\n",
       "      <th>1558</th>\n",
       "      <td>1888</td>\n",
       "    </tr>\n",
       "    <tr>\n",
       "      <th>1463</th>\n",
       "      <td>1818</td>\n",
       "    </tr>\n",
       "    <tr>\n",
       "      <th>150</th>\n",
       "      <td>1794</td>\n",
       "    </tr>\n",
       "    <tr>\n",
       "      <th>626</th>\n",
       "      <td>1720</td>\n",
       "    </tr>\n",
       "    <tr>\n",
       "      <th>1485</th>\n",
       "      <td>1654</td>\n",
       "    </tr>\n",
       "    <tr>\n",
       "      <th>711</th>\n",
       "      <td>1619</td>\n",
       "    </tr>\n",
       "    <tr>\n",
       "      <th>596</th>\n",
       "      <td>1609</td>\n",
       "    </tr>\n",
       "    <tr>\n",
       "      <th>239</th>\n",
       "      <td>1589</td>\n",
       "    </tr>\n",
       "    <tr>\n",
       "      <th>13</th>\n",
       "      <td>1587</td>\n",
       "    </tr>\n",
       "    <tr>\n",
       "      <th>250</th>\n",
       "      <td>1586</td>\n",
       "    </tr>\n",
       "    <tr>\n",
       "      <th>911</th>\n",
       "      <td>1578</td>\n",
       "    </tr>\n",
       "    <tr>\n",
       "      <th>1011</th>\n",
       "      <td>1550</td>\n",
       "    </tr>\n",
       "    <tr>\n",
       "      <th>1095</th>\n",
       "      <td>1546</td>\n",
       "    </tr>\n",
       "    <tr>\n",
       "      <th>1574</th>\n",
       "      <td>1542</td>\n",
       "    </tr>\n",
       "    <tr>\n",
       "      <th>1033</th>\n",
       "      <td>1539</td>\n",
       "    </tr>\n",
       "    <tr>\n",
       "      <th>566</th>\n",
       "      <td>1529</td>\n",
       "    </tr>\n",
       "    <tr>\n",
       "      <th>627</th>\n",
       "      <td>1523</td>\n",
       "    </tr>\n",
       "    <tr>\n",
       "      <th>161</th>\n",
       "      <td>1509</td>\n",
       "    </tr>\n",
       "    <tr>\n",
       "      <th>1023</th>\n",
       "      <td>1506</td>\n",
       "    </tr>\n",
       "    <tr>\n",
       "      <th>898</th>\n",
       "      <td>1501</td>\n",
       "    </tr>\n",
       "    <tr>\n",
       "      <th>1475</th>\n",
       "      <td>1486</td>\n",
       "    </tr>\n",
       "    <tr>\n",
       "      <th>78</th>\n",
       "      <td>1483</td>\n",
       "    </tr>\n",
       "    <tr>\n",
       "      <th>1337</th>\n",
       "      <td>1479</td>\n",
       "    </tr>\n",
       "    <tr>\n",
       "      <th>748</th>\n",
       "      <td>1462</td>\n",
       "    </tr>\n",
       "    <tr>\n",
       "      <th>1518</th>\n",
       "      <td>1444</td>\n",
       "    </tr>\n",
       "    <tr>\n",
       "      <th>...</th>\n",
       "      <td>...</td>\n",
       "    </tr>\n",
       "    <tr>\n",
       "      <th>1569</th>\n",
       "      <td>63</td>\n",
       "    </tr>\n",
       "    <tr>\n",
       "      <th>1102</th>\n",
       "      <td>63</td>\n",
       "    </tr>\n",
       "    <tr>\n",
       "      <th>868</th>\n",
       "      <td>63</td>\n",
       "    </tr>\n",
       "    <tr>\n",
       "      <th>182</th>\n",
       "      <td>62</td>\n",
       "    </tr>\n",
       "    <tr>\n",
       "      <th>893</th>\n",
       "      <td>61</td>\n",
       "    </tr>\n",
       "    <tr>\n",
       "      <th>1074</th>\n",
       "      <td>60</td>\n",
       "    </tr>\n",
       "    <tr>\n",
       "      <th>775</th>\n",
       "      <td>60</td>\n",
       "    </tr>\n",
       "    <tr>\n",
       "      <th>908</th>\n",
       "      <td>60</td>\n",
       "    </tr>\n",
       "    <tr>\n",
       "      <th>1443</th>\n",
       "      <td>59</td>\n",
       "    </tr>\n",
       "    <tr>\n",
       "      <th>32</th>\n",
       "      <td>58</td>\n",
       "    </tr>\n",
       "    <tr>\n",
       "      <th>1439</th>\n",
       "      <td>58</td>\n",
       "    </tr>\n",
       "    <tr>\n",
       "      <th>662</th>\n",
       "      <td>56</td>\n",
       "    </tr>\n",
       "    <tr>\n",
       "      <th>406</th>\n",
       "      <td>55</td>\n",
       "    </tr>\n",
       "    <tr>\n",
       "      <th>1221</th>\n",
       "      <td>54</td>\n",
       "    </tr>\n",
       "    <tr>\n",
       "      <th>850</th>\n",
       "      <td>51</td>\n",
       "    </tr>\n",
       "    <tr>\n",
       "      <th>1078</th>\n",
       "      <td>49</td>\n",
       "    </tr>\n",
       "    <tr>\n",
       "      <th>794</th>\n",
       "      <td>48</td>\n",
       "    </tr>\n",
       "    <tr>\n",
       "      <th>1180</th>\n",
       "      <td>47</td>\n",
       "    </tr>\n",
       "    <tr>\n",
       "      <th>542</th>\n",
       "      <td>46</td>\n",
       "    </tr>\n",
       "    <tr>\n",
       "      <th>1363</th>\n",
       "      <td>45</td>\n",
       "    </tr>\n",
       "    <tr>\n",
       "      <th>425</th>\n",
       "      <td>44</td>\n",
       "    </tr>\n",
       "    <tr>\n",
       "      <th>489</th>\n",
       "      <td>44</td>\n",
       "    </tr>\n",
       "    <tr>\n",
       "      <th>465</th>\n",
       "      <td>40</td>\n",
       "    </tr>\n",
       "    <tr>\n",
       "      <th>26</th>\n",
       "      <td>39</td>\n",
       "    </tr>\n",
       "    <tr>\n",
       "      <th>818</th>\n",
       "      <td>37</td>\n",
       "    </tr>\n",
       "    <tr>\n",
       "      <th>907</th>\n",
       "      <td>37</td>\n",
       "    </tr>\n",
       "    <tr>\n",
       "      <th>1069</th>\n",
       "      <td>32</td>\n",
       "    </tr>\n",
       "    <tr>\n",
       "      <th>1150</th>\n",
       "      <td>29</td>\n",
       "    </tr>\n",
       "    <tr>\n",
       "      <th>285</th>\n",
       "      <td>29</td>\n",
       "    </tr>\n",
       "    <tr>\n",
       "      <th>1326</th>\n",
       "      <td>24</td>\n",
       "    </tr>\n",
       "  </tbody>\n",
       "</table>\n",
       "<p>1582 rows × 1 columns</p>\n",
       "</div>"
      ],
      "text/plain": [
       "             item_id\n",
       "customer_id         \n",
       "464             3397\n",
       "1555            2647\n",
       "934             1901\n",
       "1115            1898\n",
       "60              1889\n",
       "1558            1888\n",
       "1463            1818\n",
       "150             1794\n",
       "626             1720\n",
       "1485            1654\n",
       "711             1619\n",
       "596             1609\n",
       "239             1589\n",
       "13              1587\n",
       "250             1586\n",
       "911             1578\n",
       "1011            1550\n",
       "1095            1546\n",
       "1574            1542\n",
       "1033            1539\n",
       "566             1529\n",
       "627             1523\n",
       "161             1509\n",
       "1023            1506\n",
       "898             1501\n",
       "1475            1486\n",
       "78              1483\n",
       "1337            1479\n",
       "748             1462\n",
       "1518            1444\n",
       "...              ...\n",
       "1569              63\n",
       "1102              63\n",
       "868               63\n",
       "182               62\n",
       "893               61\n",
       "1074              60\n",
       "775               60\n",
       "908               60\n",
       "1443              59\n",
       "32                58\n",
       "1439              58\n",
       "662               56\n",
       "406               55\n",
       "1221              54\n",
       "850               51\n",
       "1078              49\n",
       "794               48\n",
       "1180              47\n",
       "542               46\n",
       "1363              45\n",
       "425               44\n",
       "489               44\n",
       "465               40\n",
       "26                39\n",
       "818               37\n",
       "907               37\n",
       "1069              32\n",
       "1150              29\n",
       "285               29\n",
       "1326              24\n",
       "\n",
       "[1582 rows x 1 columns]"
      ]
     },
     "execution_count": 74,
     "metadata": {},
     "output_type": "execute_result"
    }
   ],
   "source": [
    "# most shopaholic users\n",
    "customer_transaction_with_some_kind_of_discounts_gby_customer_df.sort_values(by='item_id', ascending=False)"
   ]
  },
  {
   "cell_type": "code",
   "execution_count": 75,
   "metadata": {},
   "outputs": [
    {
     "data": {
      "text/plain": [
       "(1582, 1)"
      ]
     },
     "execution_count": 75,
     "metadata": {},
     "output_type": "execute_result"
    }
   ],
   "source": [
    "customer_transaction_with_some_kind_of_discounts_gby_customer_df.shape"
   ]
  },
  {
   "cell_type": "code",
   "execution_count": 76,
   "metadata": {},
   "outputs": [],
   "source": [
    "# popular items\n",
    "customer_transaction_with_some_kind_of_discounts_gby_item_df = customer_transactions_with_some_kind_of_discounts_df.groupby('item_id')[['customer_id']].count()"
   ]
  },
  {
   "cell_type": "code",
   "execution_count": 77,
   "metadata": {
    "scrolled": true
   },
   "outputs": [
    {
     "data": {
      "text/html": [
       "<div>\n",
       "<style scoped>\n",
       "    .dataframe tbody tr th:only-of-type {\n",
       "        vertical-align: middle;\n",
       "    }\n",
       "\n",
       "    .dataframe tbody tr th {\n",
       "        vertical-align: top;\n",
       "    }\n",
       "\n",
       "    .dataframe thead th {\n",
       "        text-align: right;\n",
       "    }\n",
       "</style>\n",
       "<table border=\"1\" class=\"dataframe\">\n",
       "  <thead>\n",
       "    <tr style=\"text-align: right;\">\n",
       "      <th></th>\n",
       "      <th>customer_id</th>\n",
       "    </tr>\n",
       "    <tr>\n",
       "      <th>item_id</th>\n",
       "      <th></th>\n",
       "    </tr>\n",
       "  </thead>\n",
       "  <tbody>\n",
       "    <tr>\n",
       "      <th>49009</th>\n",
       "      <td>13534</td>\n",
       "    </tr>\n",
       "    <tr>\n",
       "      <th>45502</th>\n",
       "      <td>2845</td>\n",
       "    </tr>\n",
       "    <tr>\n",
       "      <th>32991</th>\n",
       "      <td>1944</td>\n",
       "    </tr>\n",
       "    <tr>\n",
       "      <th>28633</th>\n",
       "      <td>1925</td>\n",
       "    </tr>\n",
       "    <tr>\n",
       "      <th>6958</th>\n",
       "      <td>1865</td>\n",
       "    </tr>\n",
       "    <tr>\n",
       "      <th>8525</th>\n",
       "      <td>1759</td>\n",
       "    </tr>\n",
       "    <tr>\n",
       "      <th>18156</th>\n",
       "      <td>1552</td>\n",
       "    </tr>\n",
       "    <tr>\n",
       "      <th>32573</th>\n",
       "      <td>1456</td>\n",
       "    </tr>\n",
       "    <tr>\n",
       "      <th>53517</th>\n",
       "      <td>1450</td>\n",
       "    </tr>\n",
       "    <tr>\n",
       "      <th>30518</th>\n",
       "      <td>1402</td>\n",
       "    </tr>\n",
       "    <tr>\n",
       "      <th>45539</th>\n",
       "      <td>1353</td>\n",
       "    </tr>\n",
       "    <tr>\n",
       "      <th>27054</th>\n",
       "      <td>1335</td>\n",
       "    </tr>\n",
       "    <tr>\n",
       "      <th>53521</th>\n",
       "      <td>1277</td>\n",
       "    </tr>\n",
       "    <tr>\n",
       "      <th>13774</th>\n",
       "      <td>1274</td>\n",
       "    </tr>\n",
       "    <tr>\n",
       "      <th>21813</th>\n",
       "      <td>1244</td>\n",
       "    </tr>\n",
       "    <tr>\n",
       "      <th>34047</th>\n",
       "      <td>1205</td>\n",
       "    </tr>\n",
       "    <tr>\n",
       "      <th>45372</th>\n",
       "      <td>1194</td>\n",
       "    </tr>\n",
       "    <tr>\n",
       "      <th>29847</th>\n",
       "      <td>1150</td>\n",
       "    </tr>\n",
       "    <tr>\n",
       "      <th>10673</th>\n",
       "      <td>1095</td>\n",
       "    </tr>\n",
       "    <tr>\n",
       "      <th>5798</th>\n",
       "      <td>985</td>\n",
       "    </tr>\n",
       "    <tr>\n",
       "      <th>33515</th>\n",
       "      <td>896</td>\n",
       "    </tr>\n",
       "    <tr>\n",
       "      <th>57632</th>\n",
       "      <td>874</td>\n",
       "    </tr>\n",
       "    <tr>\n",
       "      <th>37042</th>\n",
       "      <td>849</td>\n",
       "    </tr>\n",
       "    <tr>\n",
       "      <th>49004</th>\n",
       "      <td>831</td>\n",
       "    </tr>\n",
       "    <tr>\n",
       "      <th>45578</th>\n",
       "      <td>825</td>\n",
       "    </tr>\n",
       "    <tr>\n",
       "      <th>48973</th>\n",
       "      <td>814</td>\n",
       "    </tr>\n",
       "    <tr>\n",
       "      <th>9561</th>\n",
       "      <td>810</td>\n",
       "    </tr>\n",
       "    <tr>\n",
       "      <th>28939</th>\n",
       "      <td>761</td>\n",
       "    </tr>\n",
       "    <tr>\n",
       "      <th>19632</th>\n",
       "      <td>746</td>\n",
       "    </tr>\n",
       "    <tr>\n",
       "      <th>14435</th>\n",
       "      <td>741</td>\n",
       "    </tr>\n",
       "    <tr>\n",
       "      <th>...</th>\n",
       "      <td>...</td>\n",
       "    </tr>\n",
       "    <tr>\n",
       "      <th>40439</th>\n",
       "      <td>1</td>\n",
       "    </tr>\n",
       "    <tr>\n",
       "      <th>40438</th>\n",
       "      <td>1</td>\n",
       "    </tr>\n",
       "    <tr>\n",
       "      <th>40436</th>\n",
       "      <td>1</td>\n",
       "    </tr>\n",
       "    <tr>\n",
       "      <th>40435</th>\n",
       "      <td>1</td>\n",
       "    </tr>\n",
       "    <tr>\n",
       "      <th>40433</th>\n",
       "      <td>1</td>\n",
       "    </tr>\n",
       "    <tr>\n",
       "      <th>40428</th>\n",
       "      <td>1</td>\n",
       "    </tr>\n",
       "    <tr>\n",
       "      <th>40427</th>\n",
       "      <td>1</td>\n",
       "    </tr>\n",
       "    <tr>\n",
       "      <th>40426</th>\n",
       "      <td>1</td>\n",
       "    </tr>\n",
       "    <tr>\n",
       "      <th>40423</th>\n",
       "      <td>1</td>\n",
       "    </tr>\n",
       "    <tr>\n",
       "      <th>40422</th>\n",
       "      <td>1</td>\n",
       "    </tr>\n",
       "    <tr>\n",
       "      <th>40445</th>\n",
       "      <td>1</td>\n",
       "    </tr>\n",
       "    <tr>\n",
       "      <th>40448</th>\n",
       "      <td>1</td>\n",
       "    </tr>\n",
       "    <tr>\n",
       "      <th>40477</th>\n",
       "      <td>1</td>\n",
       "    </tr>\n",
       "    <tr>\n",
       "      <th>40450</th>\n",
       "      <td>1</td>\n",
       "    </tr>\n",
       "    <tr>\n",
       "      <th>40476</th>\n",
       "      <td>1</td>\n",
       "    </tr>\n",
       "    <tr>\n",
       "      <th>40475</th>\n",
       "      <td>1</td>\n",
       "    </tr>\n",
       "    <tr>\n",
       "      <th>40473</th>\n",
       "      <td>1</td>\n",
       "    </tr>\n",
       "    <tr>\n",
       "      <th>40469</th>\n",
       "      <td>1</td>\n",
       "    </tr>\n",
       "    <tr>\n",
       "      <th>40468</th>\n",
       "      <td>1</td>\n",
       "    </tr>\n",
       "    <tr>\n",
       "      <th>40466</th>\n",
       "      <td>1</td>\n",
       "    </tr>\n",
       "    <tr>\n",
       "      <th>40464</th>\n",
       "      <td>1</td>\n",
       "    </tr>\n",
       "    <tr>\n",
       "      <th>40463</th>\n",
       "      <td>1</td>\n",
       "    </tr>\n",
       "    <tr>\n",
       "      <th>40462</th>\n",
       "      <td>1</td>\n",
       "    </tr>\n",
       "    <tr>\n",
       "      <th>40461</th>\n",
       "      <td>1</td>\n",
       "    </tr>\n",
       "    <tr>\n",
       "      <th>40460</th>\n",
       "      <td>1</td>\n",
       "    </tr>\n",
       "    <tr>\n",
       "      <th>40459</th>\n",
       "      <td>1</td>\n",
       "    </tr>\n",
       "    <tr>\n",
       "      <th>40458</th>\n",
       "      <td>1</td>\n",
       "    </tr>\n",
       "    <tr>\n",
       "      <th>40456</th>\n",
       "      <td>1</td>\n",
       "    </tr>\n",
       "    <tr>\n",
       "      <th>40451</th>\n",
       "      <td>1</td>\n",
       "    </tr>\n",
       "    <tr>\n",
       "      <th>74057</th>\n",
       "      <td>1</td>\n",
       "    </tr>\n",
       "  </tbody>\n",
       "</table>\n",
       "<p>38292 rows × 1 columns</p>\n",
       "</div>"
      ],
      "text/plain": [
       "         customer_id\n",
       "item_id             \n",
       "49009          13534\n",
       "45502           2845\n",
       "32991           1944\n",
       "28633           1925\n",
       "6958            1865\n",
       "8525            1759\n",
       "18156           1552\n",
       "32573           1456\n",
       "53517           1450\n",
       "30518           1402\n",
       "45539           1353\n",
       "27054           1335\n",
       "53521           1277\n",
       "13774           1274\n",
       "21813           1244\n",
       "34047           1205\n",
       "45372           1194\n",
       "29847           1150\n",
       "10673           1095\n",
       "5798             985\n",
       "33515            896\n",
       "57632            874\n",
       "37042            849\n",
       "49004            831\n",
       "45578            825\n",
       "48973            814\n",
       "9561             810\n",
       "28939            761\n",
       "19632            746\n",
       "14435            741\n",
       "...              ...\n",
       "40439              1\n",
       "40438              1\n",
       "40436              1\n",
       "40435              1\n",
       "40433              1\n",
       "40428              1\n",
       "40427              1\n",
       "40426              1\n",
       "40423              1\n",
       "40422              1\n",
       "40445              1\n",
       "40448              1\n",
       "40477              1\n",
       "40450              1\n",
       "40476              1\n",
       "40475              1\n",
       "40473              1\n",
       "40469              1\n",
       "40468              1\n",
       "40466              1\n",
       "40464              1\n",
       "40463              1\n",
       "40462              1\n",
       "40461              1\n",
       "40460              1\n",
       "40459              1\n",
       "40458              1\n",
       "40456              1\n",
       "40451              1\n",
       "74057              1\n",
       "\n",
       "[38292 rows x 1 columns]"
      ]
     },
     "execution_count": 77,
     "metadata": {},
     "output_type": "execute_result"
    }
   ],
   "source": [
    "customer_transaction_with_some_kind_of_discounts_gby_item_df.sort_values(by='customer_id', ascending=False)"
   ]
  },
  {
   "cell_type": "code",
   "execution_count": 78,
   "metadata": {},
   "outputs": [
    {
     "data": {
      "text/plain": [
       "(38292, 1)"
      ]
     },
     "execution_count": 78,
     "metadata": {},
     "output_type": "execute_result"
    }
   ],
   "source": [
    "customer_transaction_with_some_kind_of_discounts_gby_item_df.shape"
   ]
  },
  {
   "cell_type": "markdown",
   "metadata": {},
   "source": [
    "---------------\n",
    "---------------"
   ]
  },
  {
   "cell_type": "code",
   "execution_count": 79,
   "metadata": {},
   "outputs": [],
   "source": [
    "customer_transactions_with_discounts_df = customer_transaction_df[customer_transaction_df['coupon_discount'] < 0]"
   ]
  },
  {
   "cell_type": "code",
   "execution_count": 80,
   "metadata": {},
   "outputs": [
    {
     "data": {
      "text/plain": [
       "(21286, 7)"
      ]
     },
     "execution_count": 80,
     "metadata": {},
     "output_type": "execute_result"
    }
   ],
   "source": [
    "customer_transactions_with_discounts_df.shape"
   ]
  },
  {
   "cell_type": "code",
   "execution_count": 81,
   "metadata": {},
   "outputs": [],
   "source": [
    "customer_transactions_with_discounts_gby_customer_df = customer_transactions_with_discounts_df.groupby('customer_id')[['item_id']].count()"
   ]
  },
  {
   "cell_type": "code",
   "execution_count": 82,
   "metadata": {
    "scrolled": true
   },
   "outputs": [
    {
     "data": {
      "text/html": [
       "<div>\n",
       "<style scoped>\n",
       "    .dataframe tbody tr th:only-of-type {\n",
       "        vertical-align: middle;\n",
       "    }\n",
       "\n",
       "    .dataframe tbody tr th {\n",
       "        vertical-align: top;\n",
       "    }\n",
       "\n",
       "    .dataframe thead th {\n",
       "        text-align: right;\n",
       "    }\n",
       "</style>\n",
       "<table border=\"1\" class=\"dataframe\">\n",
       "  <thead>\n",
       "    <tr style=\"text-align: right;\">\n",
       "      <th></th>\n",
       "      <th>item_id</th>\n",
       "    </tr>\n",
       "    <tr>\n",
       "      <th>customer_id</th>\n",
       "      <th></th>\n",
       "    </tr>\n",
       "  </thead>\n",
       "  <tbody>\n",
       "    <tr>\n",
       "      <th>1574</th>\n",
       "      <td>430</td>\n",
       "    </tr>\n",
       "    <tr>\n",
       "      <th>748</th>\n",
       "      <td>345</td>\n",
       "    </tr>\n",
       "    <tr>\n",
       "      <th>367</th>\n",
       "      <td>293</td>\n",
       "    </tr>\n",
       "    <tr>\n",
       "      <th>1547</th>\n",
       "      <td>227</td>\n",
       "    </tr>\n",
       "    <tr>\n",
       "      <th>464</th>\n",
       "      <td>220</td>\n",
       "    </tr>\n",
       "    <tr>\n",
       "      <th>566</th>\n",
       "      <td>219</td>\n",
       "    </tr>\n",
       "    <tr>\n",
       "      <th>235</th>\n",
       "      <td>210</td>\n",
       "    </tr>\n",
       "    <tr>\n",
       "      <th>1208</th>\n",
       "      <td>203</td>\n",
       "    </tr>\n",
       "    <tr>\n",
       "      <th>1549</th>\n",
       "      <td>197</td>\n",
       "    </tr>\n",
       "    <tr>\n",
       "      <th>8</th>\n",
       "      <td>192</td>\n",
       "    </tr>\n",
       "    <tr>\n",
       "      <th>1257</th>\n",
       "      <td>172</td>\n",
       "    </tr>\n",
       "    <tr>\n",
       "      <th>1336</th>\n",
       "      <td>172</td>\n",
       "    </tr>\n",
       "    <tr>\n",
       "      <th>626</th>\n",
       "      <td>171</td>\n",
       "    </tr>\n",
       "    <tr>\n",
       "      <th>1558</th>\n",
       "      <td>164</td>\n",
       "    </tr>\n",
       "    <tr>\n",
       "      <th>45</th>\n",
       "      <td>163</td>\n",
       "    </tr>\n",
       "    <tr>\n",
       "      <th>1239</th>\n",
       "      <td>163</td>\n",
       "    </tr>\n",
       "    <tr>\n",
       "      <th>317</th>\n",
       "      <td>160</td>\n",
       "    </tr>\n",
       "    <tr>\n",
       "      <th>864</th>\n",
       "      <td>156</td>\n",
       "    </tr>\n",
       "    <tr>\n",
       "      <th>22</th>\n",
       "      <td>154</td>\n",
       "    </tr>\n",
       "    <tr>\n",
       "      <th>1496</th>\n",
       "      <td>152</td>\n",
       "    </tr>\n",
       "    <tr>\n",
       "      <th>300</th>\n",
       "      <td>152</td>\n",
       "    </tr>\n",
       "    <tr>\n",
       "      <th>632</th>\n",
       "      <td>143</td>\n",
       "    </tr>\n",
       "    <tr>\n",
       "      <th>1025</th>\n",
       "      <td>138</td>\n",
       "    </tr>\n",
       "    <tr>\n",
       "      <th>1136</th>\n",
       "      <td>137</td>\n",
       "    </tr>\n",
       "    <tr>\n",
       "      <th>1333</th>\n",
       "      <td>132</td>\n",
       "    </tr>\n",
       "    <tr>\n",
       "      <th>1070</th>\n",
       "      <td>131</td>\n",
       "    </tr>\n",
       "    <tr>\n",
       "      <th>627</th>\n",
       "      <td>128</td>\n",
       "    </tr>\n",
       "    <tr>\n",
       "      <th>889</th>\n",
       "      <td>126</td>\n",
       "    </tr>\n",
       "    <tr>\n",
       "      <th>710</th>\n",
       "      <td>118</td>\n",
       "    </tr>\n",
       "    <tr>\n",
       "      <th>131</th>\n",
       "      <td>117</td>\n",
       "    </tr>\n",
       "    <tr>\n",
       "      <th>...</th>\n",
       "      <td>...</td>\n",
       "    </tr>\n",
       "    <tr>\n",
       "      <th>59</th>\n",
       "      <td>1</td>\n",
       "    </tr>\n",
       "    <tr>\n",
       "      <th>1395</th>\n",
       "      <td>1</td>\n",
       "    </tr>\n",
       "    <tr>\n",
       "      <th>1354</th>\n",
       "      <td>1</td>\n",
       "    </tr>\n",
       "    <tr>\n",
       "      <th>1035</th>\n",
       "      <td>1</td>\n",
       "    </tr>\n",
       "    <tr>\n",
       "      <th>84</th>\n",
       "      <td>1</td>\n",
       "    </tr>\n",
       "    <tr>\n",
       "      <th>304</th>\n",
       "      <td>1</td>\n",
       "    </tr>\n",
       "    <tr>\n",
       "      <th>262</th>\n",
       "      <td>1</td>\n",
       "    </tr>\n",
       "    <tr>\n",
       "      <th>837</th>\n",
       "      <td>1</td>\n",
       "    </tr>\n",
       "    <tr>\n",
       "      <th>829</th>\n",
       "      <td>1</td>\n",
       "    </tr>\n",
       "    <tr>\n",
       "      <th>169</th>\n",
       "      <td>1</td>\n",
       "    </tr>\n",
       "    <tr>\n",
       "      <th>308</th>\n",
       "      <td>1</td>\n",
       "    </tr>\n",
       "    <tr>\n",
       "      <th>816</th>\n",
       "      <td>1</td>\n",
       "    </tr>\n",
       "    <tr>\n",
       "      <th>805</th>\n",
       "      <td>1</td>\n",
       "    </tr>\n",
       "    <tr>\n",
       "      <th>206</th>\n",
       "      <td>1</td>\n",
       "    </tr>\n",
       "    <tr>\n",
       "      <th>1019</th>\n",
       "      <td>1</td>\n",
       "    </tr>\n",
       "    <tr>\n",
       "      <th>56</th>\n",
       "      <td>1</td>\n",
       "    </tr>\n",
       "    <tr>\n",
       "      <th>1375</th>\n",
       "      <td>1</td>\n",
       "    </tr>\n",
       "    <tr>\n",
       "      <th>1173</th>\n",
       "      <td>1</td>\n",
       "    </tr>\n",
       "    <tr>\n",
       "      <th>165</th>\n",
       "      <td>1</td>\n",
       "    </tr>\n",
       "    <tr>\n",
       "      <th>316</th>\n",
       "      <td>1</td>\n",
       "    </tr>\n",
       "    <tr>\n",
       "      <th>778</th>\n",
       "      <td>1</td>\n",
       "    </tr>\n",
       "    <tr>\n",
       "      <th>1021</th>\n",
       "      <td>1</td>\n",
       "    </tr>\n",
       "    <tr>\n",
       "      <th>1032</th>\n",
       "      <td>1</td>\n",
       "    </tr>\n",
       "    <tr>\n",
       "      <th>323</th>\n",
       "      <td>1</td>\n",
       "    </tr>\n",
       "    <tr>\n",
       "      <th>163</th>\n",
       "      <td>1</td>\n",
       "    </tr>\n",
       "    <tr>\n",
       "      <th>1244</th>\n",
       "      <td>1</td>\n",
       "    </tr>\n",
       "    <tr>\n",
       "      <th>160</th>\n",
       "      <td>1</td>\n",
       "    </tr>\n",
       "    <tr>\n",
       "      <th>1243</th>\n",
       "      <td>1</td>\n",
       "    </tr>\n",
       "    <tr>\n",
       "      <th>761</th>\n",
       "      <td>1</td>\n",
       "    </tr>\n",
       "    <tr>\n",
       "      <th>1429</th>\n",
       "      <td>1</td>\n",
       "    </tr>\n",
       "  </tbody>\n",
       "</table>\n",
       "<p>1249 rows × 1 columns</p>\n",
       "</div>"
      ],
      "text/plain": [
       "             item_id\n",
       "customer_id         \n",
       "1574             430\n",
       "748              345\n",
       "367              293\n",
       "1547             227\n",
       "464              220\n",
       "566              219\n",
       "235              210\n",
       "1208             203\n",
       "1549             197\n",
       "8                192\n",
       "1257             172\n",
       "1336             172\n",
       "626              171\n",
       "1558             164\n",
       "45               163\n",
       "1239             163\n",
       "317              160\n",
       "864              156\n",
       "22               154\n",
       "1496             152\n",
       "300              152\n",
       "632              143\n",
       "1025             138\n",
       "1136             137\n",
       "1333             132\n",
       "1070             131\n",
       "627              128\n",
       "889              126\n",
       "710              118\n",
       "131              117\n",
       "...              ...\n",
       "59                 1\n",
       "1395               1\n",
       "1354               1\n",
       "1035               1\n",
       "84                 1\n",
       "304                1\n",
       "262                1\n",
       "837                1\n",
       "829                1\n",
       "169                1\n",
       "308                1\n",
       "816                1\n",
       "805                1\n",
       "206                1\n",
       "1019               1\n",
       "56                 1\n",
       "1375               1\n",
       "1173               1\n",
       "165                1\n",
       "316                1\n",
       "778                1\n",
       "1021               1\n",
       "1032               1\n",
       "323                1\n",
       "163                1\n",
       "1244               1\n",
       "160                1\n",
       "1243               1\n",
       "761                1\n",
       "1429               1\n",
       "\n",
       "[1249 rows x 1 columns]"
      ]
     },
     "execution_count": 82,
     "metadata": {},
     "output_type": "execute_result"
    }
   ],
   "source": [
    "# most shopaholic users\n",
    "customer_transactions_with_discounts_gby_customer_df.sort_values(by='item_id', ascending=False)"
   ]
  },
  {
   "cell_type": "code",
   "execution_count": 83,
   "metadata": {},
   "outputs": [
    {
     "data": {
      "text/plain": [
       "(1249, 1)"
      ]
     },
     "execution_count": 83,
     "metadata": {},
     "output_type": "execute_result"
    }
   ],
   "source": [
    "customer_transactions_with_discounts_gby_customer_df.shape"
   ]
  },
  {
   "cell_type": "code",
   "execution_count": 84,
   "metadata": {},
   "outputs": [],
   "source": [
    "# popular items\n",
    "customer_transactions_with_discounts_gby_item_df = customer_transactions_with_discounts_df.groupby('item_id')[['customer_id']].count()"
   ]
  },
  {
   "cell_type": "code",
   "execution_count": 85,
   "metadata": {
    "scrolled": true
   },
   "outputs": [
    {
     "data": {
      "text/html": [
       "<div>\n",
       "<style scoped>\n",
       "    .dataframe tbody tr th:only-of-type {\n",
       "        vertical-align: middle;\n",
       "    }\n",
       "\n",
       "    .dataframe tbody tr th {\n",
       "        vertical-align: top;\n",
       "    }\n",
       "\n",
       "    .dataframe thead th {\n",
       "        text-align: right;\n",
       "    }\n",
       "</style>\n",
       "<table border=\"1\" class=\"dataframe\">\n",
       "  <thead>\n",
       "    <tr style=\"text-align: right;\">\n",
       "      <th></th>\n",
       "      <th>customer_id</th>\n",
       "    </tr>\n",
       "    <tr>\n",
       "      <th>item_id</th>\n",
       "      <th></th>\n",
       "    </tr>\n",
       "  </thead>\n",
       "  <tbody>\n",
       "    <tr>\n",
       "      <th>45502</th>\n",
       "      <td>187</td>\n",
       "    </tr>\n",
       "    <tr>\n",
       "      <th>45539</th>\n",
       "      <td>117</td>\n",
       "    </tr>\n",
       "    <tr>\n",
       "      <th>53521</th>\n",
       "      <td>74</td>\n",
       "    </tr>\n",
       "    <tr>\n",
       "      <th>53517</th>\n",
       "      <td>69</td>\n",
       "    </tr>\n",
       "    <tr>\n",
       "      <th>45578</th>\n",
       "      <td>61</td>\n",
       "    </tr>\n",
       "    <tr>\n",
       "      <th>5984</th>\n",
       "      <td>58</td>\n",
       "    </tr>\n",
       "    <tr>\n",
       "      <th>22631</th>\n",
       "      <td>57</td>\n",
       "    </tr>\n",
       "    <tr>\n",
       "      <th>14764</th>\n",
       "      <td>56</td>\n",
       "    </tr>\n",
       "    <tr>\n",
       "      <th>45527</th>\n",
       "      <td>50</td>\n",
       "    </tr>\n",
       "    <tr>\n",
       "      <th>28289</th>\n",
       "      <td>49</td>\n",
       "    </tr>\n",
       "    <tr>\n",
       "      <th>30832</th>\n",
       "      <td>48</td>\n",
       "    </tr>\n",
       "    <tr>\n",
       "      <th>64223</th>\n",
       "      <td>42</td>\n",
       "    </tr>\n",
       "    <tr>\n",
       "      <th>9126</th>\n",
       "      <td>41</td>\n",
       "    </tr>\n",
       "    <tr>\n",
       "      <th>28375</th>\n",
       "      <td>38</td>\n",
       "    </tr>\n",
       "    <tr>\n",
       "      <th>18118</th>\n",
       "      <td>37</td>\n",
       "    </tr>\n",
       "    <tr>\n",
       "      <th>19427</th>\n",
       "      <td>36</td>\n",
       "    </tr>\n",
       "    <tr>\n",
       "      <th>6459</th>\n",
       "      <td>35</td>\n",
       "    </tr>\n",
       "    <tr>\n",
       "      <th>21013</th>\n",
       "      <td>34</td>\n",
       "    </tr>\n",
       "    <tr>\n",
       "      <th>61345</th>\n",
       "      <td>33</td>\n",
       "    </tr>\n",
       "    <tr>\n",
       "      <th>16130</th>\n",
       "      <td>31</td>\n",
       "    </tr>\n",
       "    <tr>\n",
       "      <th>30440</th>\n",
       "      <td>31</td>\n",
       "    </tr>\n",
       "    <tr>\n",
       "      <th>21093</th>\n",
       "      <td>31</td>\n",
       "    </tr>\n",
       "    <tr>\n",
       "      <th>25377</th>\n",
       "      <td>30</td>\n",
       "    </tr>\n",
       "    <tr>\n",
       "      <th>56751</th>\n",
       "      <td>30</td>\n",
       "    </tr>\n",
       "    <tr>\n",
       "      <th>4792</th>\n",
       "      <td>29</td>\n",
       "    </tr>\n",
       "    <tr>\n",
       "      <th>14215</th>\n",
       "      <td>29</td>\n",
       "    </tr>\n",
       "    <tr>\n",
       "      <th>53518</th>\n",
       "      <td>28</td>\n",
       "    </tr>\n",
       "    <tr>\n",
       "      <th>58267</th>\n",
       "      <td>27</td>\n",
       "    </tr>\n",
       "    <tr>\n",
       "      <th>9193</th>\n",
       "      <td>26</td>\n",
       "    </tr>\n",
       "    <tr>\n",
       "      <th>5986</th>\n",
       "      <td>26</td>\n",
       "    </tr>\n",
       "    <tr>\n",
       "      <th>...</th>\n",
       "      <td>...</td>\n",
       "    </tr>\n",
       "    <tr>\n",
       "      <th>30838</th>\n",
       "      <td>1</td>\n",
       "    </tr>\n",
       "    <tr>\n",
       "      <th>30829</th>\n",
       "      <td>1</td>\n",
       "    </tr>\n",
       "    <tr>\n",
       "      <th>30828</th>\n",
       "      <td>1</td>\n",
       "    </tr>\n",
       "    <tr>\n",
       "      <th>30778</th>\n",
       "      <td>1</td>\n",
       "    </tr>\n",
       "    <tr>\n",
       "      <th>30772</th>\n",
       "      <td>1</td>\n",
       "    </tr>\n",
       "    <tr>\n",
       "      <th>30767</th>\n",
       "      <td>1</td>\n",
       "    </tr>\n",
       "    <tr>\n",
       "      <th>30764</th>\n",
       "      <td>1</td>\n",
       "    </tr>\n",
       "    <tr>\n",
       "      <th>30753</th>\n",
       "      <td>1</td>\n",
       "    </tr>\n",
       "    <tr>\n",
       "      <th>30668</th>\n",
       "      <td>1</td>\n",
       "    </tr>\n",
       "    <tr>\n",
       "      <th>30662</th>\n",
       "      <td>1</td>\n",
       "    </tr>\n",
       "    <tr>\n",
       "      <th>30627</th>\n",
       "      <td>1</td>\n",
       "    </tr>\n",
       "    <tr>\n",
       "      <th>30922</th>\n",
       "      <td>1</td>\n",
       "    </tr>\n",
       "    <tr>\n",
       "      <th>30924</th>\n",
       "      <td>1</td>\n",
       "    </tr>\n",
       "    <tr>\n",
       "      <th>30941</th>\n",
       "      <td>1</td>\n",
       "    </tr>\n",
       "    <tr>\n",
       "      <th>31168</th>\n",
       "      <td>1</td>\n",
       "    </tr>\n",
       "    <tr>\n",
       "      <th>31205</th>\n",
       "      <td>1</td>\n",
       "    </tr>\n",
       "    <tr>\n",
       "      <th>31201</th>\n",
       "      <td>1</td>\n",
       "    </tr>\n",
       "    <tr>\n",
       "      <th>31196</th>\n",
       "      <td>1</td>\n",
       "    </tr>\n",
       "    <tr>\n",
       "      <th>31191</th>\n",
       "      <td>1</td>\n",
       "    </tr>\n",
       "    <tr>\n",
       "      <th>31185</th>\n",
       "      <td>1</td>\n",
       "    </tr>\n",
       "    <tr>\n",
       "      <th>31174</th>\n",
       "      <td>1</td>\n",
       "    </tr>\n",
       "    <tr>\n",
       "      <th>31120</th>\n",
       "      <td>1</td>\n",
       "    </tr>\n",
       "    <tr>\n",
       "      <th>30956</th>\n",
       "      <td>1</td>\n",
       "    </tr>\n",
       "    <tr>\n",
       "      <th>31097</th>\n",
       "      <td>1</td>\n",
       "    </tr>\n",
       "    <tr>\n",
       "      <th>31082</th>\n",
       "      <td>1</td>\n",
       "    </tr>\n",
       "    <tr>\n",
       "      <th>31074</th>\n",
       "      <td>1</td>\n",
       "    </tr>\n",
       "    <tr>\n",
       "      <th>31053</th>\n",
       "      <td>1</td>\n",
       "    </tr>\n",
       "    <tr>\n",
       "      <th>31023</th>\n",
       "      <td>1</td>\n",
       "    </tr>\n",
       "    <tr>\n",
       "      <th>30983</th>\n",
       "      <td>1</td>\n",
       "    </tr>\n",
       "    <tr>\n",
       "      <th>74014</th>\n",
       "      <td>1</td>\n",
       "    </tr>\n",
       "  </tbody>\n",
       "</table>\n",
       "<p>7349 rows × 1 columns</p>\n",
       "</div>"
      ],
      "text/plain": [
       "         customer_id\n",
       "item_id             \n",
       "45502            187\n",
       "45539            117\n",
       "53521             74\n",
       "53517             69\n",
       "45578             61\n",
       "5984              58\n",
       "22631             57\n",
       "14764             56\n",
       "45527             50\n",
       "28289             49\n",
       "30832             48\n",
       "64223             42\n",
       "9126              41\n",
       "28375             38\n",
       "18118             37\n",
       "19427             36\n",
       "6459              35\n",
       "21013             34\n",
       "61345             33\n",
       "16130             31\n",
       "30440             31\n",
       "21093             31\n",
       "25377             30\n",
       "56751             30\n",
       "4792              29\n",
       "14215             29\n",
       "53518             28\n",
       "58267             27\n",
       "9193              26\n",
       "5986              26\n",
       "...              ...\n",
       "30838              1\n",
       "30829              1\n",
       "30828              1\n",
       "30778              1\n",
       "30772              1\n",
       "30767              1\n",
       "30764              1\n",
       "30753              1\n",
       "30668              1\n",
       "30662              1\n",
       "30627              1\n",
       "30922              1\n",
       "30924              1\n",
       "30941              1\n",
       "31168              1\n",
       "31205              1\n",
       "31201              1\n",
       "31196              1\n",
       "31191              1\n",
       "31185              1\n",
       "31174              1\n",
       "31120              1\n",
       "30956              1\n",
       "31097              1\n",
       "31082              1\n",
       "31074              1\n",
       "31053              1\n",
       "31023              1\n",
       "30983              1\n",
       "74014              1\n",
       "\n",
       "[7349 rows x 1 columns]"
      ]
     },
     "execution_count": 85,
     "metadata": {},
     "output_type": "execute_result"
    }
   ],
   "source": [
    "customer_transactions_with_discounts_gby_item_df.sort_values(by='customer_id', ascending=False)"
   ]
  },
  {
   "cell_type": "code",
   "execution_count": 86,
   "metadata": {},
   "outputs": [
    {
     "data": {
      "text/plain": [
       "(7349, 1)"
      ]
     },
     "execution_count": 86,
     "metadata": {},
     "output_type": "execute_result"
    }
   ],
   "source": [
    "customer_transactions_with_discounts_gby_item_df.shape"
   ]
  },
  {
   "cell_type": "markdown",
   "metadata": {},
   "source": [
    "#### Observations\n",
    "\n",
    "- ~1600 customers involved in transactions ; ~74000 items being purchased\n",
    "- Some customers have done as much as 1500 transactions vs minimum number of transactions are around 42 by a customer (can become a feature)\n",
    "- Some items have been bought as much as 13000 times, versus some which are bought only once (can become a feature)\n",
    "- Distribution of above two things change a bit if we just consider transactions which had `other_discount` or `coupon_discount` (so we'll need features based on these as well)\n",
    "- About 13 lac transactions, out of which 6.8 lacs had some `other_discount` and only ~`22000` had `coupon_discount`. Of these that had coupon discount also not all were coupon that are there in our training data. Some are retailer coupons which we lack date for (got to know this from slack channel)\n",
    "                                                                                                                                "
   ]
  },
  {
   "cell_type": "markdown",
   "metadata": {},
   "source": [
    "### Item Data"
   ]
  },
  {
   "cell_type": "code",
   "execution_count": 87,
   "metadata": {},
   "outputs": [
    {
     "data": {
      "text/html": [
       "<div>\n",
       "<style scoped>\n",
       "    .dataframe tbody tr th:only-of-type {\n",
       "        vertical-align: middle;\n",
       "    }\n",
       "\n",
       "    .dataframe tbody tr th {\n",
       "        vertical-align: top;\n",
       "    }\n",
       "\n",
       "    .dataframe thead th {\n",
       "        text-align: right;\n",
       "    }\n",
       "</style>\n",
       "<table border=\"1\" class=\"dataframe\">\n",
       "  <thead>\n",
       "    <tr style=\"text-align: right;\">\n",
       "      <th></th>\n",
       "      <th>item_id</th>\n",
       "      <th>brand</th>\n",
       "      <th>brand_type</th>\n",
       "      <th>category</th>\n",
       "    </tr>\n",
       "  </thead>\n",
       "  <tbody>\n",
       "    <tr>\n",
       "      <th>0</th>\n",
       "      <td>1</td>\n",
       "      <td>1</td>\n",
       "      <td>Established</td>\n",
       "      <td>Grocery</td>\n",
       "    </tr>\n",
       "    <tr>\n",
       "      <th>1</th>\n",
       "      <td>2</td>\n",
       "      <td>1</td>\n",
       "      <td>Established</td>\n",
       "      <td>Miscellaneous</td>\n",
       "    </tr>\n",
       "    <tr>\n",
       "      <th>2</th>\n",
       "      <td>3</td>\n",
       "      <td>56</td>\n",
       "      <td>Local</td>\n",
       "      <td>Bakery</td>\n",
       "    </tr>\n",
       "    <tr>\n",
       "      <th>3</th>\n",
       "      <td>4</td>\n",
       "      <td>56</td>\n",
       "      <td>Local</td>\n",
       "      <td>Grocery</td>\n",
       "    </tr>\n",
       "    <tr>\n",
       "      <th>4</th>\n",
       "      <td>5</td>\n",
       "      <td>56</td>\n",
       "      <td>Local</td>\n",
       "      <td>Grocery</td>\n",
       "    </tr>\n",
       "  </tbody>\n",
       "</table>\n",
       "</div>"
      ],
      "text/plain": [
       "   item_id  brand   brand_type       category\n",
       "0        1      1  Established        Grocery\n",
       "1        2      1  Established  Miscellaneous\n",
       "2        3     56        Local         Bakery\n",
       "3        4     56        Local        Grocery\n",
       "4        5     56        Local        Grocery"
      ]
     },
     "execution_count": 87,
     "metadata": {},
     "output_type": "execute_result"
    }
   ],
   "source": [
    "item_data_df.head()"
   ]
  },
  {
   "cell_type": "code",
   "execution_count": 88,
   "metadata": {},
   "outputs": [
    {
     "name": "stdout",
     "output_type": "stream",
     "text": [
      "<class 'pandas.core.frame.DataFrame'>\n",
      "RangeIndex: 74066 entries, 0 to 74065\n",
      "Data columns (total 4 columns):\n",
      "item_id       74066 non-null int64\n",
      "brand         74066 non-null int64\n",
      "brand_type    74066 non-null object\n",
      "category      74066 non-null object\n",
      "dtypes: int64(2), object(2)\n",
      "memory usage: 2.3+ MB\n"
     ]
    }
   ],
   "source": [
    "item_data_df.info()"
   ]
  },
  {
   "cell_type": "code",
   "execution_count": 89,
   "metadata": {},
   "outputs": [
    {
     "data": {
      "text/plain": [
       "74066"
      ]
     },
     "execution_count": 89,
     "metadata": {},
     "output_type": "execute_result"
    }
   ],
   "source": [
    "item_data_df['item_id'].nunique()"
   ]
  },
  {
   "cell_type": "code",
   "execution_count": 90,
   "metadata": {},
   "outputs": [
    {
     "data": {
      "text/plain": [
       "5528"
      ]
     },
     "execution_count": 90,
     "metadata": {},
     "output_type": "execute_result"
    }
   ],
   "source": [
    "item_data_df['brand'].nunique()"
   ]
  },
  {
   "cell_type": "code",
   "execution_count": 91,
   "metadata": {},
   "outputs": [
    {
     "data": {
      "text/plain": [
       "array(['Established', 'Local'], dtype=object)"
      ]
     },
     "execution_count": 91,
     "metadata": {},
     "output_type": "execute_result"
    }
   ],
   "source": [
    "item_data_df['brand_type'].unique()"
   ]
  },
  {
   "cell_type": "code",
   "execution_count": 92,
   "metadata": {},
   "outputs": [
    {
     "data": {
      "text/plain": [
       "array(['Grocery', 'Miscellaneous', 'Bakery', 'Pharmaceutical',\n",
       "       'Packaged Meat', 'Seafood', 'Natural Products',\n",
       "       'Dairy, Juices & Snacks', 'Prepared Food', 'Skin & Hair Care',\n",
       "       'Meat', 'Travel', 'Flowers & Plants', 'Fuel', 'Salads', 'Alcohol',\n",
       "       'Garden', 'Restauarant', 'Vegetables (cut)'], dtype=object)"
      ]
     },
     "execution_count": 92,
     "metadata": {},
     "output_type": "execute_result"
    }
   ],
   "source": [
    "item_data_df['category'].unique()"
   ]
  },
  {
   "cell_type": "code",
   "execution_count": 93,
   "metadata": {},
   "outputs": [
    {
     "data": {
      "text/plain": [
       "array(['Bakery', 'Grocery', 'Pharmaceutical', 'Packaged Meat', 'Seafood',\n",
       "       'Natural Products', 'Prepared Food', 'Skin & Hair Care',\n",
       "       'Dairy, Juices & Snacks', 'Meat', 'Flowers & Plants',\n",
       "       'Miscellaneous', 'Fuel'], dtype=object)"
      ]
     },
     "execution_count": 93,
     "metadata": {},
     "output_type": "execute_result"
    }
   ],
   "source": [
    "item_data_df[item_data_df['brand']==56]['category'].unique()"
   ]
  },
  {
   "cell_type": "code",
   "execution_count": 94,
   "metadata": {},
   "outputs": [
    {
     "data": {
      "text/plain": [
       "array(['Local'], dtype=object)"
      ]
     },
     "execution_count": 94,
     "metadata": {},
     "output_type": "execute_result"
    }
   ],
   "source": [
    "item_data_df[item_data_df['brand']==56]['brand_type'].unique()"
   ]
  },
  {
   "cell_type": "code",
   "execution_count": 95,
   "metadata": {},
   "outputs": [],
   "source": [
    "item_data_df_gby_brand = item_data_df.groupby('brand')[['item_id']].count()"
   ]
  },
  {
   "cell_type": "code",
   "execution_count": 96,
   "metadata": {
    "scrolled": true
   },
   "outputs": [
    {
     "data": {
      "text/html": [
       "<div>\n",
       "<style scoped>\n",
       "    .dataframe tbody tr th:only-of-type {\n",
       "        vertical-align: middle;\n",
       "    }\n",
       "\n",
       "    .dataframe tbody tr th {\n",
       "        vertical-align: top;\n",
       "    }\n",
       "\n",
       "    .dataframe thead th {\n",
       "        text-align: right;\n",
       "    }\n",
       "</style>\n",
       "<table border=\"1\" class=\"dataframe\">\n",
       "  <thead>\n",
       "    <tr style=\"text-align: right;\">\n",
       "      <th></th>\n",
       "      <th>item_id</th>\n",
       "    </tr>\n",
       "    <tr>\n",
       "      <th>brand</th>\n",
       "      <th></th>\n",
       "    </tr>\n",
       "  </thead>\n",
       "  <tbody>\n",
       "    <tr>\n",
       "      <th>56</th>\n",
       "      <td>10480</td>\n",
       "    </tr>\n",
       "    <tr>\n",
       "      <th>686</th>\n",
       "      <td>1142</td>\n",
       "    </tr>\n",
       "    <tr>\n",
       "      <th>1</th>\n",
       "      <td>1091</td>\n",
       "    </tr>\n",
       "    <tr>\n",
       "      <th>4700</th>\n",
       "      <td>923</td>\n",
       "    </tr>\n",
       "    <tr>\n",
       "      <th>1262</th>\n",
       "      <td>906</td>\n",
       "    </tr>\n",
       "    <tr>\n",
       "      <th>487</th>\n",
       "      <td>735</td>\n",
       "    </tr>\n",
       "    <tr>\n",
       "      <th>619</th>\n",
       "      <td>717</td>\n",
       "    </tr>\n",
       "    <tr>\n",
       "      <th>946</th>\n",
       "      <td>626</td>\n",
       "    </tr>\n",
       "    <tr>\n",
       "      <th>4467</th>\n",
       "      <td>607</td>\n",
       "    </tr>\n",
       "    <tr>\n",
       "      <th>1124</th>\n",
       "      <td>594</td>\n",
       "    </tr>\n",
       "    <tr>\n",
       "      <th>172</th>\n",
       "      <td>556</td>\n",
       "    </tr>\n",
       "    <tr>\n",
       "      <th>278</th>\n",
       "      <td>547</td>\n",
       "    </tr>\n",
       "    <tr>\n",
       "      <th>602</th>\n",
       "      <td>546</td>\n",
       "    </tr>\n",
       "    <tr>\n",
       "      <th>89</th>\n",
       "      <td>451</td>\n",
       "    </tr>\n",
       "    <tr>\n",
       "      <th>158</th>\n",
       "      <td>441</td>\n",
       "    </tr>\n",
       "    <tr>\n",
       "      <th>1470</th>\n",
       "      <td>426</td>\n",
       "    </tr>\n",
       "    <tr>\n",
       "      <th>971</th>\n",
       "      <td>412</td>\n",
       "    </tr>\n",
       "    <tr>\n",
       "      <th>866</th>\n",
       "      <td>407</td>\n",
       "    </tr>\n",
       "    <tr>\n",
       "      <th>771</th>\n",
       "      <td>398</td>\n",
       "    </tr>\n",
       "    <tr>\n",
       "      <th>808</th>\n",
       "      <td>392</td>\n",
       "    </tr>\n",
       "    <tr>\n",
       "      <th>714</th>\n",
       "      <td>380</td>\n",
       "    </tr>\n",
       "    <tr>\n",
       "      <th>1088</th>\n",
       "      <td>358</td>\n",
       "    </tr>\n",
       "    <tr>\n",
       "      <th>1101</th>\n",
       "      <td>347</td>\n",
       "    </tr>\n",
       "    <tr>\n",
       "      <th>673</th>\n",
       "      <td>321</td>\n",
       "    </tr>\n",
       "    <tr>\n",
       "      <th>2088</th>\n",
       "      <td>318</td>\n",
       "    </tr>\n",
       "    <tr>\n",
       "      <th>328</th>\n",
       "      <td>313</td>\n",
       "    </tr>\n",
       "    <tr>\n",
       "      <th>4412</th>\n",
       "      <td>309</td>\n",
       "    </tr>\n",
       "    <tr>\n",
       "      <th>475</th>\n",
       "      <td>299</td>\n",
       "    </tr>\n",
       "    <tr>\n",
       "      <th>1134</th>\n",
       "      <td>296</td>\n",
       "    </tr>\n",
       "    <tr>\n",
       "      <th>209</th>\n",
       "      <td>295</td>\n",
       "    </tr>\n",
       "    <tr>\n",
       "      <th>...</th>\n",
       "      <td>...</td>\n",
       "    </tr>\n",
       "    <tr>\n",
       "      <th>3252</th>\n",
       "      <td>1</td>\n",
       "    </tr>\n",
       "    <tr>\n",
       "      <th>3256</th>\n",
       "      <td>1</td>\n",
       "    </tr>\n",
       "    <tr>\n",
       "      <th>3259</th>\n",
       "      <td>1</td>\n",
       "    </tr>\n",
       "    <tr>\n",
       "      <th>3260</th>\n",
       "      <td>1</td>\n",
       "    </tr>\n",
       "    <tr>\n",
       "      <th>3261</th>\n",
       "      <td>1</td>\n",
       "    </tr>\n",
       "    <tr>\n",
       "      <th>3218</th>\n",
       "      <td>1</td>\n",
       "    </tr>\n",
       "    <tr>\n",
       "      <th>3215</th>\n",
       "      <td>1</td>\n",
       "    </tr>\n",
       "    <tr>\n",
       "      <th>3192</th>\n",
       "      <td>1</td>\n",
       "    </tr>\n",
       "    <tr>\n",
       "      <th>3203</th>\n",
       "      <td>1</td>\n",
       "    </tr>\n",
       "    <tr>\n",
       "      <th>3193</th>\n",
       "      <td>1</td>\n",
       "    </tr>\n",
       "    <tr>\n",
       "      <th>3194</th>\n",
       "      <td>1</td>\n",
       "    </tr>\n",
       "    <tr>\n",
       "      <th>3195</th>\n",
       "      <td>1</td>\n",
       "    </tr>\n",
       "    <tr>\n",
       "      <th>3196</th>\n",
       "      <td>1</td>\n",
       "    </tr>\n",
       "    <tr>\n",
       "      <th>3197</th>\n",
       "      <td>1</td>\n",
       "    </tr>\n",
       "    <tr>\n",
       "      <th>3198</th>\n",
       "      <td>1</td>\n",
       "    </tr>\n",
       "    <tr>\n",
       "      <th>3199</th>\n",
       "      <td>1</td>\n",
       "    </tr>\n",
       "    <tr>\n",
       "      <th>3200</th>\n",
       "      <td>1</td>\n",
       "    </tr>\n",
       "    <tr>\n",
       "      <th>3201</th>\n",
       "      <td>1</td>\n",
       "    </tr>\n",
       "    <tr>\n",
       "      <th>3204</th>\n",
       "      <td>1</td>\n",
       "    </tr>\n",
       "    <tr>\n",
       "      <th>3214</th>\n",
       "      <td>1</td>\n",
       "    </tr>\n",
       "    <tr>\n",
       "      <th>3205</th>\n",
       "      <td>1</td>\n",
       "    </tr>\n",
       "    <tr>\n",
       "      <th>3206</th>\n",
       "      <td>1</td>\n",
       "    </tr>\n",
       "    <tr>\n",
       "      <th>3207</th>\n",
       "      <td>1</td>\n",
       "    </tr>\n",
       "    <tr>\n",
       "      <th>3208</th>\n",
       "      <td>1</td>\n",
       "    </tr>\n",
       "    <tr>\n",
       "      <th>3209</th>\n",
       "      <td>1</td>\n",
       "    </tr>\n",
       "    <tr>\n",
       "      <th>3210</th>\n",
       "      <td>1</td>\n",
       "    </tr>\n",
       "    <tr>\n",
       "      <th>3211</th>\n",
       "      <td>1</td>\n",
       "    </tr>\n",
       "    <tr>\n",
       "      <th>3212</th>\n",
       "      <td>1</td>\n",
       "    </tr>\n",
       "    <tr>\n",
       "      <th>3213</th>\n",
       "      <td>1</td>\n",
       "    </tr>\n",
       "    <tr>\n",
       "      <th>5528</th>\n",
       "      <td>1</td>\n",
       "    </tr>\n",
       "  </tbody>\n",
       "</table>\n",
       "<p>5528 rows × 1 columns</p>\n",
       "</div>"
      ],
      "text/plain": [
       "       item_id\n",
       "brand         \n",
       "56       10480\n",
       "686       1142\n",
       "1         1091\n",
       "4700       923\n",
       "1262       906\n",
       "487        735\n",
       "619        717\n",
       "946        626\n",
       "4467       607\n",
       "1124       594\n",
       "172        556\n",
       "278        547\n",
       "602        546\n",
       "89         451\n",
       "158        441\n",
       "1470       426\n",
       "971        412\n",
       "866        407\n",
       "771        398\n",
       "808        392\n",
       "714        380\n",
       "1088       358\n",
       "1101       347\n",
       "673        321\n",
       "2088       318\n",
       "328        313\n",
       "4412       309\n",
       "475        299\n",
       "1134       296\n",
       "209        295\n",
       "...        ...\n",
       "3252         1\n",
       "3256         1\n",
       "3259         1\n",
       "3260         1\n",
       "3261         1\n",
       "3218         1\n",
       "3215         1\n",
       "3192         1\n",
       "3203         1\n",
       "3193         1\n",
       "3194         1\n",
       "3195         1\n",
       "3196         1\n",
       "3197         1\n",
       "3198         1\n",
       "3199         1\n",
       "3200         1\n",
       "3201         1\n",
       "3204         1\n",
       "3214         1\n",
       "3205         1\n",
       "3206         1\n",
       "3207         1\n",
       "3208         1\n",
       "3209         1\n",
       "3210         1\n",
       "3211         1\n",
       "3212         1\n",
       "3213         1\n",
       "5528         1\n",
       "\n",
       "[5528 rows x 1 columns]"
      ]
     },
     "execution_count": 96,
     "metadata": {},
     "output_type": "execute_result"
    }
   ],
   "source": [
    "item_data_df_gby_brand.sort_values(by='item_id', ascending=False)"
   ]
  },
  {
   "cell_type": "markdown",
   "metadata": {},
   "source": [
    "#### Observations\n",
    "\n",
    "- If you look at items it looks like some big basket kinda shop which has these items\n",
    "- The brand 56 is a local brand which has enormously large set of items and of different types. It seems like some big shot.\n",
    "- Other than 56, highest number of items a brand has is about 1100, while lowest is 1."
   ]
  },
  {
   "cell_type": "markdown",
   "metadata": {},
   "source": [
    "### Train data"
   ]
  },
  {
   "cell_type": "code",
   "execution_count": 97,
   "metadata": {},
   "outputs": [
    {
     "data": {
      "text/html": [
       "<div>\n",
       "<style scoped>\n",
       "    .dataframe tbody tr th:only-of-type {\n",
       "        vertical-align: middle;\n",
       "    }\n",
       "\n",
       "    .dataframe tbody tr th {\n",
       "        vertical-align: top;\n",
       "    }\n",
       "\n",
       "    .dataframe thead th {\n",
       "        text-align: right;\n",
       "    }\n",
       "</style>\n",
       "<table border=\"1\" class=\"dataframe\">\n",
       "  <thead>\n",
       "    <tr style=\"text-align: right;\">\n",
       "      <th></th>\n",
       "      <th>id</th>\n",
       "      <th>campaign_id</th>\n",
       "      <th>coupon_id</th>\n",
       "      <th>customer_id</th>\n",
       "      <th>redemption_status</th>\n",
       "    </tr>\n",
       "  </thead>\n",
       "  <tbody>\n",
       "    <tr>\n",
       "      <th>0</th>\n",
       "      <td>1</td>\n",
       "      <td>13</td>\n",
       "      <td>27</td>\n",
       "      <td>1053</td>\n",
       "      <td>0</td>\n",
       "    </tr>\n",
       "    <tr>\n",
       "      <th>1</th>\n",
       "      <td>2</td>\n",
       "      <td>13</td>\n",
       "      <td>116</td>\n",
       "      <td>48</td>\n",
       "      <td>0</td>\n",
       "    </tr>\n",
       "    <tr>\n",
       "      <th>2</th>\n",
       "      <td>6</td>\n",
       "      <td>9</td>\n",
       "      <td>635</td>\n",
       "      <td>205</td>\n",
       "      <td>0</td>\n",
       "    </tr>\n",
       "    <tr>\n",
       "      <th>3</th>\n",
       "      <td>7</td>\n",
       "      <td>13</td>\n",
       "      <td>644</td>\n",
       "      <td>1050</td>\n",
       "      <td>0</td>\n",
       "    </tr>\n",
       "    <tr>\n",
       "      <th>4</th>\n",
       "      <td>9</td>\n",
       "      <td>8</td>\n",
       "      <td>1017</td>\n",
       "      <td>1489</td>\n",
       "      <td>0</td>\n",
       "    </tr>\n",
       "  </tbody>\n",
       "</table>\n",
       "</div>"
      ],
      "text/plain": [
       "   id  campaign_id  coupon_id  customer_id  redemption_status\n",
       "0   1           13         27         1053                  0\n",
       "1   2           13        116           48                  0\n",
       "2   6            9        635          205                  0\n",
       "3   7           13        644         1050                  0\n",
       "4   9            8       1017         1489                  0"
      ]
     },
     "execution_count": 97,
     "metadata": {},
     "output_type": "execute_result"
    }
   ],
   "source": [
    "train_df.head()"
   ]
  },
  {
   "cell_type": "code",
   "execution_count": 98,
   "metadata": {},
   "outputs": [
    {
     "data": {
      "text/plain": [
       "(78369, 5)"
      ]
     },
     "execution_count": 98,
     "metadata": {},
     "output_type": "execute_result"
    }
   ],
   "source": [
    "train_df.shape"
   ]
  },
  {
   "cell_type": "code",
   "execution_count": 99,
   "metadata": {},
   "outputs": [],
   "source": [
    "train_when_redeemed_df = train_df[train_df['redemption_status'] == 1]"
   ]
  },
  {
   "cell_type": "code",
   "execution_count": 100,
   "metadata": {},
   "outputs": [
    {
     "data": {
      "text/plain": [
       "(729, 5)"
      ]
     },
     "execution_count": 100,
     "metadata": {},
     "output_type": "execute_result"
    }
   ],
   "source": [
    "train_when_redeemed_df.shape"
   ]
  },
  {
   "cell_type": "code",
   "execution_count": 101,
   "metadata": {},
   "outputs": [
    {
     "data": {
      "text/plain": [
       "1428"
      ]
     },
     "execution_count": 101,
     "metadata": {},
     "output_type": "execute_result"
    }
   ],
   "source": [
    "train_df['customer_id'].nunique()"
   ]
  },
  {
   "cell_type": "code",
   "execution_count": 102,
   "metadata": {},
   "outputs": [
    {
     "data": {
      "text/plain": [
       "247"
      ]
     },
     "execution_count": 102,
     "metadata": {},
     "output_type": "execute_result"
    }
   ],
   "source": [
    "train_when_redeemed_df['customer_id'].nunique()"
   ]
  },
  {
   "cell_type": "code",
   "execution_count": 103,
   "metadata": {},
   "outputs": [
    {
     "data": {
      "text/plain": [
       "866"
      ]
     },
     "execution_count": 103,
     "metadata": {},
     "output_type": "execute_result"
    }
   ],
   "source": [
    "train_df['coupon_id'].nunique()"
   ]
  },
  {
   "cell_type": "code",
   "execution_count": 104,
   "metadata": {},
   "outputs": [
    {
     "data": {
      "text/plain": [
       "239"
      ]
     },
     "execution_count": 104,
     "metadata": {},
     "output_type": "execute_result"
    }
   ],
   "source": [
    "train_when_redeemed_df['coupon_id'].nunique()"
   ]
  },
  {
   "cell_type": "code",
   "execution_count": 105,
   "metadata": {},
   "outputs": [
    {
     "data": {
      "text/plain": [
       "18"
      ]
     },
     "execution_count": 105,
     "metadata": {},
     "output_type": "execute_result"
    }
   ],
   "source": [
    "train_df['campaign_id'].nunique()"
   ]
  },
  {
   "cell_type": "code",
   "execution_count": 106,
   "metadata": {},
   "outputs": [
    {
     "data": {
      "text/plain": [
       "18"
      ]
     },
     "execution_count": 106,
     "metadata": {},
     "output_type": "execute_result"
    }
   ],
   "source": [
    "train_when_redeemed_df['campaign_id'].nunique()"
   ]
  },
  {
   "cell_type": "markdown",
   "metadata": {},
   "source": [
    "#### Observations\n",
    "\n",
    "- Highly imbalanced. 99% of training data redemption doesn't happen\n",
    "- Only 247 customers of 1800 have redeemed couoon\n",
    "- Only 239 coupons of 866 have been redeemed\n",
    "- All campaigns exist in both redeemed and non-redeemed data"
   ]
  },
  {
   "cell_type": "markdown",
   "metadata": {},
   "source": [
    "## Pre-processing"
   ]
  },
  {
   "cell_type": "markdown",
   "metadata": {},
   "source": [
    "### Considering it to be a binary classification problem\n",
    "\n",
    "We need a set of features which can help. \n",
    "\n",
    "Set of features to extract from above exploration:\n",
    "    \n",
    "**campaign data**\n",
    "- get number of days of campaign\n",
    "- get month of campaign\n",
    "- keep start date and end date as is\n",
    "- convert X and Y to one-hot \n",
    "\n",
    "**coupon-item mapping**\n",
    "- coupon id's number of items offered (how global kinda is the coupon)\n",
    "- for item id -- number of coupons available on it (will be based on date though)\n",
    "- for item id -- whether it gets featured in any coupon at all (again based on date0\n",
    "- coupon id to one-hot of itmems ?? (so depending upon which exact items are in discount might get redeemed)\n",
    "\n",
    "**customer demographics**\n",
    "- Data for 760 customers is there. Need to check how many of these occur in customer transaction and how many in train data\n",
    "- age_range needs to change to ordinal feature - 1,2,3,4,5 or so. Via a dict.\n",
    "- marital_status has NaN for many. Keep three possible values - married, single, and unknown. So, three features.\n",
    "- Income bracket is already ordinal\n",
    "- Family size mein 5+ can be replaced with 5 and then int operation can be applied on all\n",
    "- no_of_children NaN can be changed to 0?\n",
    "\n",
    "\n",
    "**customer transactions**\n",
    "- 1600 customers involved in purchasing 74,000 items\n",
    "- Extract shopaholic customers -- basically number of transactions done by user\n",
    "- Extract number of times item has been bought as a feature\n",
    "- Then extract the two above features when other_discount is > 0\n",
    "- Extract the two above when other_discount and coupon_discount > 0\n",
    "- Extract the two above when coupon_discount > 0\n",
    "- About 13 lac transactions, out of which 6.8 lacs had some `other_discount` and only ~`22000` had `coupon_discount`. Of these that had coupon discount also not all were coupon that are there in our training data. Some are retailer coupons which we lack date for (got to know this from slack channel)\n",
    "                                                   \n",
    "\n",
    "**item data**\n",
    "- can't do much here\n",
    "- about 5500 brands, 2 brand_type and 19 categories\n",
    "- Finally a coupon has multiple items in it, we can utilise that data to assign percentage of a coupon to each brand, brand_type and category\n",
    "\n",
    "**train data**  \n",
    "- Highly skewed\n",
    "- 18 campaigns exist in both redeemed and non-redeemed time\n",
    "- Only 239 coupons have been redeemed out of 866\n",
    "- Only 247 customers of 1800 have redeemed\n",
    "\n",
    "**test data**\n",
    "- many customers are common between test and train\n",
    "- the campaigns that exist in test are completely separate from campaigns in train\n",
    "- So, we need to make sure to not use campaign id as a feature.\n",
    "\n",
    "\n",
    "------------------------"
   ]
  },
  {
   "cell_type": "markdown",
   "metadata": {
    "toc-hr-collapsed": true
   },
   "source": [
    "### Final decided features \n",
    "\n",
    "**from campaign_id**\n",
    "- campaign_type\n",
    "- no. of days it ran\n",
    "- start_date\n",
    "- end_date\n",
    "- no_of_coupons it has\n",
    "- % of brand\n",
    "- % of local brand\n",
    "- % of category\n",
    "\n",
    "**from coupon_id**\n",
    "- no of items offered\n",
    "- % of categories\n",
    "- % of brand\n",
    "- % of brand_type\n",
    "\n",
    "**from customer_id**\n",
    "- age_range (1,2,3,4,5)\n",
    "- family size\n",
    "- no of children (0 if NaN)\n",
    "- rented \n",
    "- marital status - three values\n",
    "- no. of transactions in total\n",
    "- no. of transactions in campaign_id days\n",
    "- no of transactions in total when other_discount > 0\n",
    "- no of transactions in total when other_discount > 0 in campaign id dates\n",
    "- no of transactions in total when discount_coupon > 0\n",
    "- no of transactions in total when discount_coupon > 0 in campaign id dates\n",
    "- no of transactions in total when discount_coupon > 0 and other_discount > 0 \n",
    "- no of transactions in total when discount_coupon > 0 and other_discount > 0 in campaign id dates\n",
    "- total quantities bought\n",
    "- ***predicted* income bracket** \n",
    "- how many times he has redeemed coupon before\n",
    "- no. of times he has redeemed same coupon before\n",
    "- Total quantities bought % based on categories\n",
    "- Total quantities bought % based on brand\n",
    "- Total quantities bought % based on brand_type\n",
    "- Average % discount for customer_id"
   ]
  },
  {
   "cell_type": "code",
   "execution_count": 130,
   "metadata": {},
   "outputs": [
    {
     "data": {
      "text/html": [
       "<div>\n",
       "<style scoped>\n",
       "    .dataframe tbody tr th:only-of-type {\n",
       "        vertical-align: middle;\n",
       "    }\n",
       "\n",
       "    .dataframe tbody tr th {\n",
       "        vertical-align: top;\n",
       "    }\n",
       "\n",
       "    .dataframe thead th {\n",
       "        text-align: right;\n",
       "    }\n",
       "</style>\n",
       "<table border=\"1\" class=\"dataframe\">\n",
       "  <thead>\n",
       "    <tr style=\"text-align: right;\">\n",
       "      <th></th>\n",
       "      <th>coupon_id</th>\n",
       "      <th>item_id</th>\n",
       "    </tr>\n",
       "  </thead>\n",
       "  <tbody>\n",
       "    <tr>\n",
       "      <th>0</th>\n",
       "      <td>105</td>\n",
       "      <td>37</td>\n",
       "    </tr>\n",
       "    <tr>\n",
       "      <th>1</th>\n",
       "      <td>107</td>\n",
       "      <td>75</td>\n",
       "    </tr>\n",
       "    <tr>\n",
       "      <th>2</th>\n",
       "      <td>494</td>\n",
       "      <td>76</td>\n",
       "    </tr>\n",
       "    <tr>\n",
       "      <th>3</th>\n",
       "      <td>522</td>\n",
       "      <td>77</td>\n",
       "    </tr>\n",
       "    <tr>\n",
       "      <th>4</th>\n",
       "      <td>518</td>\n",
       "      <td>77</td>\n",
       "    </tr>\n",
       "  </tbody>\n",
       "</table>\n",
       "</div>"
      ],
      "text/plain": [
       "   coupon_id  item_id\n",
       "0        105       37\n",
       "1        107       75\n",
       "2        494       76\n",
       "3        522       77\n",
       "4        518       77"
      ]
     },
     "execution_count": 130,
     "metadata": {},
     "output_type": "execute_result"
    }
   ],
   "source": [
    "coupon_item_map_df.head()"
   ]
  },
  {
   "cell_type": "code",
   "execution_count": 131,
   "metadata": {},
   "outputs": [
    {
     "data": {
      "text/html": [
       "<div>\n",
       "<style scoped>\n",
       "    .dataframe tbody tr th:only-of-type {\n",
       "        vertical-align: middle;\n",
       "    }\n",
       "\n",
       "    .dataframe tbody tr th {\n",
       "        vertical-align: top;\n",
       "    }\n",
       "\n",
       "    .dataframe thead th {\n",
       "        text-align: right;\n",
       "    }\n",
       "</style>\n",
       "<table border=\"1\" class=\"dataframe\">\n",
       "  <thead>\n",
       "    <tr style=\"text-align: right;\">\n",
       "      <th></th>\n",
       "      <th>item_id</th>\n",
       "      <th>brand</th>\n",
       "      <th>brand_type</th>\n",
       "      <th>category</th>\n",
       "    </tr>\n",
       "  </thead>\n",
       "  <tbody>\n",
       "    <tr>\n",
       "      <th>0</th>\n",
       "      <td>1</td>\n",
       "      <td>1</td>\n",
       "      <td>Established</td>\n",
       "      <td>Grocery</td>\n",
       "    </tr>\n",
       "    <tr>\n",
       "      <th>1</th>\n",
       "      <td>2</td>\n",
       "      <td>1</td>\n",
       "      <td>Established</td>\n",
       "      <td>Miscellaneous</td>\n",
       "    </tr>\n",
       "    <tr>\n",
       "      <th>2</th>\n",
       "      <td>3</td>\n",
       "      <td>56</td>\n",
       "      <td>Local</td>\n",
       "      <td>Bakery</td>\n",
       "    </tr>\n",
       "    <tr>\n",
       "      <th>3</th>\n",
       "      <td>4</td>\n",
       "      <td>56</td>\n",
       "      <td>Local</td>\n",
       "      <td>Grocery</td>\n",
       "    </tr>\n",
       "    <tr>\n",
       "      <th>4</th>\n",
       "      <td>5</td>\n",
       "      <td>56</td>\n",
       "      <td>Local</td>\n",
       "      <td>Grocery</td>\n",
       "    </tr>\n",
       "  </tbody>\n",
       "</table>\n",
       "</div>"
      ],
      "text/plain": [
       "   item_id  brand   brand_type       category\n",
       "0        1      1  Established        Grocery\n",
       "1        2      1  Established  Miscellaneous\n",
       "2        3     56        Local         Bakery\n",
       "3        4     56        Local        Grocery\n",
       "4        5     56        Local        Grocery"
      ]
     },
     "execution_count": 131,
     "metadata": {},
     "output_type": "execute_result"
    }
   ],
   "source": [
    "item_data_df.head()"
   ]
  },
  {
   "cell_type": "code",
   "execution_count": 132,
   "metadata": {},
   "outputs": [],
   "source": [
    "item_brand_details_df = item_data_df[['item_id','brand']]"
   ]
  },
  {
   "cell_type": "code",
   "execution_count": 133,
   "metadata": {},
   "outputs": [
    {
     "data": {
      "text/html": [
       "<div>\n",
       "<style scoped>\n",
       "    .dataframe tbody tr th:only-of-type {\n",
       "        vertical-align: middle;\n",
       "    }\n",
       "\n",
       "    .dataframe tbody tr th {\n",
       "        vertical-align: top;\n",
       "    }\n",
       "\n",
       "    .dataframe thead th {\n",
       "        text-align: right;\n",
       "    }\n",
       "</style>\n",
       "<table border=\"1\" class=\"dataframe\">\n",
       "  <thead>\n",
       "    <tr style=\"text-align: right;\">\n",
       "      <th></th>\n",
       "      <th>item_id</th>\n",
       "      <th>brand</th>\n",
       "    </tr>\n",
       "  </thead>\n",
       "  <tbody>\n",
       "    <tr>\n",
       "      <th>0</th>\n",
       "      <td>1</td>\n",
       "      <td>1</td>\n",
       "    </tr>\n",
       "    <tr>\n",
       "      <th>1</th>\n",
       "      <td>2</td>\n",
       "      <td>1</td>\n",
       "    </tr>\n",
       "  </tbody>\n",
       "</table>\n",
       "</div>"
      ],
      "text/plain": [
       "   item_id  brand\n",
       "0        1      1\n",
       "1        2      1"
      ]
     },
     "execution_count": 133,
     "metadata": {},
     "output_type": "execute_result"
    }
   ],
   "source": [
    "item_brand_details_df.head(2)"
   ]
  },
  {
   "cell_type": "code",
   "execution_count": 134,
   "metadata": {},
   "outputs": [],
   "source": [
    "item_brand_details_df = pd.concat([item_brand_details_df, pd.get_dummies(item_brand_details_df['brand'], prefix = 'brand')], axis=1)\n"
   ]
  },
  {
   "cell_type": "code",
   "execution_count": 135,
   "metadata": {},
   "outputs": [],
   "source": [
    "del item_brand_details_df['brand']"
   ]
  },
  {
   "cell_type": "code",
   "execution_count": 136,
   "metadata": {},
   "outputs": [
    {
     "data": {
      "text/plain": [
       "(74066, 5529)"
      ]
     },
     "execution_count": 136,
     "metadata": {},
     "output_type": "execute_result"
    }
   ],
   "source": [
    "item_brand_details_df.shape"
   ]
  },
  {
   "cell_type": "code",
   "execution_count": 137,
   "metadata": {},
   "outputs": [
    {
     "data": {
      "text/html": [
       "<div>\n",
       "<style scoped>\n",
       "    .dataframe tbody tr th:only-of-type {\n",
       "        vertical-align: middle;\n",
       "    }\n",
       "\n",
       "    .dataframe tbody tr th {\n",
       "        vertical-align: top;\n",
       "    }\n",
       "\n",
       "    .dataframe thead th {\n",
       "        text-align: right;\n",
       "    }\n",
       "</style>\n",
       "<table border=\"1\" class=\"dataframe\">\n",
       "  <thead>\n",
       "    <tr style=\"text-align: right;\">\n",
       "      <th></th>\n",
       "      <th>item_id</th>\n",
       "      <th>brand_1</th>\n",
       "      <th>brand_2</th>\n",
       "      <th>brand_3</th>\n",
       "      <th>brand_4</th>\n",
       "      <th>brand_5</th>\n",
       "      <th>brand_6</th>\n",
       "      <th>brand_7</th>\n",
       "      <th>brand_8</th>\n",
       "      <th>brand_9</th>\n",
       "      <th>...</th>\n",
       "      <th>brand_5519</th>\n",
       "      <th>brand_5520</th>\n",
       "      <th>brand_5521</th>\n",
       "      <th>brand_5522</th>\n",
       "      <th>brand_5523</th>\n",
       "      <th>brand_5524</th>\n",
       "      <th>brand_5525</th>\n",
       "      <th>brand_5526</th>\n",
       "      <th>brand_5527</th>\n",
       "      <th>brand_5528</th>\n",
       "    </tr>\n",
       "  </thead>\n",
       "  <tbody>\n",
       "    <tr>\n",
       "      <th>0</th>\n",
       "      <td>1</td>\n",
       "      <td>1</td>\n",
       "      <td>0</td>\n",
       "      <td>0</td>\n",
       "      <td>0</td>\n",
       "      <td>0</td>\n",
       "      <td>0</td>\n",
       "      <td>0</td>\n",
       "      <td>0</td>\n",
       "      <td>0</td>\n",
       "      <td>...</td>\n",
       "      <td>0</td>\n",
       "      <td>0</td>\n",
       "      <td>0</td>\n",
       "      <td>0</td>\n",
       "      <td>0</td>\n",
       "      <td>0</td>\n",
       "      <td>0</td>\n",
       "      <td>0</td>\n",
       "      <td>0</td>\n",
       "      <td>0</td>\n",
       "    </tr>\n",
       "    <tr>\n",
       "      <th>1</th>\n",
       "      <td>2</td>\n",
       "      <td>1</td>\n",
       "      <td>0</td>\n",
       "      <td>0</td>\n",
       "      <td>0</td>\n",
       "      <td>0</td>\n",
       "      <td>0</td>\n",
       "      <td>0</td>\n",
       "      <td>0</td>\n",
       "      <td>0</td>\n",
       "      <td>...</td>\n",
       "      <td>0</td>\n",
       "      <td>0</td>\n",
       "      <td>0</td>\n",
       "      <td>0</td>\n",
       "      <td>0</td>\n",
       "      <td>0</td>\n",
       "      <td>0</td>\n",
       "      <td>0</td>\n",
       "      <td>0</td>\n",
       "      <td>0</td>\n",
       "    </tr>\n",
       "  </tbody>\n",
       "</table>\n",
       "<p>2 rows × 5529 columns</p>\n",
       "</div>"
      ],
      "text/plain": [
       "   item_id  brand_1  brand_2  brand_3  brand_4  brand_5  brand_6  brand_7  \\\n",
       "0        1        1        0        0        0        0        0        0   \n",
       "1        2        1        0        0        0        0        0        0   \n",
       "\n",
       "   brand_8  brand_9  ...  brand_5519  brand_5520  brand_5521  brand_5522  \\\n",
       "0        0        0  ...           0           0           0           0   \n",
       "1        0        0  ...           0           0           0           0   \n",
       "\n",
       "   brand_5523  brand_5524  brand_5525  brand_5526  brand_5527  brand_5528  \n",
       "0           0           0           0           0           0           0  \n",
       "1           0           0           0           0           0           0  \n",
       "\n",
       "[2 rows x 5529 columns]"
      ]
     },
     "execution_count": 137,
     "metadata": {},
     "output_type": "execute_result"
    }
   ],
   "source": [
    "item_brand_details_df.head(2)"
   ]
  },
  {
   "cell_type": "code",
   "execution_count": 138,
   "metadata": {},
   "outputs": [],
   "source": [
    "item_brand_details_df = item_brand_details_df.set_index('item_id')"
   ]
  },
  {
   "cell_type": "code",
   "execution_count": 139,
   "metadata": {},
   "outputs": [
    {
     "data": {
      "text/plain": [
       "(74066, 5528)"
      ]
     },
     "execution_count": 139,
     "metadata": {},
     "output_type": "execute_result"
    }
   ],
   "source": [
    "item_brand_details_df.shape"
   ]
  },
  {
   "cell_type": "code",
   "execution_count": 140,
   "metadata": {},
   "outputs": [
    {
     "data": {
      "text/html": [
       "<div>\n",
       "<style scoped>\n",
       "    .dataframe tbody tr th:only-of-type {\n",
       "        vertical-align: middle;\n",
       "    }\n",
       "\n",
       "    .dataframe tbody tr th {\n",
       "        vertical-align: top;\n",
       "    }\n",
       "\n",
       "    .dataframe thead th {\n",
       "        text-align: right;\n",
       "    }\n",
       "</style>\n",
       "<table border=\"1\" class=\"dataframe\">\n",
       "  <thead>\n",
       "    <tr style=\"text-align: right;\">\n",
       "      <th></th>\n",
       "      <th>brand_1</th>\n",
       "      <th>brand_2</th>\n",
       "      <th>brand_3</th>\n",
       "      <th>brand_4</th>\n",
       "      <th>brand_5</th>\n",
       "      <th>brand_6</th>\n",
       "      <th>brand_7</th>\n",
       "      <th>brand_8</th>\n",
       "      <th>brand_9</th>\n",
       "      <th>brand_10</th>\n",
       "      <th>...</th>\n",
       "      <th>brand_5519</th>\n",
       "      <th>brand_5520</th>\n",
       "      <th>brand_5521</th>\n",
       "      <th>brand_5522</th>\n",
       "      <th>brand_5523</th>\n",
       "      <th>brand_5524</th>\n",
       "      <th>brand_5525</th>\n",
       "      <th>brand_5526</th>\n",
       "      <th>brand_5527</th>\n",
       "      <th>brand_5528</th>\n",
       "    </tr>\n",
       "    <tr>\n",
       "      <th>item_id</th>\n",
       "      <th></th>\n",
       "      <th></th>\n",
       "      <th></th>\n",
       "      <th></th>\n",
       "      <th></th>\n",
       "      <th></th>\n",
       "      <th></th>\n",
       "      <th></th>\n",
       "      <th></th>\n",
       "      <th></th>\n",
       "      <th></th>\n",
       "      <th></th>\n",
       "      <th></th>\n",
       "      <th></th>\n",
       "      <th></th>\n",
       "      <th></th>\n",
       "      <th></th>\n",
       "      <th></th>\n",
       "      <th></th>\n",
       "      <th></th>\n",
       "      <th></th>\n",
       "    </tr>\n",
       "  </thead>\n",
       "  <tbody>\n",
       "    <tr>\n",
       "      <th>1</th>\n",
       "      <td>1</td>\n",
       "      <td>0</td>\n",
       "      <td>0</td>\n",
       "      <td>0</td>\n",
       "      <td>0</td>\n",
       "      <td>0</td>\n",
       "      <td>0</td>\n",
       "      <td>0</td>\n",
       "      <td>0</td>\n",
       "      <td>0</td>\n",
       "      <td>...</td>\n",
       "      <td>0</td>\n",
       "      <td>0</td>\n",
       "      <td>0</td>\n",
       "      <td>0</td>\n",
       "      <td>0</td>\n",
       "      <td>0</td>\n",
       "      <td>0</td>\n",
       "      <td>0</td>\n",
       "      <td>0</td>\n",
       "      <td>0</td>\n",
       "    </tr>\n",
       "    <tr>\n",
       "      <th>2</th>\n",
       "      <td>1</td>\n",
       "      <td>0</td>\n",
       "      <td>0</td>\n",
       "      <td>0</td>\n",
       "      <td>0</td>\n",
       "      <td>0</td>\n",
       "      <td>0</td>\n",
       "      <td>0</td>\n",
       "      <td>0</td>\n",
       "      <td>0</td>\n",
       "      <td>...</td>\n",
       "      <td>0</td>\n",
       "      <td>0</td>\n",
       "      <td>0</td>\n",
       "      <td>0</td>\n",
       "      <td>0</td>\n",
       "      <td>0</td>\n",
       "      <td>0</td>\n",
       "      <td>0</td>\n",
       "      <td>0</td>\n",
       "      <td>0</td>\n",
       "    </tr>\n",
       "  </tbody>\n",
       "</table>\n",
       "<p>2 rows × 5528 columns</p>\n",
       "</div>"
      ],
      "text/plain": [
       "         brand_1  brand_2  brand_3  brand_4  brand_5  brand_6  brand_7  \\\n",
       "item_id                                                                  \n",
       "1              1        0        0        0        0        0        0   \n",
       "2              1        0        0        0        0        0        0   \n",
       "\n",
       "         brand_8  brand_9  brand_10  ...  brand_5519  brand_5520  brand_5521  \\\n",
       "item_id                              ...                                       \n",
       "1              0        0         0  ...           0           0           0   \n",
       "2              0        0         0  ...           0           0           0   \n",
       "\n",
       "         brand_5522  brand_5523  brand_5524  brand_5525  brand_5526  \\\n",
       "item_id                                                               \n",
       "1                 0           0           0           0           0   \n",
       "2                 0           0           0           0           0   \n",
       "\n",
       "         brand_5527  brand_5528  \n",
       "item_id                          \n",
       "1                 0           0  \n",
       "2                 0           0  \n",
       "\n",
       "[2 rows x 5528 columns]"
      ]
     },
     "execution_count": 140,
     "metadata": {},
     "output_type": "execute_result"
    }
   ],
   "source": [
    "item_brand_details_df.head(2)"
   ]
  },
  {
   "cell_type": "code",
   "execution_count": 141,
   "metadata": {},
   "outputs": [],
   "source": [
    "item_brand_np = item_brand_details_df.to_numpy()"
   ]
  },
  {
   "cell_type": "code",
   "execution_count": 142,
   "metadata": {},
   "outputs": [],
   "source": [
    "item_ids_idx_list = item_brand_details_df.index.tolist()"
   ]
  },
  {
   "cell_type": "code",
   "execution_count": 143,
   "metadata": {},
   "outputs": [
    {
     "data": {
      "text/plain": [
       "(74066, 5528)"
      ]
     },
     "execution_count": 143,
     "metadata": {},
     "output_type": "execute_result"
    }
   ],
   "source": [
    "item_brand_np.shape"
   ]
  },
  {
   "cell_type": "code",
   "execution_count": 109,
   "metadata": {},
   "outputs": [],
   "source": [
    "# do same for brand type\n",
    "item_brand_type_df = item_data_df[['item_id','brand_type']]\n",
    "item_brand_type_df = pd.concat([item_brand_type_df, pd.get_dummies(item_brand_type_df['brand_type'], prefix = 'brand_type')], axis=1)\n",
    "del item_brand_type_df['brand_type']\n",
    "item_brand_type_df = item_brand_type_df.set_index('item_id')\n",
    "item_brand_type_np = item_brand_type_df.to_numpy()"
   ]
  },
  {
   "cell_type": "code",
   "execution_count": 110,
   "metadata": {},
   "outputs": [
    {
     "data": {
      "text/html": [
       "<div>\n",
       "<style scoped>\n",
       "    .dataframe tbody tr th:only-of-type {\n",
       "        vertical-align: middle;\n",
       "    }\n",
       "\n",
       "    .dataframe tbody tr th {\n",
       "        vertical-align: top;\n",
       "    }\n",
       "\n",
       "    .dataframe thead th {\n",
       "        text-align: right;\n",
       "    }\n",
       "</style>\n",
       "<table border=\"1\" class=\"dataframe\">\n",
       "  <thead>\n",
       "    <tr style=\"text-align: right;\">\n",
       "      <th></th>\n",
       "      <th>brand_type_Established</th>\n",
       "      <th>brand_type_Local</th>\n",
       "    </tr>\n",
       "    <tr>\n",
       "      <th>item_id</th>\n",
       "      <th></th>\n",
       "      <th></th>\n",
       "    </tr>\n",
       "  </thead>\n",
       "  <tbody>\n",
       "    <tr>\n",
       "      <th>1</th>\n",
       "      <td>1</td>\n",
       "      <td>0</td>\n",
       "    </tr>\n",
       "    <tr>\n",
       "      <th>2</th>\n",
       "      <td>1</td>\n",
       "      <td>0</td>\n",
       "    </tr>\n",
       "    <tr>\n",
       "      <th>3</th>\n",
       "      <td>0</td>\n",
       "      <td>1</td>\n",
       "    </tr>\n",
       "  </tbody>\n",
       "</table>\n",
       "</div>"
      ],
      "text/plain": [
       "         brand_type_Established  brand_type_Local\n",
       "item_id                                          \n",
       "1                             1                 0\n",
       "2                             1                 0\n",
       "3                             0                 1"
      ]
     },
     "execution_count": 110,
     "metadata": {},
     "output_type": "execute_result"
    }
   ],
   "source": [
    "item_brand_type_df.head(3)"
   ]
  },
  {
   "cell_type": "code",
   "execution_count": 101,
   "metadata": {},
   "outputs": [
    {
     "data": {
      "text/plain": [
       "array([[1, 0],\n",
       "       [1, 0],\n",
       "       [0, 1]], dtype=uint8)"
      ]
     },
     "execution_count": 101,
     "metadata": {},
     "output_type": "execute_result"
    }
   ],
   "source": [
    "item_brand_type_np[0:3]"
   ]
  },
  {
   "cell_type": "code",
   "execution_count": 111,
   "metadata": {},
   "outputs": [],
   "source": [
    "# do same for category\n",
    "item_category_df = item_data_df[['item_id','category']]\n",
    "item_category_df = pd.concat([item_category_df, pd.get_dummies(item_category_df['category'], prefix = 'category')], axis=1)\n",
    "del item_category_df['category']\n",
    "item_category_df = item_category_df.set_index('item_id')\n",
    "item_category_np = item_category_df.to_numpy()"
   ]
  },
  {
   "cell_type": "code",
   "execution_count": 112,
   "metadata": {},
   "outputs": [
    {
     "data": {
      "text/html": [
       "<div>\n",
       "<style scoped>\n",
       "    .dataframe tbody tr th:only-of-type {\n",
       "        vertical-align: middle;\n",
       "    }\n",
       "\n",
       "    .dataframe tbody tr th {\n",
       "        vertical-align: top;\n",
       "    }\n",
       "\n",
       "    .dataframe thead th {\n",
       "        text-align: right;\n",
       "    }\n",
       "</style>\n",
       "<table border=\"1\" class=\"dataframe\">\n",
       "  <thead>\n",
       "    <tr style=\"text-align: right;\">\n",
       "      <th></th>\n",
       "      <th>category_Alcohol</th>\n",
       "      <th>category_Bakery</th>\n",
       "      <th>category_Dairy, Juices &amp; Snacks</th>\n",
       "      <th>category_Flowers &amp; Plants</th>\n",
       "      <th>category_Fuel</th>\n",
       "      <th>category_Garden</th>\n",
       "      <th>category_Grocery</th>\n",
       "      <th>category_Meat</th>\n",
       "      <th>category_Miscellaneous</th>\n",
       "      <th>category_Natural Products</th>\n",
       "      <th>category_Packaged Meat</th>\n",
       "      <th>category_Pharmaceutical</th>\n",
       "      <th>category_Prepared Food</th>\n",
       "      <th>category_Restauarant</th>\n",
       "      <th>category_Salads</th>\n",
       "      <th>category_Seafood</th>\n",
       "      <th>category_Skin &amp; Hair Care</th>\n",
       "      <th>category_Travel</th>\n",
       "      <th>category_Vegetables (cut)</th>\n",
       "    </tr>\n",
       "    <tr>\n",
       "      <th>item_id</th>\n",
       "      <th></th>\n",
       "      <th></th>\n",
       "      <th></th>\n",
       "      <th></th>\n",
       "      <th></th>\n",
       "      <th></th>\n",
       "      <th></th>\n",
       "      <th></th>\n",
       "      <th></th>\n",
       "      <th></th>\n",
       "      <th></th>\n",
       "      <th></th>\n",
       "      <th></th>\n",
       "      <th></th>\n",
       "      <th></th>\n",
       "      <th></th>\n",
       "      <th></th>\n",
       "      <th></th>\n",
       "      <th></th>\n",
       "    </tr>\n",
       "  </thead>\n",
       "  <tbody>\n",
       "    <tr>\n",
       "      <th>1</th>\n",
       "      <td>0</td>\n",
       "      <td>0</td>\n",
       "      <td>0</td>\n",
       "      <td>0</td>\n",
       "      <td>0</td>\n",
       "      <td>0</td>\n",
       "      <td>1</td>\n",
       "      <td>0</td>\n",
       "      <td>0</td>\n",
       "      <td>0</td>\n",
       "      <td>0</td>\n",
       "      <td>0</td>\n",
       "      <td>0</td>\n",
       "      <td>0</td>\n",
       "      <td>0</td>\n",
       "      <td>0</td>\n",
       "      <td>0</td>\n",
       "      <td>0</td>\n",
       "      <td>0</td>\n",
       "    </tr>\n",
       "    <tr>\n",
       "      <th>2</th>\n",
       "      <td>0</td>\n",
       "      <td>0</td>\n",
       "      <td>0</td>\n",
       "      <td>0</td>\n",
       "      <td>0</td>\n",
       "      <td>0</td>\n",
       "      <td>0</td>\n",
       "      <td>0</td>\n",
       "      <td>1</td>\n",
       "      <td>0</td>\n",
       "      <td>0</td>\n",
       "      <td>0</td>\n",
       "      <td>0</td>\n",
       "      <td>0</td>\n",
       "      <td>0</td>\n",
       "      <td>0</td>\n",
       "      <td>0</td>\n",
       "      <td>0</td>\n",
       "      <td>0</td>\n",
       "    </tr>\n",
       "  </tbody>\n",
       "</table>\n",
       "</div>"
      ],
      "text/plain": [
       "         category_Alcohol  category_Bakery  category_Dairy, Juices & Snacks  \\\n",
       "item_id                                                                       \n",
       "1                       0                0                                0   \n",
       "2                       0                0                                0   \n",
       "\n",
       "         category_Flowers & Plants  category_Fuel  category_Garden  \\\n",
       "item_id                                                              \n",
       "1                                0              0                0   \n",
       "2                                0              0                0   \n",
       "\n",
       "         category_Grocery  category_Meat  category_Miscellaneous  \\\n",
       "item_id                                                            \n",
       "1                       1              0                       0   \n",
       "2                       0              0                       1   \n",
       "\n",
       "         category_Natural Products  category_Packaged Meat  \\\n",
       "item_id                                                      \n",
       "1                                0                       0   \n",
       "2                                0                       0   \n",
       "\n",
       "         category_Pharmaceutical  category_Prepared Food  \\\n",
       "item_id                                                    \n",
       "1                              0                       0   \n",
       "2                              0                       0   \n",
       "\n",
       "         category_Restauarant  category_Salads  category_Seafood  \\\n",
       "item_id                                                            \n",
       "1                           0                0                 0   \n",
       "2                           0                0                 0   \n",
       "\n",
       "         category_Skin & Hair Care  category_Travel  category_Vegetables (cut)  \n",
       "item_id                                                                         \n",
       "1                                0                0                          0  \n",
       "2                                0                0                          0  "
      ]
     },
     "execution_count": 112,
     "metadata": {},
     "output_type": "execute_result"
    }
   ],
   "source": [
    "item_category_df.head(2)"
   ]
  },
  {
   "cell_type": "code",
   "execution_count": 113,
   "metadata": {},
   "outputs": [
    {
     "data": {
      "text/plain": [
       "array([[0, 0, 0, 0, 0, 0, 1, 0, 0, 0, 0, 0, 0, 0, 0, 0, 0, 0, 0],\n",
       "       [0, 0, 0, 0, 0, 0, 0, 0, 1, 0, 0, 0, 0, 0, 0, 0, 0, 0, 0]],\n",
       "      dtype=uint8)"
      ]
     },
     "execution_count": 113,
     "metadata": {},
     "output_type": "execute_result"
    }
   ],
   "source": [
    "item_category_np[0:2]"
   ]
  },
  {
   "cell_type": "code",
   "execution_count": 114,
   "metadata": {},
   "outputs": [
    {
     "data": {
      "text/plain": [
       "(74066, 19)"
      ]
     },
     "execution_count": 114,
     "metadata": {},
     "output_type": "execute_result"
    }
   ],
   "source": [
    "item_category_np.shape"
   ]
  },
  {
   "cell_type": "markdown",
   "metadata": {},
   "source": [
    "#### From campaign_id  \n",
    "- campaign_type\n",
    "- no. of days it ran\n",
    "- start_date\n",
    "- end_date\n",
    "- **no_of_coupons it has** (not taking right now)\n",
    "- **% of brand**\n",
    "- **% of local brand**\n",
    "- **% of category**"
   ]
  },
  {
   "cell_type": "code",
   "execution_count": 115,
   "metadata": {},
   "outputs": [
    {
     "data": {
      "text/html": [
       "<div>\n",
       "<style scoped>\n",
       "    .dataframe tbody tr th:only-of-type {\n",
       "        vertical-align: middle;\n",
       "    }\n",
       "\n",
       "    .dataframe tbody tr th {\n",
       "        vertical-align: top;\n",
       "    }\n",
       "\n",
       "    .dataframe thead th {\n",
       "        text-align: right;\n",
       "    }\n",
       "</style>\n",
       "<table border=\"1\" class=\"dataframe\">\n",
       "  <thead>\n",
       "    <tr style=\"text-align: right;\">\n",
       "      <th></th>\n",
       "      <th>campaign_id</th>\n",
       "      <th>campaign_type</th>\n",
       "      <th>start_date</th>\n",
       "      <th>end_date</th>\n",
       "      <th>num_days</th>\n",
       "    </tr>\n",
       "  </thead>\n",
       "  <tbody>\n",
       "    <tr>\n",
       "      <th>0</th>\n",
       "      <td>24</td>\n",
       "      <td>Y</td>\n",
       "      <td>2013-10-21</td>\n",
       "      <td>2013-12-20</td>\n",
       "      <td>60</td>\n",
       "    </tr>\n",
       "    <tr>\n",
       "      <th>1</th>\n",
       "      <td>25</td>\n",
       "      <td>Y</td>\n",
       "      <td>2013-10-21</td>\n",
       "      <td>2013-11-22</td>\n",
       "      <td>32</td>\n",
       "    </tr>\n",
       "    <tr>\n",
       "      <th>2</th>\n",
       "      <td>20</td>\n",
       "      <td>Y</td>\n",
       "      <td>2013-09-07</td>\n",
       "      <td>2013-11-16</td>\n",
       "      <td>70</td>\n",
       "    </tr>\n",
       "  </tbody>\n",
       "</table>\n",
       "</div>"
      ],
      "text/plain": [
       "   campaign_id campaign_type start_date   end_date  num_days\n",
       "0           24             Y 2013-10-21 2013-12-20        60\n",
       "1           25             Y 2013-10-21 2013-11-22        32\n",
       "2           20             Y 2013-09-07 2013-11-16        70"
      ]
     },
     "execution_count": 115,
     "metadata": {},
     "output_type": "execute_result"
    }
   ],
   "source": [
    "campaign_data_df.head(3)"
   ]
  },
  {
   "cell_type": "code",
   "execution_count": 116,
   "metadata": {},
   "outputs": [],
   "source": [
    "campaign_data_preprocessed_df = campaign_data_df.copy()"
   ]
  },
  {
   "cell_type": "code",
   "execution_count": 117,
   "metadata": {},
   "outputs": [],
   "source": [
    "campaign_data_preprocessed_df = pd.concat([campaign_data_preprocessed_df, pd.get_dummies(campaign_data_preprocessed_df['campaign_type'], prefix = 'campaign_type')], axis=1)\n",
    "del campaign_data_preprocessed_df['campaign_type']"
   ]
  },
  {
   "cell_type": "code",
   "execution_count": 118,
   "metadata": {},
   "outputs": [
    {
     "data": {
      "text/html": [
       "<div>\n",
       "<style scoped>\n",
       "    .dataframe tbody tr th:only-of-type {\n",
       "        vertical-align: middle;\n",
       "    }\n",
       "\n",
       "    .dataframe tbody tr th {\n",
       "        vertical-align: top;\n",
       "    }\n",
       "\n",
       "    .dataframe thead th {\n",
       "        text-align: right;\n",
       "    }\n",
       "</style>\n",
       "<table border=\"1\" class=\"dataframe\">\n",
       "  <thead>\n",
       "    <tr style=\"text-align: right;\">\n",
       "      <th></th>\n",
       "      <th>campaign_id</th>\n",
       "      <th>start_date</th>\n",
       "      <th>end_date</th>\n",
       "      <th>num_days</th>\n",
       "      <th>campaign_type_X</th>\n",
       "      <th>campaign_type_Y</th>\n",
       "    </tr>\n",
       "  </thead>\n",
       "  <tbody>\n",
       "    <tr>\n",
       "      <th>0</th>\n",
       "      <td>24</td>\n",
       "      <td>2013-10-21</td>\n",
       "      <td>2013-12-20</td>\n",
       "      <td>60</td>\n",
       "      <td>0</td>\n",
       "      <td>1</td>\n",
       "    </tr>\n",
       "  </tbody>\n",
       "</table>\n",
       "</div>"
      ],
      "text/plain": [
       "   campaign_id start_date   end_date  num_days  campaign_type_X  \\\n",
       "0           24 2013-10-21 2013-12-20        60                0   \n",
       "\n",
       "   campaign_type_Y  \n",
       "0                1  "
      ]
     },
     "execution_count": 118,
     "metadata": {},
     "output_type": "execute_result"
    }
   ],
   "source": [
    "campaign_data_preprocessed_df.head(1)"
   ]
  },
  {
   "cell_type": "code",
   "execution_count": 119,
   "metadata": {},
   "outputs": [],
   "source": [
    "campaign_data_preprocessed_df['num_days_campaign'] =  (campaign_data_preprocessed_df['end_date'] - campaign_data_preprocessed_df['start_date']).dt.days"
   ]
  },
  {
   "cell_type": "code",
   "execution_count": 120,
   "metadata": {},
   "outputs": [
    {
     "data": {
      "text/html": [
       "<div>\n",
       "<style scoped>\n",
       "    .dataframe tbody tr th:only-of-type {\n",
       "        vertical-align: middle;\n",
       "    }\n",
       "\n",
       "    .dataframe tbody tr th {\n",
       "        vertical-align: top;\n",
       "    }\n",
       "\n",
       "    .dataframe thead th {\n",
       "        text-align: right;\n",
       "    }\n",
       "</style>\n",
       "<table border=\"1\" class=\"dataframe\">\n",
       "  <thead>\n",
       "    <tr style=\"text-align: right;\">\n",
       "      <th></th>\n",
       "      <th>campaign_id</th>\n",
       "      <th>start_date</th>\n",
       "      <th>end_date</th>\n",
       "      <th>num_days</th>\n",
       "      <th>campaign_type_X</th>\n",
       "      <th>campaign_type_Y</th>\n",
       "      <th>num_days_campaign</th>\n",
       "    </tr>\n",
       "  </thead>\n",
       "  <tbody>\n",
       "    <tr>\n",
       "      <th>0</th>\n",
       "      <td>24</td>\n",
       "      <td>2013-10-21</td>\n",
       "      <td>2013-12-20</td>\n",
       "      <td>60</td>\n",
       "      <td>0</td>\n",
       "      <td>1</td>\n",
       "      <td>60</td>\n",
       "    </tr>\n",
       "  </tbody>\n",
       "</table>\n",
       "</div>"
      ],
      "text/plain": [
       "   campaign_id start_date   end_date  num_days  campaign_type_X  \\\n",
       "0           24 2013-10-21 2013-12-20        60                0   \n",
       "\n",
       "   campaign_type_Y  num_days_campaign  \n",
       "0                1                 60  "
      ]
     },
     "execution_count": 120,
     "metadata": {},
     "output_type": "execute_result"
    }
   ],
   "source": [
    "campaign_data_preprocessed_df.head(1)"
   ]
  },
  {
   "cell_type": "markdown",
   "metadata": {},
   "source": [
    "#### From coupon_id  \n",
    "\n",
    "- no of items offered\n",
    "- % of categories\n",
    "- % of brand\n",
    "- % of brand_type"
   ]
  },
  {
   "cell_type": "code",
   "execution_count": 121,
   "metadata": {},
   "outputs": [
    {
     "data": {
      "text/html": [
       "<div>\n",
       "<style scoped>\n",
       "    .dataframe tbody tr th:only-of-type {\n",
       "        vertical-align: middle;\n",
       "    }\n",
       "\n",
       "    .dataframe tbody tr th {\n",
       "        vertical-align: top;\n",
       "    }\n",
       "\n",
       "    .dataframe thead th {\n",
       "        text-align: right;\n",
       "    }\n",
       "</style>\n",
       "<table border=\"1\" class=\"dataframe\">\n",
       "  <thead>\n",
       "    <tr style=\"text-align: right;\">\n",
       "      <th></th>\n",
       "      <th>coupon_id</th>\n",
       "      <th>item_id</th>\n",
       "    </tr>\n",
       "  </thead>\n",
       "  <tbody>\n",
       "    <tr>\n",
       "      <th>0</th>\n",
       "      <td>105</td>\n",
       "      <td>37</td>\n",
       "    </tr>\n",
       "    <tr>\n",
       "      <th>1</th>\n",
       "      <td>107</td>\n",
       "      <td>75</td>\n",
       "    </tr>\n",
       "  </tbody>\n",
       "</table>\n",
       "</div>"
      ],
      "text/plain": [
       "   coupon_id  item_id\n",
       "0        105       37\n",
       "1        107       75"
      ]
     },
     "execution_count": 121,
     "metadata": {},
     "output_type": "execute_result"
    }
   ],
   "source": [
    "coupon_item_map_df.head(2)"
   ]
  },
  {
   "cell_type": "code",
   "execution_count": 122,
   "metadata": {},
   "outputs": [],
   "source": [
    "coupon_item_gby_coupon_df = coupon_item_map_df.groupby('coupon_id').count()"
   ]
  },
  {
   "cell_type": "code",
   "execution_count": 123,
   "metadata": {},
   "outputs": [
    {
     "data": {
      "text/html": [
       "<div>\n",
       "<style scoped>\n",
       "    .dataframe tbody tr th:only-of-type {\n",
       "        vertical-align: middle;\n",
       "    }\n",
       "\n",
       "    .dataframe tbody tr th {\n",
       "        vertical-align: top;\n",
       "    }\n",
       "\n",
       "    .dataframe thead th {\n",
       "        text-align: right;\n",
       "    }\n",
       "</style>\n",
       "<table border=\"1\" class=\"dataframe\">\n",
       "  <thead>\n",
       "    <tr style=\"text-align: right;\">\n",
       "      <th></th>\n",
       "      <th>item_id</th>\n",
       "    </tr>\n",
       "    <tr>\n",
       "      <th>coupon_id</th>\n",
       "      <th></th>\n",
       "    </tr>\n",
       "  </thead>\n",
       "  <tbody>\n",
       "    <tr>\n",
       "      <th>1</th>\n",
       "      <td>39</td>\n",
       "    </tr>\n",
       "    <tr>\n",
       "      <th>2</th>\n",
       "      <td>2</td>\n",
       "    </tr>\n",
       "    <tr>\n",
       "      <th>3</th>\n",
       "      <td>17</td>\n",
       "    </tr>\n",
       "    <tr>\n",
       "      <th>4</th>\n",
       "      <td>24</td>\n",
       "    </tr>\n",
       "    <tr>\n",
       "      <th>5</th>\n",
       "      <td>7</td>\n",
       "    </tr>\n",
       "  </tbody>\n",
       "</table>\n",
       "</div>"
      ],
      "text/plain": [
       "           item_id\n",
       "coupon_id         \n",
       "1               39\n",
       "2                2\n",
       "3               17\n",
       "4               24\n",
       "5                7"
      ]
     },
     "execution_count": 123,
     "metadata": {},
     "output_type": "execute_result"
    }
   ],
   "source": [
    "coupon_item_gby_coupon_df.head()"
   ]
  },
  {
   "cell_type": "code",
   "execution_count": 124,
   "metadata": {},
   "outputs": [],
   "source": [
    "coupon_item_gby_coupon_df = coupon_item_gby_coupon_df.rename(columns={'item_id': 'num_of_items_in_coupon'})"
   ]
  },
  {
   "cell_type": "code",
   "execution_count": 125,
   "metadata": {},
   "outputs": [
    {
     "data": {
      "text/html": [
       "<div>\n",
       "<style scoped>\n",
       "    .dataframe tbody tr th:only-of-type {\n",
       "        vertical-align: middle;\n",
       "    }\n",
       "\n",
       "    .dataframe tbody tr th {\n",
       "        vertical-align: top;\n",
       "    }\n",
       "\n",
       "    .dataframe thead th {\n",
       "        text-align: right;\n",
       "    }\n",
       "</style>\n",
       "<table border=\"1\" class=\"dataframe\">\n",
       "  <thead>\n",
       "    <tr style=\"text-align: right;\">\n",
       "      <th></th>\n",
       "      <th>num_of_items_in_coupon</th>\n",
       "    </tr>\n",
       "    <tr>\n",
       "      <th>coupon_id</th>\n",
       "      <th></th>\n",
       "    </tr>\n",
       "  </thead>\n",
       "  <tbody>\n",
       "    <tr>\n",
       "      <th>1</th>\n",
       "      <td>39</td>\n",
       "    </tr>\n",
       "    <tr>\n",
       "      <th>2</th>\n",
       "      <td>2</td>\n",
       "    </tr>\n",
       "    <tr>\n",
       "      <th>3</th>\n",
       "      <td>17</td>\n",
       "    </tr>\n",
       "    <tr>\n",
       "      <th>4</th>\n",
       "      <td>24</td>\n",
       "    </tr>\n",
       "    <tr>\n",
       "      <th>5</th>\n",
       "      <td>7</td>\n",
       "    </tr>\n",
       "  </tbody>\n",
       "</table>\n",
       "</div>"
      ],
      "text/plain": [
       "           num_of_items_in_coupon\n",
       "coupon_id                        \n",
       "1                              39\n",
       "2                               2\n",
       "3                              17\n",
       "4                              24\n",
       "5                               7"
      ]
     },
     "execution_count": 125,
     "metadata": {},
     "output_type": "execute_result"
    }
   ],
   "source": [
    "coupon_item_gby_coupon_df.head()"
   ]
  },
  {
   "cell_type": "code",
   "execution_count": 126,
   "metadata": {},
   "outputs": [
    {
     "data": {
      "text/plain": [
       "item_id    24\n",
       "dtype: int64"
      ]
     },
     "execution_count": 126,
     "metadata": {},
     "output_type": "execute_result"
    }
   ],
   "source": [
    "# unit test\n",
    "coupon_item_map_df[coupon_item_map_df['coupon_id'] == 4][['item_id']].nunique()"
   ]
  },
  {
   "cell_type": "code",
   "execution_count": 127,
   "metadata": {},
   "outputs": [],
   "source": [
    "coupon_item_gby_coupon_df = coupon_item_gby_coupon_df.reset_index()"
   ]
  },
  {
   "cell_type": "code",
   "execution_count": 128,
   "metadata": {},
   "outputs": [
    {
     "data": {
      "text/html": [
       "<div>\n",
       "<style scoped>\n",
       "    .dataframe tbody tr th:only-of-type {\n",
       "        vertical-align: middle;\n",
       "    }\n",
       "\n",
       "    .dataframe tbody tr th {\n",
       "        vertical-align: top;\n",
       "    }\n",
       "\n",
       "    .dataframe thead th {\n",
       "        text-align: right;\n",
       "    }\n",
       "</style>\n",
       "<table border=\"1\" class=\"dataframe\">\n",
       "  <thead>\n",
       "    <tr style=\"text-align: right;\">\n",
       "      <th></th>\n",
       "      <th>coupon_id</th>\n",
       "      <th>num_of_items_in_coupon</th>\n",
       "    </tr>\n",
       "  </thead>\n",
       "  <tbody>\n",
       "    <tr>\n",
       "      <th>0</th>\n",
       "      <td>1</td>\n",
       "      <td>39</td>\n",
       "    </tr>\n",
       "    <tr>\n",
       "      <th>1</th>\n",
       "      <td>2</td>\n",
       "      <td>2</td>\n",
       "    </tr>\n",
       "    <tr>\n",
       "      <th>2</th>\n",
       "      <td>3</td>\n",
       "      <td>17</td>\n",
       "    </tr>\n",
       "    <tr>\n",
       "      <th>3</th>\n",
       "      <td>4</td>\n",
       "      <td>24</td>\n",
       "    </tr>\n",
       "    <tr>\n",
       "      <th>4</th>\n",
       "      <td>5</td>\n",
       "      <td>7</td>\n",
       "    </tr>\n",
       "  </tbody>\n",
       "</table>\n",
       "</div>"
      ],
      "text/plain": [
       "   coupon_id  num_of_items_in_coupon\n",
       "0          1                      39\n",
       "1          2                       2\n",
       "2          3                      17\n",
       "3          4                      24\n",
       "4          5                       7"
      ]
     },
     "execution_count": 128,
     "metadata": {},
     "output_type": "execute_result"
    }
   ],
   "source": [
    "coupon_item_gby_coupon_df.head()"
   ]
  },
  {
   "cell_type": "code",
   "execution_count": 181,
   "metadata": {},
   "outputs": [
    {
     "name": "stderr",
     "output_type": "stream",
     "text": [
      "100%|██████████| 1116/1116 [00:02<00:00, 539.47it/s]\n"
     ]
    }
   ],
   "source": [
    "# add X\n",
    "coupon_id_list_in_order = coupon_item_gby_coupon_df['coupon_id'].tolist()\n",
    "brand_mat = []\n",
    "brand_type_mat = []\n",
    "category_mat = []\n",
    "for coupon_id in tqdm(coupon_id_list_in_order):\n",
    "    list_of_items_in_coupon = coupon_item_map_df[coupon_item_map_df['coupon_id'] == coupon_id][['item_id']].values\n",
    "    list_of_items_in_coupon = [a[0] for a in list_of_items_in_coupon]\n",
    "    list_of_items_indices = [(a-1) for a in list_of_items_in_coupon]\n",
    "\n",
    "    # coupon_brands_arr = item_brand_np[list_of_items_indices]\n",
    "    # brand_arr = (np.sum(coupon_brands_arr, axis=0)[np.newaxis, :] / np.sum(coupon_brands_arr))\n",
    "    \n",
    "    coupon_brand_type_arr = item_brand_type_np[list_of_items_indices]\n",
    "    brand_type_arr = (np.sum(coupon_brand_type_arr, axis=0)[np.newaxis, :] / np.sum(coupon_brand_type_arr))\n",
    "    \n",
    "    coupon_category_arr = item_category_np[list_of_items_indices]\n",
    "    category_arr = (np.sum(coupon_category_arr, axis=0)[np.newaxis, :] / np.sum(coupon_category_arr))\n",
    "    \n",
    "    # brand_mat.append(brand_arr)\n",
    "    brand_type_mat.append(brand_type_arr)\n",
    "    category_mat.append(category_arr)"
   ]
  },
  {
   "cell_type": "code",
   "execution_count": 182,
   "metadata": {},
   "outputs": [],
   "source": [
    "brand_mat_np = np.array(brand_mat)\n",
    "brand_type_mat_np = np.array(brand_type_mat)\n",
    "category_mat_np = np.array(category_mat)"
   ]
  },
  {
   "cell_type": "code",
   "execution_count": 183,
   "metadata": {},
   "outputs": [],
   "source": [
    "brand_mat_np = np.squeeze(brand_mat_np)\n",
    "brand_type_mat_np = np.squeeze(brand_type_mat_np)\n",
    "category_mat_np = np.squeeze(category_mat_np)\n"
   ]
  },
  {
   "cell_type": "code",
   "execution_count": 186,
   "metadata": {},
   "outputs": [],
   "source": [
    "coupon_item_preprocessed_df = pd.concat([coupon_item_gby_coupon_df, pd.DataFrame(brand_type_mat_np), pd.DataFrame(category_mat_np)], axis=1)\n"
   ]
  },
  {
   "cell_type": "code",
   "execution_count": 187,
   "metadata": {},
   "outputs": [
    {
     "data": {
      "text/html": [
       "<div>\n",
       "<style scoped>\n",
       "    .dataframe tbody tr th:only-of-type {\n",
       "        vertical-align: middle;\n",
       "    }\n",
       "\n",
       "    .dataframe tbody tr th {\n",
       "        vertical-align: top;\n",
       "    }\n",
       "\n",
       "    .dataframe thead th {\n",
       "        text-align: right;\n",
       "    }\n",
       "</style>\n",
       "<table border=\"1\" class=\"dataframe\">\n",
       "  <thead>\n",
       "    <tr style=\"text-align: right;\">\n",
       "      <th></th>\n",
       "      <th>coupon_id</th>\n",
       "      <th>num_of_items_in_coupon</th>\n",
       "      <th>0</th>\n",
       "      <th>1</th>\n",
       "      <th>0</th>\n",
       "      <th>1</th>\n",
       "      <th>2</th>\n",
       "      <th>3</th>\n",
       "      <th>4</th>\n",
       "      <th>5</th>\n",
       "      <th>...</th>\n",
       "      <th>9</th>\n",
       "      <th>10</th>\n",
       "      <th>11</th>\n",
       "      <th>12</th>\n",
       "      <th>13</th>\n",
       "      <th>14</th>\n",
       "      <th>15</th>\n",
       "      <th>16</th>\n",
       "      <th>17</th>\n",
       "      <th>18</th>\n",
       "    </tr>\n",
       "  </thead>\n",
       "  <tbody>\n",
       "    <tr>\n",
       "      <th>0</th>\n",
       "      <td>1</td>\n",
       "      <td>39</td>\n",
       "      <td>1.0</td>\n",
       "      <td>0.0</td>\n",
       "      <td>0.0</td>\n",
       "      <td>0.0</td>\n",
       "      <td>0.0</td>\n",
       "      <td>0.0</td>\n",
       "      <td>0.0</td>\n",
       "      <td>0.0</td>\n",
       "      <td>...</td>\n",
       "      <td>0.769231</td>\n",
       "      <td>0.0</td>\n",
       "      <td>0.0</td>\n",
       "      <td>0.0</td>\n",
       "      <td>0.0</td>\n",
       "      <td>0.0</td>\n",
       "      <td>0.0</td>\n",
       "      <td>0.0</td>\n",
       "      <td>0.0</td>\n",
       "      <td>0.0</td>\n",
       "    </tr>\n",
       "    <tr>\n",
       "      <th>1</th>\n",
       "      <td>2</td>\n",
       "      <td>2</td>\n",
       "      <td>1.0</td>\n",
       "      <td>0.0</td>\n",
       "      <td>0.0</td>\n",
       "      <td>0.0</td>\n",
       "      <td>0.0</td>\n",
       "      <td>0.0</td>\n",
       "      <td>0.0</td>\n",
       "      <td>0.0</td>\n",
       "      <td>...</td>\n",
       "      <td>0.000000</td>\n",
       "      <td>0.0</td>\n",
       "      <td>0.0</td>\n",
       "      <td>0.0</td>\n",
       "      <td>0.0</td>\n",
       "      <td>0.0</td>\n",
       "      <td>0.0</td>\n",
       "      <td>0.0</td>\n",
       "      <td>0.0</td>\n",
       "      <td>0.0</td>\n",
       "    </tr>\n",
       "    <tr>\n",
       "      <th>2</th>\n",
       "      <td>3</td>\n",
       "      <td>17</td>\n",
       "      <td>1.0</td>\n",
       "      <td>0.0</td>\n",
       "      <td>0.0</td>\n",
       "      <td>0.0</td>\n",
       "      <td>0.0</td>\n",
       "      <td>0.0</td>\n",
       "      <td>0.0</td>\n",
       "      <td>0.0</td>\n",
       "      <td>...</td>\n",
       "      <td>0.000000</td>\n",
       "      <td>0.0</td>\n",
       "      <td>0.0</td>\n",
       "      <td>0.0</td>\n",
       "      <td>0.0</td>\n",
       "      <td>0.0</td>\n",
       "      <td>0.0</td>\n",
       "      <td>0.0</td>\n",
       "      <td>0.0</td>\n",
       "      <td>0.0</td>\n",
       "    </tr>\n",
       "    <tr>\n",
       "      <th>3</th>\n",
       "      <td>4</td>\n",
       "      <td>24</td>\n",
       "      <td>1.0</td>\n",
       "      <td>0.0</td>\n",
       "      <td>0.0</td>\n",
       "      <td>0.0</td>\n",
       "      <td>0.0</td>\n",
       "      <td>0.0</td>\n",
       "      <td>0.0</td>\n",
       "      <td>0.0</td>\n",
       "      <td>...</td>\n",
       "      <td>0.000000</td>\n",
       "      <td>0.0</td>\n",
       "      <td>0.0</td>\n",
       "      <td>0.0</td>\n",
       "      <td>0.0</td>\n",
       "      <td>0.0</td>\n",
       "      <td>0.0</td>\n",
       "      <td>0.0</td>\n",
       "      <td>0.0</td>\n",
       "      <td>0.0</td>\n",
       "    </tr>\n",
       "    <tr>\n",
       "      <th>4</th>\n",
       "      <td>5</td>\n",
       "      <td>7</td>\n",
       "      <td>1.0</td>\n",
       "      <td>0.0</td>\n",
       "      <td>0.0</td>\n",
       "      <td>0.0</td>\n",
       "      <td>0.0</td>\n",
       "      <td>0.0</td>\n",
       "      <td>0.0</td>\n",
       "      <td>0.0</td>\n",
       "      <td>...</td>\n",
       "      <td>0.000000</td>\n",
       "      <td>0.0</td>\n",
       "      <td>1.0</td>\n",
       "      <td>0.0</td>\n",
       "      <td>0.0</td>\n",
       "      <td>0.0</td>\n",
       "      <td>0.0</td>\n",
       "      <td>0.0</td>\n",
       "      <td>0.0</td>\n",
       "      <td>0.0</td>\n",
       "    </tr>\n",
       "  </tbody>\n",
       "</table>\n",
       "<p>5 rows × 23 columns</p>\n",
       "</div>"
      ],
      "text/plain": [
       "   coupon_id  num_of_items_in_coupon    0    1    0    1    2    3    4    5  \\\n",
       "0          1                      39  1.0  0.0  0.0  0.0  0.0  0.0  0.0  0.0   \n",
       "1          2                       2  1.0  0.0  0.0  0.0  0.0  0.0  0.0  0.0   \n",
       "2          3                      17  1.0  0.0  0.0  0.0  0.0  0.0  0.0  0.0   \n",
       "3          4                      24  1.0  0.0  0.0  0.0  0.0  0.0  0.0  0.0   \n",
       "4          5                       7  1.0  0.0  0.0  0.0  0.0  0.0  0.0  0.0   \n",
       "\n",
       "   ...         9   10   11   12   13   14   15   16   17   18  \n",
       "0  ...  0.769231  0.0  0.0  0.0  0.0  0.0  0.0  0.0  0.0  0.0  \n",
       "1  ...  0.000000  0.0  0.0  0.0  0.0  0.0  0.0  0.0  0.0  0.0  \n",
       "2  ...  0.000000  0.0  0.0  0.0  0.0  0.0  0.0  0.0  0.0  0.0  \n",
       "3  ...  0.000000  0.0  0.0  0.0  0.0  0.0  0.0  0.0  0.0  0.0  \n",
       "4  ...  0.000000  0.0  1.0  0.0  0.0  0.0  0.0  0.0  0.0  0.0  \n",
       "\n",
       "[5 rows x 23 columns]"
      ]
     },
     "execution_count": 187,
     "metadata": {},
     "output_type": "execute_result"
    }
   ],
   "source": [
    "coupon_item_preprocessed_df.head()"
   ]
  },
  {
   "cell_type": "markdown",
   "metadata": {},
   "source": [
    "#### From customer_id  \n",
    "\n",
    "- age_range (1,2,3,4,5)\n",
    "- family size\n",
    "- no of children (0 if NaN)\n",
    "- rented \n",
    "- marital status - three values\n",
    "- no. of transactions in total\n",
    "- *no. of transactions in campaign_id days*\n",
    "- no of transactions in total when other_discount > 0\n",
    "- *no of transactions in total when other_discount > 0 in campaign id dates*\n",
    "- no of transactions in total when discount_coupon > 0\n",
    "- *no of transactions in total when discount_coupon > 0 in campaign id dates*\n",
    "- no of transactions in total when discount_coupon > 0 and other_discount > 0 \n",
    "- *no of transactions in total when discount_coupon > 0 and other_discount > 0 in campaign id dates*\n",
    "- **total quantities bought**\n",
    "- ***predicted* income bracket**\n",
    "- how many times he has redeemed coupon before\n",
    "- *no. of times he has redeemed same coupon before*\n",
    "- **Total quantities bought % based on categories**\n",
    "- **Total quantities bought % based on brand**\n",
    "- **Total quantities bought % based on brand_type**\n",
    "- Average % discount for customer_id"
   ]
  },
  {
   "cell_type": "code",
   "execution_count": 149,
   "metadata": {},
   "outputs": [],
   "source": [
    "def get_transaction_dicts_for_customer(train_df, customer_transaction_data_df):\n",
    "    customer_ids_from_train = train_df['customer_id'].tolist()\n",
    "    customer_ids_from_transactions = customer_transaction_data_df['customer_id'].tolist()\n",
    "    list_customer_ids = list(set(customer_ids_from_train).union(set(customer_ids_from_transactions)))\n",
    "    data_for_columns = {\n",
    "        'customer_id':[],\n",
    "        'no_of_transactions':[],\n",
    "        'no_of_transactions_with_odr_discount_gt0':[],\n",
    "        'no_of_transactions_with_coupon_discount_gt0':[],\n",
    "        'no_of_transactions_with_both_discount_gt0':[],\n",
    "        'times_coupon_redeemed_before': [],\n",
    "        'ever_redeemed_before': [],\n",
    "        'average_other_discount': [],\n",
    "        'average_coupon_discount': [],\n",
    "        'average_combined_discount': [],\n",
    "    }\n",
    "    for customer_id in tqdm(list_customer_ids):\n",
    "        data_for_columns['customer_id'].append(customer_id)\n",
    "        cus_txn_df = customer_transaction_data_df[customer_transaction_data_df['customer_id']==customer_id]\n",
    "        # transaction features\n",
    "        data_for_columns['no_of_transactions'].append(cus_txn_df.shape[0])\n",
    "        data_for_columns['no_of_transactions_with_odr_discount_gt0'].append(cus_txn_df[cus_txn_df['other_discount'] < 0].shape[0])\n",
    "        data_for_columns['no_of_transactions_with_coupon_discount_gt0'].append(cus_txn_df[cus_txn_df['coupon_discount'] < 0].shape[0])\n",
    "        data_for_columns['no_of_transactions_with_both_discount_gt0'].append(cus_txn_df[(cus_txn_df['coupon_discount'] < 0) & (cus_txn_df['other_discount'] < 0)].shape[0])\n",
    "        data_for_columns['average_other_discount'].append(cus_txn_df['other_discount'].mean())\n",
    "        data_for_columns['average_coupon_discount'].append(cus_txn_df['coupon_discount'].mean())\n",
    "        data_for_columns['average_combined_discount'].append((cus_txn_df['coupon_discount'] + cus_txn_df['other_discount']).mean())\n",
    "        # coupon redemption features\n",
    "        cus_train_df = train_df[train_df['customer_id'] == customer_id]\n",
    "        times_redeemed_before = cus_train_df[cus_train_df['redemption_status'] > 0].shape[0]\n",
    "        data_for_columns['times_coupon_redeemed_before'].append(times_redeemed_before)\n",
    "        if times_redeemed_before > 0:\n",
    "            data_for_columns['ever_redeemed_before'].append(1)\n",
    "        else:\n",
    "            data_for_columns['ever_redeemed_before'].append(0)\n",
    "\n",
    "    return pd.DataFrame.from_dict(data_for_columns)"
   ]
  },
  {
   "cell_type": "code",
   "execution_count": 150,
   "metadata": {},
   "outputs": [
    {
     "name": "stderr",
     "output_type": "stream",
     "text": [
      "100%|██████████| 1582/1582 [00:12<00:00, 130.56it/s]\n"
     ]
    }
   ],
   "source": [
    "customers_preprocessed_df = get_transaction_dicts_for_customer(train_df, customer_transaction_data_df)"
   ]
  },
  {
   "cell_type": "code",
   "execution_count": 151,
   "metadata": {},
   "outputs": [
    {
     "data": {
      "text/html": [
       "<div>\n",
       "<style scoped>\n",
       "    .dataframe tbody tr th:only-of-type {\n",
       "        vertical-align: middle;\n",
       "    }\n",
       "\n",
       "    .dataframe tbody tr th {\n",
       "        vertical-align: top;\n",
       "    }\n",
       "\n",
       "    .dataframe thead th {\n",
       "        text-align: right;\n",
       "    }\n",
       "</style>\n",
       "<table border=\"1\" class=\"dataframe\">\n",
       "  <thead>\n",
       "    <tr style=\"text-align: right;\">\n",
       "      <th></th>\n",
       "      <th>customer_id</th>\n",
       "      <th>no_of_transactions</th>\n",
       "      <th>no_of_transactions_with_odr_discount_gt0</th>\n",
       "      <th>no_of_transactions_with_coupon_discount_gt0</th>\n",
       "      <th>no_of_transactions_with_both_discount_gt0</th>\n",
       "      <th>times_coupon_redeemed_before</th>\n",
       "      <th>ever_redeemed_before</th>\n",
       "      <th>average_other_discount</th>\n",
       "      <th>average_coupon_discount</th>\n",
       "      <th>average_combined_discount</th>\n",
       "    </tr>\n",
       "  </thead>\n",
       "  <tbody>\n",
       "    <tr>\n",
       "      <th>0</th>\n",
       "      <td>1</td>\n",
       "      <td>1048</td>\n",
       "      <td>497</td>\n",
       "      <td>78</td>\n",
       "      <td>45</td>\n",
       "      <td>2</td>\n",
       "      <td>1</td>\n",
       "      <td>-16.250382</td>\n",
       "      <td>-2.019876</td>\n",
       "      <td>-18.270258</td>\n",
       "    </tr>\n",
       "    <tr>\n",
       "      <th>1</th>\n",
       "      <td>2</td>\n",
       "      <td>419</td>\n",
       "      <td>179</td>\n",
       "      <td>4</td>\n",
       "      <td>2</td>\n",
       "      <td>0</td>\n",
       "      <td>0</td>\n",
       "      <td>-16.830430</td>\n",
       "      <td>-0.595084</td>\n",
       "      <td>-17.425513</td>\n",
       "    </tr>\n",
       "    <tr>\n",
       "      <th>2</th>\n",
       "      <td>3</td>\n",
       "      <td>705</td>\n",
       "      <td>393</td>\n",
       "      <td>53</td>\n",
       "      <td>28</td>\n",
       "      <td>0</td>\n",
       "      <td>0</td>\n",
       "      <td>-22.714227</td>\n",
       "      <td>-3.091546</td>\n",
       "      <td>-25.805773</td>\n",
       "    </tr>\n",
       "    <tr>\n",
       "      <th>3</th>\n",
       "      <td>4</td>\n",
       "      <td>220</td>\n",
       "      <td>85</td>\n",
       "      <td>1</td>\n",
       "      <td>1</td>\n",
       "      <td>0</td>\n",
       "      <td>0</td>\n",
       "      <td>-13.305409</td>\n",
       "      <td>-0.404773</td>\n",
       "      <td>-13.710182</td>\n",
       "    </tr>\n",
       "    <tr>\n",
       "      <th>4</th>\n",
       "      <td>5</td>\n",
       "      <td>792</td>\n",
       "      <td>290</td>\n",
       "      <td>2</td>\n",
       "      <td>2</td>\n",
       "      <td>0</td>\n",
       "      <td>0</td>\n",
       "      <td>-13.657917</td>\n",
       "      <td>-0.114684</td>\n",
       "      <td>-13.772601</td>\n",
       "    </tr>\n",
       "  </tbody>\n",
       "</table>\n",
       "</div>"
      ],
      "text/plain": [
       "   customer_id  no_of_transactions  no_of_transactions_with_odr_discount_gt0  \\\n",
       "0            1                1048                                       497   \n",
       "1            2                 419                                       179   \n",
       "2            3                 705                                       393   \n",
       "3            4                 220                                        85   \n",
       "4            5                 792                                       290   \n",
       "\n",
       "   no_of_transactions_with_coupon_discount_gt0  \\\n",
       "0                                           78   \n",
       "1                                            4   \n",
       "2                                           53   \n",
       "3                                            1   \n",
       "4                                            2   \n",
       "\n",
       "   no_of_transactions_with_both_discount_gt0  times_coupon_redeemed_before  \\\n",
       "0                                         45                             2   \n",
       "1                                          2                             0   \n",
       "2                                         28                             0   \n",
       "3                                          1                             0   \n",
       "4                                          2                             0   \n",
       "\n",
       "   ever_redeemed_before  average_other_discount  average_coupon_discount  \\\n",
       "0                     1              -16.250382                -2.019876   \n",
       "1                     0              -16.830430                -0.595084   \n",
       "2                     0              -22.714227                -3.091546   \n",
       "3                     0              -13.305409                -0.404773   \n",
       "4                     0              -13.657917                -0.114684   \n",
       "\n",
       "   average_combined_discount  \n",
       "0                 -18.270258  \n",
       "1                 -17.425513  \n",
       "2                 -25.805773  \n",
       "3                 -13.710182  \n",
       "4                 -13.772601  "
      ]
     },
     "execution_count": 151,
     "metadata": {},
     "output_type": "execute_result"
    }
   ],
   "source": [
    "customers_preprocessed_df.head()"
   ]
  },
  {
   "cell_type": "code",
   "execution_count": 152,
   "metadata": {},
   "outputs": [],
   "source": [
    "def get_features_df_related_to_customer_and_coupon_and_campaign(df_to_fill, \n",
    "                                                                train_df, \n",
    "                                                                customer_transaction_data_df, \n",
    "                                                                campaign_data_df):\n",
    "    \n",
    "    feature_data_df = df_to_fill.copy()\n",
    "    feature_data_df['no_of_transactions_in_campaign'] = 0\n",
    "    feature_data_df['no_of_transactions_in_campaign_with_odr_discount_gt0'] = 0\n",
    "    feature_data_df['no_of_transactions_in_campaign_with_coupon_discount_gt0'] = 0\n",
    "    feature_data_df['no_of_transactions_in_campaign_with_both_discount_gt0'] = 0\n",
    "    feature_data_df['no_of_times_this_coupon_redeemed_before'] = 0    \n",
    "    \n",
    "    for iter, row in tqdm(df_to_fill.iterrows(), total=df_to_fill.shape[0]):\n",
    "        customer_id = row['customer_id']\n",
    "        coupon_id = row['coupon_id']\n",
    "        campaign_id = row['campaign_id']\n",
    "        \n",
    "        campaign_start_date, campaign_end_date = pd.to_datetime(campaign_data_df[campaign_data_df['campaign_id']==campaign_id][['start_date','end_date']].values[0])\n",
    "        cus_txn_df = customer_transaction_data_df[(customer_transaction_data_df['customer_id']==customer_id) \n",
    "                                                  & (pd.to_datetime(customer_transaction_data_df['date']) >= campaign_start_date)\n",
    "                                                  & (pd.to_datetime(customer_transaction_data_df['date']) <= campaign_end_date)]\n",
    "        \n",
    "        # transactions\n",
    "        feature_data_df.at[iter,'no_of_transactions_in_campaign'] = cus_txn_df.shape[0]\n",
    "        feature_data_df.at[iter,'no_of_transactions_in_campaign_with_odr_discount_gt0'] = cus_txn_df[cus_txn_df['other_discount'] < 0].shape[0]\n",
    "        feature_data_df.at[iter,'no_of_transactions_in_campaign_with_coupon_discount_gt0'] = cus_txn_df[cus_txn_df['coupon_discount'] < 0].shape[0]\n",
    "        feature_data_df.at[iter,'no_of_transactions_in_campaign_with_both_discount_gt0'] = cus_txn_df[(cus_txn_df['coupon_discount'] < 0) & (cus_txn_df['other_discount'] < 0)].shape[0]\n",
    "        \n",
    "        # coupon\n",
    "        feature_data_df.at[iter,'no_of_times_this_coupon_redeemed_before'] = train_df[(train_df['customer_id'] == customer_id) & (train_df['coupon_id'] == coupon_id) & (train_df['redemption_status'] == 1)].shape[0]\n",
    "    \n",
    "    return feature_data_df"
   ]
  },
  {
   "cell_type": "code",
   "execution_count": 180,
   "metadata": {},
   "outputs": [
    {
     "name": "stderr",
     "output_type": "stream",
     "text": [
      "100%|██████████| 78369/78369 [23:20<00:00, 55.97it/s]\n"
     ]
    }
   ],
   "source": [
    "customer_local_features_df = get_features_df_related_to_customer_and_coupon_and_campaign(train_df, train_df, customer_transaction_df, campaign_data_df)"
   ]
  },
  {
   "cell_type": "code",
   "execution_count": 182,
   "metadata": {},
   "outputs": [],
   "source": [
    "with open('./Data/customer_train_df_local_features_df.pkl', 'wb') as f:\n",
    "    pickle.dump(customer_local_features_df, f)"
   ]
  },
  {
   "cell_type": "code",
   "execution_count": 153,
   "metadata": {},
   "outputs": [],
   "source": [
    "with open('./Data/customer_train_df_local_features_df.pkl', 'rb') as f:\n",
    "    customer_local_features_df = pickle.load(f)"
   ]
  },
  {
   "cell_type": "markdown",
   "metadata": {},
   "source": [
    "### Merging Pre-processed Data\n",
    "\n",
    "- `customers_preprocessed_df` : containing customer_id related features. 1 row for each customer_id\n",
    "- `customer_local_features_df` : built by adding new columns to train_df / test_df\n",
    "- `coupon_item_preprocessed_df` : one row for each coupon id. Contains info related to brand %, item % etc.\n",
    "- `campaign_data_preprocessed_df` : one row for each campaign. 4-5 columns only\n",
    "\n",
    "Steps :   \n",
    "1. Build `customer_local_features_df`\n",
    "2. Merge `customers_preprocessed_df` into it based on `customer_id`. Check that columns should only increase, no rows increase.\n",
    "3. Merge `coupon_item_preprocessed_df` into it. Only cols should increase.\n",
    "4. Merge `campaign_data_preprocessed_df` ; only columns should increase.\n",
    "5. Remove unnecessary fields and use data to train algorithms.\n",
    "\n",
    "\n",
    "***Later try to also merge customer demographic data. But that's gonna introduce more categorical variables, which most ML algos don't like. However, lightGBM can work with categorical columns!***"
   ]
  },
  {
   "cell_type": "code",
   "execution_count": 188,
   "metadata": {},
   "outputs": [],
   "source": [
    "# lets build upon train_i_df\n",
    "train_i_df = customer_local_features_df.copy()"
   ]
  },
  {
   "cell_type": "code",
   "execution_count": 189,
   "metadata": {},
   "outputs": [
    {
     "data": {
      "text/plain": [
       "(78369, 10)"
      ]
     },
     "execution_count": 189,
     "metadata": {},
     "output_type": "execute_result"
    }
   ],
   "source": [
    "train_i_df.shape"
   ]
  },
  {
   "cell_type": "code",
   "execution_count": 190,
   "metadata": {},
   "outputs": [
    {
     "data": {
      "text/html": [
       "<div>\n",
       "<style scoped>\n",
       "    .dataframe tbody tr th:only-of-type {\n",
       "        vertical-align: middle;\n",
       "    }\n",
       "\n",
       "    .dataframe tbody tr th {\n",
       "        vertical-align: top;\n",
       "    }\n",
       "\n",
       "    .dataframe thead th {\n",
       "        text-align: right;\n",
       "    }\n",
       "</style>\n",
       "<table border=\"1\" class=\"dataframe\">\n",
       "  <thead>\n",
       "    <tr style=\"text-align: right;\">\n",
       "      <th></th>\n",
       "      <th>id</th>\n",
       "      <th>campaign_id</th>\n",
       "      <th>coupon_id</th>\n",
       "      <th>customer_id</th>\n",
       "      <th>redemption_status</th>\n",
       "      <th>no_of_transactions_in_campaign</th>\n",
       "      <th>no_of_transactions_in_campaign_with_odr_discount_gt0</th>\n",
       "      <th>no_of_transactions_in_campaign_with_coupon_discount_gt0</th>\n",
       "      <th>no_of_transactions_in_campaign_with_both_discount_gt0</th>\n",
       "      <th>no_of_times_this_coupon_redeemed_before</th>\n",
       "    </tr>\n",
       "  </thead>\n",
       "  <tbody>\n",
       "    <tr>\n",
       "      <th>0</th>\n",
       "      <td>1</td>\n",
       "      <td>13</td>\n",
       "      <td>27</td>\n",
       "      <td>1053</td>\n",
       "      <td>0</td>\n",
       "      <td>40</td>\n",
       "      <td>23</td>\n",
       "      <td>1</td>\n",
       "      <td>1</td>\n",
       "      <td>0</td>\n",
       "    </tr>\n",
       "    <tr>\n",
       "      <th>1</th>\n",
       "      <td>2</td>\n",
       "      <td>13</td>\n",
       "      <td>116</td>\n",
       "      <td>48</td>\n",
       "      <td>0</td>\n",
       "      <td>31</td>\n",
       "      <td>16</td>\n",
       "      <td>0</td>\n",
       "      <td>0</td>\n",
       "      <td>0</td>\n",
       "    </tr>\n",
       "  </tbody>\n",
       "</table>\n",
       "</div>"
      ],
      "text/plain": [
       "   id  campaign_id  coupon_id  customer_id  redemption_status  \\\n",
       "0   1           13         27         1053                  0   \n",
       "1   2           13        116           48                  0   \n",
       "\n",
       "   no_of_transactions_in_campaign  \\\n",
       "0                              40   \n",
       "1                              31   \n",
       "\n",
       "   no_of_transactions_in_campaign_with_odr_discount_gt0  \\\n",
       "0                                                 23      \n",
       "1                                                 16      \n",
       "\n",
       "   no_of_transactions_in_campaign_with_coupon_discount_gt0  \\\n",
       "0                                                  1         \n",
       "1                                                  0         \n",
       "\n",
       "   no_of_transactions_in_campaign_with_both_discount_gt0  \\\n",
       "0                                                  1       \n",
       "1                                                  0       \n",
       "\n",
       "   no_of_times_this_coupon_redeemed_before  \n",
       "0                                        0  \n",
       "1                                        0  "
      ]
     },
     "execution_count": 190,
     "metadata": {},
     "output_type": "execute_result"
    }
   ],
   "source": [
    "train_i_df.head(2)"
   ]
  },
  {
   "cell_type": "code",
   "execution_count": 191,
   "metadata": {},
   "outputs": [],
   "source": [
    "train_i_df = train_i_df.merge(customers_preprocessed_df, on='customer_id')"
   ]
  },
  {
   "cell_type": "code",
   "execution_count": 192,
   "metadata": {},
   "outputs": [
    {
     "data": {
      "text/plain": [
       "(78369, 19)"
      ]
     },
     "execution_count": 192,
     "metadata": {},
     "output_type": "execute_result"
    }
   ],
   "source": [
    "train_i_df.shape"
   ]
  },
  {
   "cell_type": "code",
   "execution_count": 193,
   "metadata": {},
   "outputs": [],
   "source": [
    "train_i_df = train_i_df.merge(coupon_item_preprocessed_df, on='coupon_id')"
   ]
  },
  {
   "cell_type": "code",
   "execution_count": 194,
   "metadata": {},
   "outputs": [
    {
     "data": {
      "text/plain": [
       "(78369, 41)"
      ]
     },
     "execution_count": 194,
     "metadata": {},
     "output_type": "execute_result"
    }
   ],
   "source": [
    "train_i_df.shape"
   ]
  },
  {
   "cell_type": "code",
   "execution_count": 195,
   "metadata": {},
   "outputs": [],
   "source": [
    "train_i_df = train_i_df.merge(campaign_data_preprocessed_df, on='campaign_id')"
   ]
  },
  {
   "cell_type": "code",
   "execution_count": 196,
   "metadata": {},
   "outputs": [
    {
     "data": {
      "text/plain": [
       "(78369, 47)"
      ]
     },
     "execution_count": 196,
     "metadata": {},
     "output_type": "execute_result"
    }
   ],
   "source": [
    "train_i_df.shape"
   ]
  },
  {
   "cell_type": "code",
   "execution_count": 197,
   "metadata": {},
   "outputs": [
    {
     "data": {
      "text/html": [
       "<div>\n",
       "<style scoped>\n",
       "    .dataframe tbody tr th:only-of-type {\n",
       "        vertical-align: middle;\n",
       "    }\n",
       "\n",
       "    .dataframe tbody tr th {\n",
       "        vertical-align: top;\n",
       "    }\n",
       "\n",
       "    .dataframe thead th {\n",
       "        text-align: right;\n",
       "    }\n",
       "</style>\n",
       "<table border=\"1\" class=\"dataframe\">\n",
       "  <thead>\n",
       "    <tr style=\"text-align: right;\">\n",
       "      <th></th>\n",
       "      <th>id</th>\n",
       "      <th>campaign_id</th>\n",
       "      <th>coupon_id</th>\n",
       "      <th>customer_id</th>\n",
       "      <th>redemption_status</th>\n",
       "      <th>no_of_transactions_in_campaign</th>\n",
       "      <th>no_of_transactions_in_campaign_with_odr_discount_gt0</th>\n",
       "      <th>no_of_transactions_in_campaign_with_coupon_discount_gt0</th>\n",
       "      <th>no_of_transactions_in_campaign_with_both_discount_gt0</th>\n",
       "      <th>no_of_times_this_coupon_redeemed_before</th>\n",
       "      <th>...</th>\n",
       "      <th>15</th>\n",
       "      <th>16</th>\n",
       "      <th>17</th>\n",
       "      <th>18</th>\n",
       "      <th>start_date</th>\n",
       "      <th>end_date</th>\n",
       "      <th>num_days</th>\n",
       "      <th>campaign_type_X</th>\n",
       "      <th>campaign_type_Y</th>\n",
       "      <th>num_days_campaign</th>\n",
       "    </tr>\n",
       "  </thead>\n",
       "  <tbody>\n",
       "    <tr>\n",
       "      <th>0</th>\n",
       "      <td>1</td>\n",
       "      <td>13</td>\n",
       "      <td>27</td>\n",
       "      <td>1053</td>\n",
       "      <td>0</td>\n",
       "      <td>40</td>\n",
       "      <td>23</td>\n",
       "      <td>1</td>\n",
       "      <td>1</td>\n",
       "      <td>0</td>\n",
       "      <td>...</td>\n",
       "      <td>0.0</td>\n",
       "      <td>0.0</td>\n",
       "      <td>0.0</td>\n",
       "      <td>0.0</td>\n",
       "      <td>2013-05-19</td>\n",
       "      <td>2013-07-05</td>\n",
       "      <td>47</td>\n",
       "      <td>1</td>\n",
       "      <td>0</td>\n",
       "      <td>47</td>\n",
       "    </tr>\n",
       "  </tbody>\n",
       "</table>\n",
       "<p>1 rows × 47 columns</p>\n",
       "</div>"
      ],
      "text/plain": [
       "   id  campaign_id  coupon_id  customer_id  redemption_status  \\\n",
       "0   1           13         27         1053                  0   \n",
       "\n",
       "   no_of_transactions_in_campaign  \\\n",
       "0                              40   \n",
       "\n",
       "   no_of_transactions_in_campaign_with_odr_discount_gt0  \\\n",
       "0                                                 23      \n",
       "\n",
       "   no_of_transactions_in_campaign_with_coupon_discount_gt0  \\\n",
       "0                                                  1         \n",
       "\n",
       "   no_of_transactions_in_campaign_with_both_discount_gt0  \\\n",
       "0                                                  1       \n",
       "\n",
       "   no_of_times_this_coupon_redeemed_before  ...   15   16   17   18  \\\n",
       "0                                        0  ...  0.0  0.0  0.0  0.0   \n",
       "\n",
       "   start_date   end_date  num_days  campaign_type_X  campaign_type_Y  \\\n",
       "0  2013-05-19 2013-07-05        47                1                0   \n",
       "\n",
       "   num_days_campaign  \n",
       "0                 47  \n",
       "\n",
       "[1 rows x 47 columns]"
      ]
     },
     "execution_count": 197,
     "metadata": {},
     "output_type": "execute_result"
    }
   ],
   "source": [
    "train_i_df.head(1)"
   ]
  },
  {
   "cell_type": "markdown",
   "metadata": {},
   "source": [
    "# Models"
   ]
  },
  {
   "cell_type": "markdown",
   "metadata": {},
   "source": [
    "## Xgboost "
   ]
  },
  {
   "cell_type": "code",
   "execution_count": 214,
   "metadata": {},
   "outputs": [],
   "source": [
    "# get the labels\n",
    "y_i = train_i_df['redemption_status'].values\n",
    "\n",
    "train_i_df_fin = train_i_df.drop(['id', 'campaign_id', 'coupon_id', 'customer_id' ,'redemption_status', 'start_date', 'end_date'], axis=1)\n",
    "x_i = train_i_df_fin.values\n",
    "\n",
    "\n",
    "#\n",
    "# Create training and validation sets\n",
    "#\n",
    "x_tr_i, x_val_i, y_tr_i, y_val_i = train_test_split(x_i, y_i, test_size=0.4, random_state=42, stratify=y_i)\n"
   ]
  },
  {
   "cell_type": "code",
   "execution_count": 214,
   "metadata": {},
   "outputs": [],
   "source": [
    "model_i = XGBClassifier(n_jobs=6)"
   ]
  },
  {
   "cell_type": "code",
   "execution_count": 215,
   "metadata": {},
   "outputs": [
    {
     "data": {
      "text/plain": [
       "XGBClassifier(base_score=0.5, booster='gbtree', colsample_bylevel=1,\n",
       "       colsample_bynode=1, colsample_bytree=1, gamma=0, learning_rate=0.1,\n",
       "       max_delta_step=0, max_depth=3, min_child_weight=1, missing=None,\n",
       "       n_estimators=100, n_jobs=6, nthread=None,\n",
       "       objective='binary:logistic', random_state=0, reg_alpha=0,\n",
       "       reg_lambda=1, scale_pos_weight=1, seed=None, silent=None,\n",
       "       subsample=1, verbosity=1)"
      ]
     },
     "execution_count": 215,
     "metadata": {},
     "output_type": "execute_result"
    }
   ],
   "source": [
    "model_i.fit(x_tr_i, y_tr_i)"
   ]
  },
  {
   "cell_type": "markdown",
   "metadata": {},
   "source": [
    "This job started at around Thu Oct  3 20:01:42 UTC 2019  ( or around 1:30am)"
   ]
  },
  {
   "cell_type": "code",
   "execution_count": 216,
   "metadata": {},
   "outputs": [
    {
     "name": "stdout",
     "output_type": "stream",
     "text": [
      "2019-10-03 20:02:03.256704\n"
     ]
    }
   ],
   "source": [
    "from datetime import datetime\n",
    "print(datetime.now())"
   ]
  },
  {
   "cell_type": "code",
   "execution_count": 217,
   "metadata": {},
   "outputs": [],
   "source": [
    "y_pred_val = model_i.predict(x_val_i)"
   ]
  },
  {
   "cell_type": "code",
   "execution_count": 221,
   "metadata": {},
   "outputs": [],
   "source": [
    "accuracy = accuracy_score(y_val_i, y_pred_val)"
   ]
  },
  {
   "cell_type": "code",
   "execution_count": 222,
   "metadata": {},
   "outputs": [
    {
     "data": {
      "text/plain": [
       "0.9996810003827995"
      ]
     },
     "execution_count": 222,
     "metadata": {},
     "output_type": "execute_result"
    }
   ],
   "source": [
    "accuracy"
   ]
  },
  {
   "cell_type": "code",
   "execution_count": 224,
   "metadata": {},
   "outputs": [],
   "source": [
    "y_pred_val_prob = model_i.predict_proba(x_val_i)"
   ]
  },
  {
   "cell_type": "markdown",
   "metadata": {},
   "source": [
    "### Predicting for test"
   ]
  },
  {
   "cell_type": "code",
   "execution_count": 201,
   "metadata": {},
   "outputs": [],
   "source": [
    "test_data_df = pd.read_csv('./Data/test_QyjYwdj.csv')"
   ]
  },
  {
   "cell_type": "code",
   "execution_count": 202,
   "metadata": {},
   "outputs": [
    {
     "data": {
      "text/html": [
       "<div>\n",
       "<style scoped>\n",
       "    .dataframe tbody tr th:only-of-type {\n",
       "        vertical-align: middle;\n",
       "    }\n",
       "\n",
       "    .dataframe tbody tr th {\n",
       "        vertical-align: top;\n",
       "    }\n",
       "\n",
       "    .dataframe thead th {\n",
       "        text-align: right;\n",
       "    }\n",
       "</style>\n",
       "<table border=\"1\" class=\"dataframe\">\n",
       "  <thead>\n",
       "    <tr style=\"text-align: right;\">\n",
       "      <th></th>\n",
       "      <th>id</th>\n",
       "      <th>campaign_id</th>\n",
       "      <th>coupon_id</th>\n",
       "      <th>customer_id</th>\n",
       "    </tr>\n",
       "  </thead>\n",
       "  <tbody>\n",
       "    <tr>\n",
       "      <th>0</th>\n",
       "      <td>3</td>\n",
       "      <td>22</td>\n",
       "      <td>869</td>\n",
       "      <td>967</td>\n",
       "    </tr>\n",
       "    <tr>\n",
       "      <th>1</th>\n",
       "      <td>4</td>\n",
       "      <td>20</td>\n",
       "      <td>389</td>\n",
       "      <td>1566</td>\n",
       "    </tr>\n",
       "  </tbody>\n",
       "</table>\n",
       "</div>"
      ],
      "text/plain": [
       "   id  campaign_id  coupon_id  customer_id\n",
       "0   3           22        869          967\n",
       "1   4           20        389         1566"
      ]
     },
     "execution_count": 202,
     "metadata": {},
     "output_type": "execute_result"
    }
   ],
   "source": [
    "test_data_df.head(2)"
   ]
  },
  {
   "cell_type": "code",
   "execution_count": 204,
   "metadata": {
    "collapsed": true,
    "jupyter": {
     "outputs_hidden": true
    }
   },
   "outputs": [
    {
     "name": "stderr",
     "output_type": "stream",
     "text": [
      "  2%|▏         | 1030/50226 [00:21<17:11, 47.69it/s]"
     ]
    },
    {
     "ename": "KeyboardInterrupt",
     "evalue": "",
     "output_type": "error",
     "traceback": [
      "\u001b[0;31m---------------------------------------------------------------------------\u001b[0m",
      "\u001b[0;31mKeyboardInterrupt\u001b[0m                         Traceback (most recent call last)",
      "\u001b[0;32m<ipython-input-204-34bc03ff3ba9>\u001b[0m in \u001b[0;36m<module>\u001b[0;34m\u001b[0m\n\u001b[0;32m----> 1\u001b[0;31m \u001b[0mtest_data_i_df\u001b[0m \u001b[0;34m=\u001b[0m \u001b[0mget_features_df_related_to_customer_and_coupon_and_campaign\u001b[0m\u001b[0;34m(\u001b[0m\u001b[0mtest_data_df\u001b[0m\u001b[0;34m,\u001b[0m \u001b[0mtrain_df\u001b[0m\u001b[0;34m,\u001b[0m \u001b[0mcustomer_transaction_df\u001b[0m\u001b[0;34m,\u001b[0m \u001b[0mcampaign_data_df\u001b[0m\u001b[0;34m)\u001b[0m\u001b[0;34m\u001b[0m\u001b[0;34m\u001b[0m\u001b[0m\n\u001b[0m",
      "\u001b[0;32m<ipython-input-152-8052c0c26b09>\u001b[0m in \u001b[0;36mget_features_df_related_to_customer_and_coupon_and_campaign\u001b[0;34m(df_to_fill, train_df, customer_transaction_data_df, campaign_data_df)\u001b[0m\n\u001b[1;32m     19\u001b[0m         cus_txn_df = customer_transaction_data_df[(customer_transaction_data_df['customer_id']==customer_id) \n\u001b[1;32m     20\u001b[0m                                                   \u001b[0;34m&\u001b[0m \u001b[0;34m(\u001b[0m\u001b[0mpd\u001b[0m\u001b[0;34m.\u001b[0m\u001b[0mto_datetime\u001b[0m\u001b[0;34m(\u001b[0m\u001b[0mcustomer_transaction_data_df\u001b[0m\u001b[0;34m[\u001b[0m\u001b[0;34m'date'\u001b[0m\u001b[0;34m]\u001b[0m\u001b[0;34m)\u001b[0m \u001b[0;34m>=\u001b[0m \u001b[0mcampaign_start_date\u001b[0m\u001b[0;34m)\u001b[0m\u001b[0;34m\u001b[0m\u001b[0;34m\u001b[0m\u001b[0m\n\u001b[0;32m---> 21\u001b[0;31m                                                   & (pd.to_datetime(customer_transaction_data_df['date']) <= campaign_end_date)]\n\u001b[0m\u001b[1;32m     22\u001b[0m \u001b[0;34m\u001b[0m\u001b[0m\n\u001b[1;32m     23\u001b[0m         \u001b[0;31m# transactions\u001b[0m\u001b[0;34m\u001b[0m\u001b[0;34m\u001b[0m\u001b[0;34m\u001b[0m\u001b[0m\n",
      "\u001b[0;32m~/miniconda3/envs/xray/lib/python3.6/site-packages/pandas/core/ops.py\u001b[0m in \u001b[0;36mwrapper\u001b[0;34m(self, other, axis)\u001b[0m\n\u001b[1;32m   1764\u001b[0m \u001b[0;34m\u001b[0m\u001b[0m\n\u001b[1;32m   1765\u001b[0m             \u001b[0;32mwith\u001b[0m \u001b[0mnp\u001b[0m\u001b[0;34m.\u001b[0m\u001b[0merrstate\u001b[0m\u001b[0;34m(\u001b[0m\u001b[0mall\u001b[0m\u001b[0;34m=\u001b[0m\u001b[0;34m'ignore'\u001b[0m\u001b[0;34m)\u001b[0m\u001b[0;34m:\u001b[0m\u001b[0;34m\u001b[0m\u001b[0;34m\u001b[0m\u001b[0m\n\u001b[0;32m-> 1766\u001b[0;31m                 \u001b[0mres\u001b[0m \u001b[0;34m=\u001b[0m \u001b[0mna_op\u001b[0m\u001b[0;34m(\u001b[0m\u001b[0mvalues\u001b[0m\u001b[0;34m,\u001b[0m \u001b[0mother\u001b[0m\u001b[0;34m)\u001b[0m\u001b[0;34m\u001b[0m\u001b[0;34m\u001b[0m\u001b[0m\n\u001b[0m\u001b[1;32m   1767\u001b[0m             \u001b[0;32mif\u001b[0m \u001b[0mis_scalar\u001b[0m\u001b[0;34m(\u001b[0m\u001b[0mres\u001b[0m\u001b[0;34m)\u001b[0m\u001b[0;34m:\u001b[0m\u001b[0;34m\u001b[0m\u001b[0;34m\u001b[0m\u001b[0m\n\u001b[1;32m   1768\u001b[0m                 raise TypeError('Could not compare {typ} type with Series'\n",
      "\u001b[0;32m~/miniconda3/envs/xray/lib/python3.6/site-packages/pandas/core/ops.py\u001b[0m in \u001b[0;36mna_op\u001b[0;34m(x, y)\u001b[0m\n\u001b[1;32m   1647\u001b[0m             \u001b[0;32mif\u001b[0m \u001b[0mmethod\u001b[0m \u001b[0;32mis\u001b[0m \u001b[0;32mnot\u001b[0m \u001b[0;32mNone\u001b[0m\u001b[0;34m:\u001b[0m\u001b[0;34m\u001b[0m\u001b[0;34m\u001b[0m\u001b[0m\n\u001b[1;32m   1648\u001b[0m                 \u001b[0;32mwith\u001b[0m \u001b[0mnp\u001b[0m\u001b[0;34m.\u001b[0m\u001b[0merrstate\u001b[0m\u001b[0;34m(\u001b[0m\u001b[0mall\u001b[0m\u001b[0;34m=\u001b[0m\u001b[0;34m'ignore'\u001b[0m\u001b[0;34m)\u001b[0m\u001b[0;34m:\u001b[0m\u001b[0;34m\u001b[0m\u001b[0;34m\u001b[0m\u001b[0m\n\u001b[0;32m-> 1649\u001b[0;31m                     \u001b[0mresult\u001b[0m \u001b[0;34m=\u001b[0m \u001b[0mmethod\u001b[0m\u001b[0;34m(\u001b[0m\u001b[0my\u001b[0m\u001b[0;34m)\u001b[0m\u001b[0;34m\u001b[0m\u001b[0;34m\u001b[0m\u001b[0m\n\u001b[0m\u001b[1;32m   1650\u001b[0m                 \u001b[0;32mif\u001b[0m \u001b[0mresult\u001b[0m \u001b[0;32mis\u001b[0m \u001b[0mNotImplemented\u001b[0m\u001b[0;34m:\u001b[0m\u001b[0;34m\u001b[0m\u001b[0;34m\u001b[0m\u001b[0m\n\u001b[1;32m   1651\u001b[0m                     \u001b[0;32mreturn\u001b[0m \u001b[0minvalid_comparison\u001b[0m\u001b[0;34m(\u001b[0m\u001b[0mx\u001b[0m\u001b[0;34m,\u001b[0m \u001b[0my\u001b[0m\u001b[0;34m,\u001b[0m \u001b[0mop\u001b[0m\u001b[0;34m)\u001b[0m\u001b[0;34m\u001b[0m\u001b[0;34m\u001b[0m\u001b[0m\n",
      "\u001b[0;31mKeyboardInterrupt\u001b[0m: "
     ]
    }
   ],
   "source": [
    "test_data_i_df = get_features_df_related_to_customer_and_coupon_and_campaign(test_data_df, train_df, customer_transaction_df, campaign_data_df)\n"
   ]
  },
  {
   "cell_type": "code",
   "execution_count": 232,
   "metadata": {},
   "outputs": [],
   "source": [
    "with open('./Data/test_data_i_df.pkl', 'wb') as f:\n",
    "    pickle.dump(test_data_i_df, f)"
   ]
  },
  {
   "cell_type": "code",
   "execution_count": 205,
   "metadata": {},
   "outputs": [],
   "source": [
    "with open('./Data/test_data_i_df.pkl', 'rb') as f:\n",
    "    test_data_i_df = pickle.load(f)"
   ]
  },
  {
   "cell_type": "code",
   "execution_count": 206,
   "metadata": {},
   "outputs": [
    {
     "data": {
      "text/plain": [
       "(50226, 9)"
      ]
     },
     "execution_count": 206,
     "metadata": {},
     "output_type": "execute_result"
    }
   ],
   "source": [
    "test_data_i_df.shape"
   ]
  },
  {
   "cell_type": "code",
   "execution_count": 207,
   "metadata": {},
   "outputs": [],
   "source": [
    "test_data_i_df = test_data_i_df.merge(customers_preprocessed_df, on='customer_id')\n",
    "test_data_i_df = test_data_i_df.merge(coupon_item_preprocessed_df, on='coupon_id')\n",
    "test_data_i_df = test_data_i_df.merge(campaign_data_preprocessed_df, on='campaign_id')"
   ]
  },
  {
   "cell_type": "code",
   "execution_count": 208,
   "metadata": {},
   "outputs": [
    {
     "data": {
      "text/plain": [
       "(50226, 46)"
      ]
     },
     "execution_count": 208,
     "metadata": {},
     "output_type": "execute_result"
    }
   ],
   "source": [
    "test_data_i_df.shape"
   ]
  },
  {
   "cell_type": "code",
   "execution_count": 209,
   "metadata": {},
   "outputs": [
    {
     "name": "stderr",
     "output_type": "stream",
     "text": [
      "  2%|▏         | 1030/50226 [00:40<17:11, 47.69it/s]"
     ]
    }
   ],
   "source": [
    "test_data_i_df_fin = test_data_i_df.drop(['id', 'campaign_id', 'coupon_id', 'customer_id' , 'start_date', 'end_date'], axis=1)\n",
    "x_test_i = test_data_i_df_fin.values\n"
   ]
  },
  {
   "cell_type": "code",
   "execution_count": 210,
   "metadata": {},
   "outputs": [
    {
     "data": {
      "text/plain": [
       "(50226, 40)"
      ]
     },
     "execution_count": 210,
     "metadata": {},
     "output_type": "execute_result"
    }
   ],
   "source": [
    "x_test_i.shape"
   ]
  },
  {
   "cell_type": "code",
   "execution_count": 237,
   "metadata": {},
   "outputs": [],
   "source": [
    "y_pred_test_prob_i = model_i.predict_proba(x_test_i)\n",
    "y_pred_test_i = model_i.predict(x_test_i)"
   ]
  },
  {
   "cell_type": "markdown",
   "metadata": {},
   "source": [
    "### Submitting"
   ]
  },
  {
   "cell_type": "code",
   "execution_count": 238,
   "metadata": {},
   "outputs": [],
   "source": [
    "submit_i = pd.read_csv('./Data/sample_submission_Byiv0dS.csv')"
   ]
  },
  {
   "cell_type": "code",
   "execution_count": 239,
   "metadata": {},
   "outputs": [
    {
     "data": {
      "text/html": [
       "<div>\n",
       "<style scoped>\n",
       "    .dataframe tbody tr th:only-of-type {\n",
       "        vertical-align: middle;\n",
       "    }\n",
       "\n",
       "    .dataframe tbody tr th {\n",
       "        vertical-align: top;\n",
       "    }\n",
       "\n",
       "    .dataframe thead th {\n",
       "        text-align: right;\n",
       "    }\n",
       "</style>\n",
       "<table border=\"1\" class=\"dataframe\">\n",
       "  <thead>\n",
       "    <tr style=\"text-align: right;\">\n",
       "      <th></th>\n",
       "      <th>id</th>\n",
       "      <th>redemption_status</th>\n",
       "    </tr>\n",
       "  </thead>\n",
       "  <tbody>\n",
       "    <tr>\n",
       "      <th>0</th>\n",
       "      <td>3</td>\n",
       "      <td>0</td>\n",
       "    </tr>\n",
       "    <tr>\n",
       "      <th>1</th>\n",
       "      <td>4</td>\n",
       "      <td>0</td>\n",
       "    </tr>\n",
       "  </tbody>\n",
       "</table>\n",
       "</div>"
      ],
      "text/plain": [
       "   id  redemption_status\n",
       "0   3                  0\n",
       "1   4                  0"
      ]
     },
     "execution_count": 239,
     "metadata": {},
     "output_type": "execute_result"
    }
   ],
   "source": [
    "submit_i.head(2)"
   ]
  },
  {
   "cell_type": "code",
   "execution_count": 240,
   "metadata": {},
   "outputs": [
    {
     "data": {
      "text/plain": [
       "(50226, 2)"
      ]
     },
     "execution_count": 240,
     "metadata": {},
     "output_type": "execute_result"
    }
   ],
   "source": [
    "submit_i.shape"
   ]
  },
  {
   "cell_type": "code",
   "execution_count": 241,
   "metadata": {},
   "outputs": [
    {
     "data": {
      "text/plain": [
       "(0, 2)"
      ]
     },
     "execution_count": 241,
     "metadata": {},
     "output_type": "execute_result"
    }
   ],
   "source": [
    "submit_i[submit_i['redemption_status']==1].shape"
   ]
  },
  {
   "cell_type": "code",
   "execution_count": 242,
   "metadata": {},
   "outputs": [],
   "source": [
    "submit_i['redemption_status'] = y_pred_test_i"
   ]
  },
  {
   "cell_type": "code",
   "execution_count": 243,
   "metadata": {},
   "outputs": [
    {
     "data": {
      "text/plain": [
       "(36, 2)"
      ]
     },
     "execution_count": 243,
     "metadata": {},
     "output_type": "execute_result"
    }
   ],
   "source": [
    "submit_i[submit_i['redemption_status']==1].shape"
   ]
  },
  {
   "cell_type": "code",
   "execution_count": 244,
   "metadata": {},
   "outputs": [
    {
     "data": {
      "text/plain": [
       "(50226, 2)"
      ]
     },
     "execution_count": 244,
     "metadata": {},
     "output_type": "execute_result"
    }
   ],
   "source": [
    "submit_i.shape"
   ]
  },
  {
   "cell_type": "code",
   "execution_count": 245,
   "metadata": {},
   "outputs": [],
   "source": [
    "submit_i.to_csv('./Data/submit_i.csv', index=False)"
   ]
  },
  {
   "cell_type": "code",
   "execution_count": 246,
   "metadata": {},
   "outputs": [],
   "source": [
    "submit_i_probs = pd.read_csv('./Data/sample_submission_Byiv0dS.csv')"
   ]
  },
  {
   "cell_type": "code",
   "execution_count": 247,
   "metadata": {},
   "outputs": [],
   "source": [
    "submit_i_probs['redemption_status'] = y_pred_test_prob_i"
   ]
  },
  {
   "cell_type": "code",
   "execution_count": 248,
   "metadata": {},
   "outputs": [],
   "source": [
    "submit_i_probs.to_csv('./Data/submit_i_probs.csv', index=False)"
   ]
  },
  {
   "cell_type": "markdown",
   "metadata": {},
   "source": [
    "## Using lightgbm"
   ]
  },
  {
   "cell_type": "code",
   "execution_count": null,
   "metadata": {},
   "outputs": [],
   "source": [
    "x_tr_i, x_val_i, y_tr_i, y_val_i"
   ]
  },
  {
   "cell_type": "code",
   "execution_count": 215,
   "metadata": {},
   "outputs": [
    {
     "data": {
      "text/plain": [
       "(47021, 40)"
      ]
     },
     "execution_count": 215,
     "metadata": {},
     "output_type": "execute_result"
    }
   ],
   "source": [
    "x_tr_i.shape"
   ]
  },
  {
   "cell_type": "code",
   "execution_count": 221,
   "metadata": {},
   "outputs": [],
   "source": [
    "sc = StandardScaler()"
   ]
  },
  {
   "cell_type": "code",
   "execution_count": 222,
   "metadata": {
    "collapsed": true,
    "jupyter": {
     "outputs_hidden": true
    }
   },
   "outputs": [
    {
     "name": "stdout",
     "output_type": "stream",
     "text": [
      "[1]\tvalid_0's auc: 0.900343\n",
      "Training until validation scores don't improve for 100 rounds\n",
      "[2]\tvalid_0's auc: 0.979878\n",
      "[3]\tvalid_0's auc: 0.977421\n",
      "[4]\tvalid_0's auc: 0.975477\n",
      "[5]\tvalid_0's auc: 0.973596\n",
      "[6]\tvalid_0's auc: 0.980396\n",
      "[7]\tvalid_0's auc: 0.98376\n",
      "[8]\tvalid_0's auc: 0.983645\n",
      "[9]\tvalid_0's auc: 0.982151\n",
      "[10]\tvalid_0's auc: 0.980325\n",
      "[11]\tvalid_0's auc: 0.980326\n",
      "[12]\tvalid_0's auc: 0.982945\n",
      "[13]\tvalid_0's auc: 0.984285\n",
      "[14]\tvalid_0's auc: 0.983612\n",
      "[15]\tvalid_0's auc: 0.984496\n",
      "[16]\tvalid_0's auc: 0.984991\n",
      "[17]\tvalid_0's auc: 0.984702\n",
      "[18]\tvalid_0's auc: 0.985119\n",
      "[19]\tvalid_0's auc: 0.9853\n",
      "[20]\tvalid_0's auc: 0.985225\n",
      "[21]\tvalid_0's auc: 0.985419\n",
      "[22]\tvalid_0's auc: 0.985439\n",
      "[23]\tvalid_0's auc: 0.985504\n",
      "[24]\tvalid_0's auc: 0.985504\n",
      "[25]\tvalid_0's auc: 0.985676\n",
      "[26]\tvalid_0's auc: 0.985922\n",
      "[27]\tvalid_0's auc: 0.986252\n",
      "[28]\tvalid_0's auc: 0.986445\n",
      "[29]\tvalid_0's auc: 0.986888\n",
      "[30]\tvalid_0's auc: 0.987065\n",
      "[31]\tvalid_0's auc: 0.987154\n",
      "[32]\tvalid_0's auc: 0.987311\n",
      "[33]\tvalid_0's auc: 0.987511\n",
      "[34]\tvalid_0's auc: 0.987982\n",
      "[35]\tvalid_0's auc: 0.988153\n",
      "[36]\tvalid_0's auc: 0.988266\n",
      "[37]\tvalid_0's auc: 0.988756\n",
      "[38]\tvalid_0's auc: 0.989362\n",
      "[39]\tvalid_0's auc: 0.989611\n",
      "[40]\tvalid_0's auc: 0.989804\n",
      "[41]\tvalid_0's auc: 0.989954\n",
      "[42]\tvalid_0's auc: 0.990163\n",
      "[43]\tvalid_0's auc: 0.990771\n",
      "[44]\tvalid_0's auc: 0.991413\n",
      "[45]\tvalid_0's auc: 0.991626\n",
      "[46]\tvalid_0's auc: 0.992252\n",
      "[47]\tvalid_0's auc: 0.992481\n",
      "[48]\tvalid_0's auc: 0.992589\n",
      "[49]\tvalid_0's auc: 0.992716\n",
      "[50]\tvalid_0's auc: 0.99326\n",
      "[51]\tvalid_0's auc: 0.993728\n",
      "[52]\tvalid_0's auc: 0.99422\n",
      "[53]\tvalid_0's auc: 0.994709\n",
      "[54]\tvalid_0's auc: 0.99475\n",
      "[55]\tvalid_0's auc: 0.99523\n",
      "[56]\tvalid_0's auc: 0.99569\n",
      "[57]\tvalid_0's auc: 0.995751\n",
      "[58]\tvalid_0's auc: 0.996178\n",
      "[59]\tvalid_0's auc: 0.996156\n",
      "[60]\tvalid_0's auc: 0.996145\n",
      "[61]\tvalid_0's auc: 0.996533\n",
      "[62]\tvalid_0's auc: 0.996579\n",
      "[63]\tvalid_0's auc: 0.996589\n",
      "[64]\tvalid_0's auc: 0.996959\n",
      "[65]\tvalid_0's auc: 0.997294\n",
      "[66]\tvalid_0's auc: 0.997615\n",
      "[67]\tvalid_0's auc: 0.997619\n",
      "[68]\tvalid_0's auc: 0.997901\n",
      "[69]\tvalid_0's auc: 0.997874\n",
      "[70]\tvalid_0's auc: 0.998131\n",
      "[71]\tvalid_0's auc: 0.998063\n",
      "[72]\tvalid_0's auc: 0.998293\n",
      "[73]\tvalid_0's auc: 0.998497\n",
      "[74]\tvalid_0's auc: 0.998666\n",
      "[75]\tvalid_0's auc: 0.998647\n",
      "[76]\tvalid_0's auc: 0.998629\n",
      "[77]\tvalid_0's auc: 0.998594\n",
      "[78]\tvalid_0's auc: 0.998741\n",
      "[79]\tvalid_0's auc: 0.998887\n",
      "[80]\tvalid_0's auc: 0.998896\n",
      "[81]\tvalid_0's auc: 0.999041\n",
      "[82]\tvalid_0's auc: 0.999042\n",
      "[83]\tvalid_0's auc: 0.999173\n",
      "[84]\tvalid_0's auc: 0.999287\n",
      "[85]\tvalid_0's auc: 0.999378\n",
      "[86]\tvalid_0's auc: 0.999463\n",
      "[87]\tvalid_0's auc: 0.999436\n",
      "[88]\tvalid_0's auc: 0.999417\n",
      "[89]\tvalid_0's auc: 0.999483\n",
      "[90]\tvalid_0's auc: 0.999538\n",
      "[91]\tvalid_0's auc: 0.99959\n",
      "[92]\tvalid_0's auc: 0.999571\n",
      "[93]\tvalid_0's auc: 0.999551\n",
      "[94]\tvalid_0's auc: 0.999549\n",
      "[95]\tvalid_0's auc: 0.999521\n",
      "[96]\tvalid_0's auc: 0.999497\n",
      "[97]\tvalid_0's auc: 0.999502\n",
      "[98]\tvalid_0's auc: 0.999555\n",
      "[99]\tvalid_0's auc: 0.999531\n",
      "[100]\tvalid_0's auc: 0.99958\n",
      "[101]\tvalid_0's auc: 0.999582\n",
      "[102]\tvalid_0's auc: 0.999581\n",
      "[103]\tvalid_0's auc: 0.999565\n",
      "[104]\tvalid_0's auc: 0.999576\n",
      "[105]\tvalid_0's auc: 0.999621\n",
      "[106]\tvalid_0's auc: 0.999634\n",
      "[107]\tvalid_0's auc: 0.999638\n",
      "[108]\tvalid_0's auc: 0.999624\n",
      "[109]\tvalid_0's auc: 0.999628\n",
      "[110]\tvalid_0's auc: 0.999674\n",
      "[111]\tvalid_0's auc: 0.999709\n",
      "[112]\tvalid_0's auc: 0.999746\n",
      "[113]\tvalid_0's auc: 0.999783\n",
      "[114]\tvalid_0's auc: 0.999815\n",
      "[115]\tvalid_0's auc: 0.999838\n",
      "[116]\tvalid_0's auc: 0.999839\n",
      "[117]\tvalid_0's auc: 0.999857\n",
      "[118]\tvalid_0's auc: 0.999857\n",
      "[119]\tvalid_0's auc: 0.999857\n",
      "[120]\tvalid_0's auc: 0.999858\n",
      "[121]\tvalid_0's auc: 0.999872\n",
      "[122]\tvalid_0's auc: 0.999872\n",
      "[123]\tvalid_0's auc: 0.999885\n",
      "[124]\tvalid_0's auc: 0.999893\n",
      "[125]\tvalid_0's auc: 0.999895\n",
      "[126]\tvalid_0's auc: 0.999899\n",
      "[127]\tvalid_0's auc: 0.999903\n",
      "[128]\tvalid_0's auc: 0.999904\n",
      "[129]\tvalid_0's auc: 0.999905\n",
      "[130]\tvalid_0's auc: 0.999907\n",
      "[131]\tvalid_0's auc: 0.999901\n",
      "[132]\tvalid_0's auc: 0.999902\n",
      "[133]\tvalid_0's auc: 0.999904\n",
      "[134]\tvalid_0's auc: 0.999905\n",
      "[135]\tvalid_0's auc: 0.999887\n",
      "[136]\tvalid_0's auc: 0.999882\n",
      "[137]\tvalid_0's auc: 0.999879\n",
      "[138]\tvalid_0's auc: 0.999888\n",
      "[139]\tvalid_0's auc: 0.999894\n",
      "[140]\tvalid_0's auc: 0.999897\n",
      "[141]\tvalid_0's auc: 0.9999\n",
      "[142]\tvalid_0's auc: 0.9999\n",
      "[143]\tvalid_0's auc: 0.999898\n",
      "[144]\tvalid_0's auc: 0.999902\n",
      "[145]\tvalid_0's auc: 0.999894\n",
      "[146]\tvalid_0's auc: 0.999895\n",
      "[147]\tvalid_0's auc: 0.9999\n",
      "[148]\tvalid_0's auc: 0.999902\n",
      "[149]\tvalid_0's auc: 0.9999\n",
      "[150]\tvalid_0's auc: 0.999903\n",
      "[151]\tvalid_0's auc: 0.999907\n",
      "[152]\tvalid_0's auc: 0.999903\n",
      "[153]\tvalid_0's auc: 0.999906\n",
      "[154]\tvalid_0's auc: 0.99991\n",
      "[155]\tvalid_0's auc: 0.999913\n",
      "[156]\tvalid_0's auc: 0.999914\n",
      "[157]\tvalid_0's auc: 0.999915\n",
      "[158]\tvalid_0's auc: 0.999916\n",
      "[159]\tvalid_0's auc: 0.999915\n",
      "[160]\tvalid_0's auc: 0.999914\n",
      "[161]\tvalid_0's auc: 0.999914\n",
      "[162]\tvalid_0's auc: 0.999915\n",
      "[163]\tvalid_0's auc: 0.999915\n",
      "[164]\tvalid_0's auc: 0.999915\n",
      "[165]\tvalid_0's auc: 0.999915\n",
      "[166]\tvalid_0's auc: 0.999915\n",
      "[167]\tvalid_0's auc: 0.999915\n",
      "[168]\tvalid_0's auc: 0.999916\n",
      "[169]\tvalid_0's auc: 0.999916\n",
      "[170]\tvalid_0's auc: 0.999916\n",
      "[171]\tvalid_0's auc: 0.999917\n",
      "[172]\tvalid_0's auc: 0.999916\n",
      "[173]\tvalid_0's auc: 0.999915\n",
      "[174]\tvalid_0's auc: 0.999916\n",
      "[175]\tvalid_0's auc: 0.999914\n",
      "[176]\tvalid_0's auc: 0.999914\n",
      "[177]\tvalid_0's auc: 0.999914\n",
      "[178]\tvalid_0's auc: 0.999915\n",
      "[179]\tvalid_0's auc: 0.999915\n",
      "[180]\tvalid_0's auc: 0.999915\n",
      "[181]\tvalid_0's auc: 0.999914\n",
      "[182]\tvalid_0's auc: 0.999915\n",
      "[183]\tvalid_0's auc: 0.999916\n",
      "[184]\tvalid_0's auc: 0.999915\n",
      "[185]\tvalid_0's auc: 0.999915\n",
      "[186]\tvalid_0's auc: 0.999915\n",
      "[187]\tvalid_0's auc: 0.999915\n",
      "[188]\tvalid_0's auc: 0.999914\n",
      "[189]\tvalid_0's auc: 0.999914\n",
      "[190]\tvalid_0's auc: 0.999915\n",
      "[191]\tvalid_0's auc: 0.999913\n",
      "[192]\tvalid_0's auc: 0.999913\n",
      "[193]\tvalid_0's auc: 0.999913\n",
      "[194]\tvalid_0's auc: 0.999913\n",
      "[195]\tvalid_0's auc: 0.999914\n",
      "[196]\tvalid_0's auc: 0.999914\n",
      "[197]\tvalid_0's auc: 0.999913\n",
      "[198]\tvalid_0's auc: 0.999913\n",
      "[199]\tvalid_0's auc: 0.999912\n",
      "[200]\tvalid_0's auc: 0.999912\n",
      "[201]\tvalid_0's auc: 0.999913\n",
      "[202]\tvalid_0's auc: 0.999913\n",
      "[203]\tvalid_0's auc: 0.999915\n",
      "[204]\tvalid_0's auc: 0.999916\n",
      "[205]\tvalid_0's auc: 0.999916\n",
      "[206]\tvalid_0's auc: 0.999916\n",
      "[207]\tvalid_0's auc: 0.999915\n",
      "[208]\tvalid_0's auc: 0.999915\n",
      "[209]\tvalid_0's auc: 0.999914\n",
      "[210]\tvalid_0's auc: 0.999913\n",
      "[211]\tvalid_0's auc: 0.999913\n",
      "[212]\tvalid_0's auc: 0.999913\n",
      "[213]\tvalid_0's auc: 0.999913\n",
      "[214]\tvalid_0's auc: 0.999915\n",
      "[215]\tvalid_0's auc: 0.999915\n",
      "[216]\tvalid_0's auc: 0.999915\n",
      "[217]\tvalid_0's auc: 0.999915\n",
      "[218]\tvalid_0's auc: 0.999916\n",
      "[219]\tvalid_0's auc: 0.999916\n",
      "[220]\tvalid_0's auc: 0.999917\n",
      "[221]\tvalid_0's auc: 0.999918\n",
      "[222]\tvalid_0's auc: 0.999919\n",
      "[223]\tvalid_0's auc: 0.99992\n",
      "[224]\tvalid_0's auc: 0.99992\n",
      "[225]\tvalid_0's auc: 0.999921\n",
      "[226]\tvalid_0's auc: 0.99992\n",
      "[227]\tvalid_0's auc: 0.99992\n",
      "[228]\tvalid_0's auc: 0.99992\n",
      "[229]\tvalid_0's auc: 0.999919\n",
      "[230]\tvalid_0's auc: 0.999918\n",
      "[231]\tvalid_0's auc: 0.99992\n",
      "[232]\tvalid_0's auc: 0.99992\n",
      "[233]\tvalid_0's auc: 0.99992\n",
      "[234]\tvalid_0's auc: 0.99992\n",
      "[235]\tvalid_0's auc: 0.999921\n",
      "[236]\tvalid_0's auc: 0.999922\n",
      "[237]\tvalid_0's auc: 0.999922\n",
      "[238]\tvalid_0's auc: 0.999922\n",
      "[239]\tvalid_0's auc: 0.999922\n",
      "[240]\tvalid_0's auc: 0.999922\n",
      "[241]\tvalid_0's auc: 0.999922\n",
      "[242]\tvalid_0's auc: 0.999922\n",
      "[243]\tvalid_0's auc: 0.999922\n",
      "[244]\tvalid_0's auc: 0.999921\n",
      "[245]\tvalid_0's auc: 0.999921\n",
      "[246]\tvalid_0's auc: 0.999922\n",
      "[247]\tvalid_0's auc: 0.999923\n",
      "[248]\tvalid_0's auc: 0.999923\n",
      "[249]\tvalid_0's auc: 0.999923\n",
      "[250]\tvalid_0's auc: 0.999924\n",
      "[251]\tvalid_0's auc: 0.999924\n",
      "[252]\tvalid_0's auc: 0.999924\n",
      "[253]\tvalid_0's auc: 0.999925\n",
      "[254]\tvalid_0's auc: 0.999925\n",
      "[255]\tvalid_0's auc: 0.999925\n",
      "[256]\tvalid_0's auc: 0.999925\n",
      "[257]\tvalid_0's auc: 0.999925\n",
      "[258]\tvalid_0's auc: 0.999926\n",
      "[259]\tvalid_0's auc: 0.999927\n",
      "[260]\tvalid_0's auc: 0.999927\n",
      "[261]\tvalid_0's auc: 0.999927\n",
      "[262]\tvalid_0's auc: 0.999926\n",
      "[263]\tvalid_0's auc: 0.999925\n",
      "[264]\tvalid_0's auc: 0.999925\n",
      "[265]\tvalid_0's auc: 0.999924\n",
      "[266]\tvalid_0's auc: 0.999924\n",
      "[267]\tvalid_0's auc: 0.999924\n",
      "[268]\tvalid_0's auc: 0.999924\n",
      "[269]\tvalid_0's auc: 0.999923\n",
      "[270]\tvalid_0's auc: 0.999923\n",
      "[271]\tvalid_0's auc: 0.999922\n",
      "[272]\tvalid_0's auc: 0.999923\n",
      "[273]\tvalid_0's auc: 0.999922\n",
      "[274]\tvalid_0's auc: 0.999921\n",
      "[275]\tvalid_0's auc: 0.999921\n",
      "[276]\tvalid_0's auc: 0.999921\n",
      "[277]\tvalid_0's auc: 0.999921\n",
      "[278]\tvalid_0's auc: 0.999922\n",
      "[279]\tvalid_0's auc: 0.999921\n",
      "[280]\tvalid_0's auc: 0.99992\n",
      "[281]\tvalid_0's auc: 0.999921\n",
      "[282]\tvalid_0's auc: 0.999922\n",
      "[283]\tvalid_0's auc: 0.999922\n",
      "[284]\tvalid_0's auc: 0.999922\n",
      "[285]\tvalid_0's auc: 0.999922\n",
      "[286]\tvalid_0's auc: 0.999923\n",
      "[287]\tvalid_0's auc: 0.999922\n",
      "[288]\tvalid_0's auc: 0.999922\n",
      "[289]\tvalid_0's auc: 0.999922\n",
      "[290]\tvalid_0's auc: 0.999922\n",
      "[291]\tvalid_0's auc: 0.999922\n",
      "[292]\tvalid_0's auc: 0.999923\n",
      "[293]\tvalid_0's auc: 0.999923\n",
      "[294]\tvalid_0's auc: 0.999922\n",
      "[295]\tvalid_0's auc: 0.999922\n",
      "[296]\tvalid_0's auc: 0.999921\n",
      "[297]\tvalid_0's auc: 0.999921\n",
      "[298]\tvalid_0's auc: 0.999922\n",
      "[299]\tvalid_0's auc: 0.999921\n",
      "[300]\tvalid_0's auc: 0.999922\n",
      "[301]\tvalid_0's auc: 0.999921\n",
      "[302]\tvalid_0's auc: 0.99992\n",
      "[303]\tvalid_0's auc: 0.999921\n",
      "[304]\tvalid_0's auc: 0.999921\n",
      "[305]\tvalid_0's auc: 0.999921\n",
      "[306]\tvalid_0's auc: 0.999921\n",
      "[307]\tvalid_0's auc: 0.999921\n",
      "[308]\tvalid_0's auc: 0.999921\n",
      "[309]\tvalid_0's auc: 0.999921\n",
      "[310]\tvalid_0's auc: 0.999921\n",
      "[311]\tvalid_0's auc: 0.999921\n",
      "[312]\tvalid_0's auc: 0.99992\n",
      "[313]\tvalid_0's auc: 0.999921\n",
      "[314]\tvalid_0's auc: 0.99992\n",
      "[315]\tvalid_0's auc: 0.99992\n",
      "[316]\tvalid_0's auc: 0.999921\n",
      "[317]\tvalid_0's auc: 0.999922\n",
      "[318]\tvalid_0's auc: 0.999922\n",
      "[319]\tvalid_0's auc: 0.999923\n",
      "[320]\tvalid_0's auc: 0.999923\n",
      "[321]\tvalid_0's auc: 0.999925\n",
      "[322]\tvalid_0's auc: 0.999925\n",
      "[323]\tvalid_0's auc: 0.999924\n",
      "[324]\tvalid_0's auc: 0.999923\n",
      "[325]\tvalid_0's auc: 0.999922\n",
      "[326]\tvalid_0's auc: 0.999922\n",
      "[327]\tvalid_0's auc: 0.999922\n",
      "[328]\tvalid_0's auc: 0.999923\n",
      "[329]\tvalid_0's auc: 0.999923\n",
      "[330]\tvalid_0's auc: 0.999923\n",
      "[331]\tvalid_0's auc: 0.999924\n",
      "[332]\tvalid_0's auc: 0.999925\n",
      "[333]\tvalid_0's auc: 0.999925\n",
      "[334]\tvalid_0's auc: 0.999924\n",
      "[335]\tvalid_0's auc: 0.999924\n",
      "[336]\tvalid_0's auc: 0.999924\n",
      "[337]\tvalid_0's auc: 0.999923\n",
      "[338]\tvalid_0's auc: 0.999923\n",
      "[339]\tvalid_0's auc: 0.999924\n",
      "[340]\tvalid_0's auc: 0.999924\n",
      "[341]\tvalid_0's auc: 0.999925\n",
      "[342]\tvalid_0's auc: 0.999925\n",
      "[343]\tvalid_0's auc: 0.999925\n",
      "[344]\tvalid_0's auc: 0.999925\n",
      "[345]\tvalid_0's auc: 0.999925\n",
      "[346]\tvalid_0's auc: 0.999925\n",
      "[347]\tvalid_0's auc: 0.999925\n",
      "[348]\tvalid_0's auc: 0.999926\n",
      "[349]\tvalid_0's auc: 0.999927\n",
      "[350]\tvalid_0's auc: 0.999927\n",
      "[351]\tvalid_0's auc: 0.999926\n",
      "[352]\tvalid_0's auc: 0.999926\n",
      "[353]\tvalid_0's auc: 0.999926\n",
      "[354]\tvalid_0's auc: 0.999928\n",
      "[355]\tvalid_0's auc: 0.999928\n",
      "[356]\tvalid_0's auc: 0.999929\n",
      "[357]\tvalid_0's auc: 0.99993\n",
      "[358]\tvalid_0's auc: 0.999931\n",
      "[359]\tvalid_0's auc: 0.999931\n",
      "[360]\tvalid_0's auc: 0.999932\n",
      "[361]\tvalid_0's auc: 0.999932\n",
      "[362]\tvalid_0's auc: 0.999933\n",
      "[363]\tvalid_0's auc: 0.999932\n",
      "[364]\tvalid_0's auc: 0.999932\n",
      "[365]\tvalid_0's auc: 0.999931\n",
      "[366]\tvalid_0's auc: 0.999931\n",
      "[367]\tvalid_0's auc: 0.99993\n",
      "[368]\tvalid_0's auc: 0.999929\n",
      "[369]\tvalid_0's auc: 0.999929\n",
      "[370]\tvalid_0's auc: 0.999928\n",
      "[371]\tvalid_0's auc: 0.999927\n",
      "[372]\tvalid_0's auc: 0.999927\n",
      "[373]\tvalid_0's auc: 0.999926\n",
      "[374]\tvalid_0's auc: 0.999926\n",
      "[375]\tvalid_0's auc: 0.999925\n",
      "[376]\tvalid_0's auc: 0.999924\n",
      "[377]\tvalid_0's auc: 0.999925\n",
      "[378]\tvalid_0's auc: 0.999924\n",
      "[379]\tvalid_0's auc: 0.999924\n",
      "[380]\tvalid_0's auc: 0.999923\n",
      "[381]\tvalid_0's auc: 0.999923\n",
      "[382]\tvalid_0's auc: 0.999924\n",
      "[383]\tvalid_0's auc: 0.999924\n",
      "[384]\tvalid_0's auc: 0.999923\n",
      "[385]\tvalid_0's auc: 0.999923\n",
      "[386]\tvalid_0's auc: 0.999924\n",
      "[387]\tvalid_0's auc: 0.999925\n",
      "[388]\tvalid_0's auc: 0.999924\n",
      "[389]\tvalid_0's auc: 0.999924\n",
      "[390]\tvalid_0's auc: 0.999925\n",
      "[391]\tvalid_0's auc: 0.999925\n",
      "[392]\tvalid_0's auc: 0.999925\n",
      "[393]\tvalid_0's auc: 0.999926\n",
      "[394]\tvalid_0's auc: 0.999926\n",
      "[395]\tvalid_0's auc: 0.999926\n",
      "[396]\tvalid_0's auc: 0.999926\n",
      "[397]\tvalid_0's auc: 0.999926\n",
      "[398]\tvalid_0's auc: 0.999926\n",
      "[399]\tvalid_0's auc: 0.999926\n",
      "[400]\tvalid_0's auc: 0.999926\n",
      "[401]\tvalid_0's auc: 0.999927\n",
      "[402]\tvalid_0's auc: 0.999927\n",
      "[403]\tvalid_0's auc: 0.999928\n",
      "[404]\tvalid_0's auc: 0.999929\n",
      "[405]\tvalid_0's auc: 0.999929\n",
      "[406]\tvalid_0's auc: 0.999929\n",
      "[407]\tvalid_0's auc: 0.999929\n",
      "[408]\tvalid_0's auc: 0.999929\n",
      "[409]\tvalid_0's auc: 0.999929\n",
      "[410]\tvalid_0's auc: 0.999929\n",
      "[411]\tvalid_0's auc: 0.999929\n",
      "[412]\tvalid_0's auc: 0.999929\n",
      "[413]\tvalid_0's auc: 0.999929\n",
      "[414]\tvalid_0's auc: 0.999931\n",
      "[415]\tvalid_0's auc: 0.999931\n",
      "[416]\tvalid_0's auc: 0.999931\n",
      "[417]\tvalid_0's auc: 0.999931\n",
      "[418]\tvalid_0's auc: 0.999933\n",
      "[419]\tvalid_0's auc: 0.999932\n",
      "[420]\tvalid_0's auc: 0.999933\n",
      "[421]\tvalid_0's auc: 0.999932\n",
      "[422]\tvalid_0's auc: 0.999933\n",
      "[423]\tvalid_0's auc: 0.999932\n",
      "[424]\tvalid_0's auc: 0.999932\n",
      "[425]\tvalid_0's auc: 0.999932\n",
      "[426]\tvalid_0's auc: 0.999932\n",
      "[427]\tvalid_0's auc: 0.999931\n",
      "[428]\tvalid_0's auc: 0.999932\n",
      "[429]\tvalid_0's auc: 0.999932\n",
      "[430]\tvalid_0's auc: 0.999932\n",
      "[431]\tvalid_0's auc: 0.999932\n",
      "[432]\tvalid_0's auc: 0.999931\n",
      "[433]\tvalid_0's auc: 0.99993\n",
      "[434]\tvalid_0's auc: 0.99993\n",
      "[435]\tvalid_0's auc: 0.999929\n",
      "[436]\tvalid_0's auc: 0.999929\n",
      "[437]\tvalid_0's auc: 0.99993\n",
      "[438]\tvalid_0's auc: 0.999929\n",
      "[439]\tvalid_0's auc: 0.999929\n",
      "[440]\tvalid_0's auc: 0.999928\n",
      "[441]\tvalid_0's auc: 0.999927\n",
      "[442]\tvalid_0's auc: 0.999928\n",
      "[443]\tvalid_0's auc: 0.999927\n",
      "[444]\tvalid_0's auc: 0.999927\n",
      "[445]\tvalid_0's auc: 0.999927\n",
      "[446]\tvalid_0's auc: 0.999928\n",
      "[447]\tvalid_0's auc: 0.999928\n",
      "[448]\tvalid_0's auc: 0.999928\n",
      "[449]\tvalid_0's auc: 0.999928\n",
      "[450]\tvalid_0's auc: 0.999928\n",
      "[451]\tvalid_0's auc: 0.999928\n",
      "[452]\tvalid_0's auc: 0.999928\n",
      "[453]\tvalid_0's auc: 0.999929\n",
      "[454]\tvalid_0's auc: 0.999929\n",
      "[455]\tvalid_0's auc: 0.999928\n",
      "[456]\tvalid_0's auc: 0.999928\n",
      "[457]\tvalid_0's auc: 0.999929\n",
      "[458]\tvalid_0's auc: 0.999929\n",
      "[459]\tvalid_0's auc: 0.999928\n",
      "[460]\tvalid_0's auc: 0.999928\n",
      "[461]\tvalid_0's auc: 0.999927\n",
      "[462]\tvalid_0's auc: 0.999927\n",
      "Early stopping, best iteration is:\n",
      "[362]\tvalid_0's auc: 0.999933\n"
     ]
    }
   ],
   "source": [
    "train_data = lightgbm.Dataset(sc.fit_transform(x_tr_i), label=y_tr_i)\n",
    "test_data = lightgbm.Dataset(sc.fit_transform(x_val_i), label=y_val_i)\n",
    "\n",
    "\n",
    "#\n",
    "# Train the model\n",
    "#\n",
    "\n",
    "parameters = {\n",
    "    'application': 'binary',\n",
    "    'objective': 'binary',\n",
    "    'metric': 'auc',\n",
    "    'is_unbalance': 'true',\n",
    "    'boosting': 'gbdt',\n",
    "    'num_leaves': 31,\n",
    "    'feature_fraction': 0.5,\n",
    "    'bagging_fraction': 0.5,\n",
    "    'bagging_freq': 20,\n",
    "    'learning_rate': 0.05,\n",
    "    'verbose': 0\n",
    "}\n",
    "\n",
    "model = lightgbm.train(parameters,\n",
    "                       train_data,\n",
    "                       valid_sets=test_data,\n",
    "                       num_boost_round=5000,\n",
    "                       early_stopping_rounds=100)"
   ]
  },
  {
   "cell_type": "code",
   "execution_count": 226,
   "metadata": {},
   "outputs": [],
   "source": [
    "y_pred_test_prob_ii = model.predict(sc.fit_transform(x_test_i))"
   ]
  },
  {
   "cell_type": "code",
   "execution_count": 227,
   "metadata": {},
   "outputs": [
    {
     "data": {
      "text/plain": [
       "array([2.85128350e-05, 9.98392048e-06, 3.18304317e-06, 7.28918091e-06,\n",
       "       2.55383498e-06, 6.70811169e-06, 3.27240643e-06, 4.15694713e-06,\n",
       "       1.59437299e-06, 5.54072798e-06])"
      ]
     },
     "execution_count": 227,
     "metadata": {},
     "output_type": "execute_result"
    }
   ],
   "source": [
    "y_pred_test_prob_ii[0:10]"
   ]
  },
  {
   "cell_type": "code",
   "execution_count": 228,
   "metadata": {},
   "outputs": [],
   "source": [
    "submit_ii = pd.read_csv('./Data/sample_submission_Byiv0dS.csv')\n",
    "submit_ii['redemption_status'] = y_pred_test_prob_ii\n",
    "submit_ii.to_csv('./Data/submit_ii_iv.csv', index=False)"
   ]
  },
  {
   "cell_type": "code",
   "execution_count": null,
   "metadata": {},
   "outputs": [],
   "source": []
  },
  {
   "cell_type": "markdown",
   "metadata": {},
   "source": [
    "## Using xgboost cross validation"
   ]
  },
  {
   "cell_type": "code",
   "execution_count": 235,
   "metadata": {},
   "outputs": [
    {
     "name": "stdout",
     "output_type": "stream",
     "text": [
      "Started fold 1\n",
      " cv score 1: 0.999806800618238\n",
      "Started fold 2\n",
      " cv score 2: 0.986043770687331\n",
      "Started fold 3\n",
      " cv score 3: 0.9998712004121586\n",
      "Started fold 4\n",
      " cv score 4: 0.9995492014425553\n",
      "Started fold 5\n",
      " cv score 5: 0.9999356002060794\n",
      "Started fold 6\n",
      " cv score 6: 0.9999356002060794\n",
      "Started fold 7\n",
      " cv score 7: 0.9997424008243174\n",
      "Started fold 8\n",
      " cv score 8: 0.9998712004121586\n",
      "Started fold 9\n",
      " cv score 9: 0.9927642861679827\n",
      "Started fold 10\n",
      " cv score 10: 0.992991155761635\n",
      "xgboost-model cv scores : [0.999806800618238, 0.986043770687331, 0.9998712004121586, 0.9995492014425553, 0.9999356002060794, 0.9999356002060794, 0.9997424008243174, 0.9998712004121586, 0.9927642861679827, 0.992991155761635]\n",
      "xgboost-model cv mean score : 0.9970511216738535\n",
      "xgboost-model cv std score : 0.004578704303954754\n"
     ]
    }
   ],
   "source": [
    "kf = StratifiedKFold(n_splits=10, shuffle = True, random_state = 228)\n",
    "fold_splits = kf.split(x_i, y_i)\n",
    "cv_scores = []\n",
    "pred_full_test = 0\n",
    "pred_train = np.zeros((x_i.shape[0]))\n",
    "i = 1\n",
    "for dev_index, val_index in fold_splits:\n",
    "    print('Started fold ' + str(i))\n",
    "    dev_X, val_X = x_i[dev_index], x_i[val_index]\n",
    "    dev_y, val_y = y_i[dev_index], y_i[val_index]\n",
    "    \n",
    "    # model train\n",
    "    model = XGBClassifier(n_jobs=6)\n",
    "    model.fit(dev_X, dev_y)\n",
    "    pred_val_y = model.predict(val_X)\n",
    "    # pred_full_test = pred_full_test + pred_test_y\n",
    "    pred_train[val_index] = pred_val_y\n",
    "    cv_score = metrics.roc_auc_score(val_y, pred_val_y)\n",
    "    cv_scores.append(cv_score)\n",
    "    print(' cv score {}: {}'.format(i, cv_score))\n",
    "    i += 1\n",
    "label = 'xgboost-model'\n",
    "print('{} cv scores : {}'.format(label, cv_scores))\n",
    "print('{} cv mean score : {}'.format(label, np.mean(cv_scores)))\n",
    "print('{} cv std score : {}'.format(label, np.std(cv_scores)))\n",
    "# pred_full_test = pred_full_test / 5.0\n",
    "results = {'label': label,\n",
    "          'train': pred_train, 'test': pred_full_test,\n",
    "          'cv': cv_scores}"
   ]
  },
  {
   "cell_type": "code",
   "execution_count": null,
   "metadata": {},
   "outputs": [],
   "source": []
  },
  {
   "cell_type": "code",
   "execution_count": null,
   "metadata": {},
   "outputs": [],
   "source": []
  },
  {
   "cell_type": "markdown",
   "metadata": {},
   "source": [
    "So, actually problem is with my features only; not with algorithm. Cuz here it gives 0.99 and there it becomes 0.5."
   ]
  },
  {
   "cell_type": "code",
   "execution_count": null,
   "metadata": {},
   "outputs": [],
   "source": []
  },
  {
   "cell_type": "markdown",
   "metadata": {},
   "source": [
    "## Remove unused variables"
   ]
  },
  {
   "cell_type": "code",
   "execution_count": 299,
   "metadata": {},
   "outputs": [
    {
     "name": "stdout",
     "output_type": "stream",
     "text": [
      "                    train_i_df:  3.3 GiB\n",
      "                        x_tr_i:  2.6 GiB\n",
      "                test_data_i_df:  2.1 GiB\n",
      "                       x_val_i: 665.7 MiB\n",
      "         item_brand_details_df: 391.0 MiB\n",
      "  customer_transaction_data_df: 145.3 MiB\n",
      "       customer_transaction_df: 70.7 MiB\n",
      "   coupon_item_preprocessed_df: 47.3 MiB\n",
      "                          _188: 12.0 MiB\n",
      "                  item_data_df: 10.7 MiB\n"
     ]
    }
   ],
   "source": [
    "import sys\n",
    "def sizeof_fmt(num, suffix='B'):\n",
    "    ''' by Fred Cirera,  https://stackoverflow.com/a/1094933/1870254, modified'''\n",
    "    for unit in ['','Ki','Mi','Gi','Ti','Pi','Ei','Zi']:\n",
    "        if abs(num) < 1024.0:\n",
    "            return \"%3.1f %s%s\" % (num, unit, suffix)\n",
    "        num /= 1024.0\n",
    "    return \"%.1f %s%s\" % (num, 'Yi', suffix)\n",
    "\n",
    "for name, size in sorted(((name, sys.getsizeof(value)) for name, value in locals().items()),\n",
    "                         key= lambda x: -x[1])[:10]:\n",
    "    print(\"{:>30}: {:>8}\".format(name, sizeof_fmt(size)))"
   ]
  },
  {
   "cell_type": "code",
   "execution_count": 277,
   "metadata": {},
   "outputs": [],
   "source": [
    "# remove unused variables\n",
    "del _34\n",
    "del train_i_df_fin\n",
    "del test_data_i_df_fin\n",
    "del X_train\n",
    "del X_test"
   ]
  },
  {
   "cell_type": "code",
   "execution_count": 278,
   "metadata": {},
   "outputs": [
    {
     "name": "stdout",
     "output_type": "stream",
     "text": [
      "                    train_i_df:  3.3 GiB\n",
      "                        x_tr_i:  2.6 GiB\n",
      "                test_data_i_df:  2.1 GiB\n",
      "                       x_val_i: 665.7 MiB\n",
      "         item_brand_details_df: 391.0 MiB\n",
      "                          _159: 155.4 MiB\n",
      "  customer_transaction_data_df: 145.3 MiB\n",
      "       customer_transaction_df: 70.7 MiB\n",
      "                          _119: 47.3 MiB\n",
      "   coupon_item_preprocessed_df: 47.3 MiB\n"
     ]
    }
   ],
   "source": [
    "import sys\n",
    "def sizeof_fmt(num, suffix='B'):\n",
    "    ''' by Fred Cirera,  https://stackoverflow.com/a/1094933/1870254, modified'''\n",
    "    for unit in ['','Ki','Mi','Gi','Ti','Pi','Ei','Zi']:\n",
    "        if abs(num) < 1024.0:\n",
    "            return \"%3.1f %s%s\" % (num, unit, suffix)\n",
    "        num /= 1024.0\n",
    "    return \"%.1f %s%s\" % (num, 'Yi', suffix)\n",
    "\n",
    "for name, size in sorted(((name, sys.getsizeof(value)) for name, value in locals().items()),\n",
    "                         key= lambda x: -x[1])[:10]:\n",
    "    print(\"{:>30}: {:>8}\".format(name, sizeof_fmt(size)))"
   ]
  },
  {
   "cell_type": "code",
   "execution_count": 279,
   "metadata": {},
   "outputs": [],
   "source": [
    "del _159\n",
    "del _119"
   ]
  },
  {
   "cell_type": "code",
   "execution_count": null,
   "metadata": {},
   "outputs": [],
   "source": [
    "aa"
   ]
  }
 ],
 "metadata": {
  "kernelspec": {
   "display_name": "Python [conda env:xray] *",
   "language": "python",
   "name": "conda-env-xray-py"
  },
  "language_info": {
   "codemirror_mode": {
    "name": "ipython",
    "version": 3
   },
   "file_extension": ".py",
   "mimetype": "text/x-python",
   "name": "python",
   "nbconvert_exporter": "python",
   "pygments_lexer": "ipython3",
   "version": "3.6.8"
  }
 },
 "nbformat": 4,
 "nbformat_minor": 4
}
