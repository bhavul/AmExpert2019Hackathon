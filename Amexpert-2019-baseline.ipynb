{
 "cells": [
  {
   "cell_type": "markdown",
   "metadata": {},
   "source": [
    "## Imports"
   ]
  },
  {
   "cell_type": "code",
   "execution_count": 116,
   "metadata": {},
   "outputs": [],
   "source": [
    "from bayes_opt import BayesianOptimization"
   ]
  },
  {
   "cell_type": "code",
   "execution_count": 2,
   "metadata": {},
   "outputs": [],
   "source": [
    "import pandas as pd\n",
    "import numpy as np\n",
    "from datetime import timedelta\n",
    "from tqdm import tqdm_notebook as tqdm\n",
    "from sklearn import metrics\n",
    "from sklearn.model_selection import StratifiedKFold\n",
    "import lightgbm as lgb\n",
    "from matplotlib import pyplot as plt\n",
    "#import seaborn as sns\n",
    "from collections import defaultdict, Counter\n",
    "from sklearn.preprocessing import StandardScaler, MinMaxScaler, PolynomialFeatures, RobustScaler\n",
    "from sklearn.model_selection import KFold\n",
    "from sklearn.metrics import roc_auc_score as auc\n",
    "from sklearn.linear_model import LogisticRegression\n",
    "from scipy.special import logit"
   ]
  },
  {
   "cell_type": "code",
   "execution_count": 69,
   "metadata": {},
   "outputs": [],
   "source": [
    "import lightgbm\n",
    "from xgboost import XGBClassifier\n",
    "from bayes_opt import BayesianOptimization\n",
    "from sklearn.ensemble import RandomForestClassifier"
   ]
  },
  {
   "cell_type": "code",
   "execution_count": 118,
   "metadata": {},
   "outputs": [],
   "source": [
    "import xgboost as xgb"
   ]
  },
  {
   "cell_type": "code",
   "execution_count": 82,
   "metadata": {},
   "outputs": [],
   "source": [
    "file = {\n",
    "\t'test' : './Data/test_QyjYwdj.csv',\n",
    "\t'train':'./Data/train.csv',\n",
    "\t'submission':'./Data/sample_submission_Byiv0dS.csv',\n",
    "\t'coupon_item_mapping' :'./Data/coupon_item_mapping.csv',\n",
    "\t'campaign_data' : './Data/campaign_data.csv',\n",
    "\t'item_data' : './Data/item_data.csv',\n",
    "\t'customer_transaction_data':'./Data/customer_transaction_data.csv',\n",
    "\t'customer_demographics':'./Data/customer_demographics.csv',\n",
    "}\n"
   ]
  },
  {
   "cell_type": "code",
   "execution_count": 83,
   "metadata": {},
   "outputs": [],
   "source": [
    "train = pd.read_csv(file.get(\"train\"))#\n",
    "test = pd.read_csv(file.get(\"test\"))#\n",
    "\n",
    "coupon_item_mapping = pd.read_csv(file.get(\"coupon_item_mapping\"))#No\n",
    "item_data = pd.read_csv(file.get(\"item_data\"))# may be yes\n",
    "customer_transaction_data = pd.read_csv(file.get(\"customer_transaction_data\"))#may be yes \n",
    "\n",
    "campaign_data = pd.read_csv(file.get(\"campaign_data\"))#\n",
    "customer_demographics = pd.read_csv(file.get(\"customer_demographics\"))#\n",
    "submission = pd.read_csv(file.get(\"submission\"))\n"
   ]
  },
  {
   "cell_type": "code",
   "execution_count": 84,
   "metadata": {},
   "outputs": [
    {
     "data": {
      "text/plain": [
       "(78369, 5)"
      ]
     },
     "execution_count": 84,
     "metadata": {},
     "output_type": "execute_result"
    }
   ],
   "source": [
    "train.shape"
   ]
  },
  {
   "cell_type": "code",
   "execution_count": 85,
   "metadata": {},
   "outputs": [],
   "source": [
    "data = pd.concat([train, test], sort=False).reset_index(drop = True)\n"
   ]
  },
  {
   "cell_type": "code",
   "execution_count": 86,
   "metadata": {},
   "outputs": [],
   "source": [
    "ltr = len(train)"
   ]
  },
  {
   "cell_type": "code",
   "execution_count": 87,
   "metadata": {},
   "outputs": [],
   "source": [
    "data = data.merge(campaign_data, on='campaign_id')#  campaign_data\n",
    "data['start_date'] = pd.to_datetime(data['start_date'], dayfirst=True)\n",
    "data['end_date'] = pd.to_datetime(data['end_date'], dayfirst=True)\n"
   ]
  },
  {
   "cell_type": "code",
   "execution_count": 88,
   "metadata": {},
   "outputs": [
    {
     "data": {
      "text/plain": [
       "(array([0, 0, 0, ..., 1, 1, 1]), Index(['X', 'Y'], dtype='object'))"
      ]
     },
     "execution_count": 88,
     "metadata": {},
     "output_type": "execute_result"
    }
   ],
   "source": [
    "data['campaign_type'].factorize()"
   ]
  },
  {
   "cell_type": "code",
   "execution_count": 89,
   "metadata": {},
   "outputs": [],
   "source": [
    "data['campaign_type'] = pd.Series(data['campaign_type'].factorize()[0]).replace(-1, np.nan)"
   ]
  },
  {
   "cell_type": "code",
   "execution_count": 90,
   "metadata": {},
   "outputs": [],
   "source": [
    "customer_demographics['no_of_children'] = customer_demographics['no_of_children'].replace('3+', 3).astype(float)\n",
    "customer_demographics['family_size'] = customer_demographics['family_size'].replace('5+', 5).astype(float)\n",
    "customer_demographics['marital_status'] = pd.Series(customer_demographics['marital_status'].factorize()[0]).replace(-1, np.nan)\n",
    "customer_demographics['age_range'] = pd.Series(customer_demographics['age_range'].factorize()[0]).replace(-1, np.nan)"
   ]
  },
  {
   "cell_type": "code",
   "execution_count": 91,
   "metadata": {},
   "outputs": [],
   "source": [
    "# use train data itself\n",
    "redeemed_before_count = train.groupby(\"customer_id\")['redemption_status'].sum().to_dict()\n",
    "data['no_of_times_redeemed_before'] = data['customer_id'].map(redeemed_before_count)"
   ]
  },
  {
   "cell_type": "code",
   "execution_count": 92,
   "metadata": {},
   "outputs": [],
   "source": [
    "# rented\n",
    "rented_mean = customer_demographics.groupby(\"customer_id\")['rented'].mean().to_dict()\n",
    "data['rented_mean'] = data['customer_id'].map(rented_mean)"
   ]
  },
  {
   "cell_type": "code",
   "execution_count": 93,
   "metadata": {},
   "outputs": [],
   "source": [
    "# income_bracket\n",
    "income_bracket_sum = customer_demographics.groupby(\"customer_id\")['income_bracket'].sum().to_dict()\n",
    "data['income_bracket_sum'] = data['customer_id'].map(income_bracket_sum)"
   ]
  },
  {
   "cell_type": "code",
   "execution_count": 95,
   "metadata": {},
   "outputs": [],
   "source": [
    "# age_range\n",
    "age_range_mean = customer_demographics.groupby(\"customer_id\")['age_range'].mean().to_dict()\n",
    "data['age_range_mean'] = data['customer_id'].map(age_range_mean)\n"
   ]
  },
  {
   "cell_type": "code",
   "execution_count": 96,
   "metadata": {},
   "outputs": [],
   "source": [
    "# family_size\n",
    "family_size_mean = customer_demographics.groupby(\"customer_id\")['family_size'].mean().to_dict()\n",
    "data['family_size_mean'] = data['customer_id'].map(family_size_mean)"
   ]
  },
  {
   "cell_type": "code",
   "execution_count": 99,
   "metadata": {},
   "outputs": [],
   "source": [
    "# no_of_children - actual number\n",
    "no_of_children_mean = customer_demographics.groupby(\"customer_id\")['no_of_children'].mean().to_dict()\n",
    "data['no_of_children_mean'] = data['customer_id'].map(no_of_children_mean)\n",
    "# actually represents if they have children or not\n",
    "no_of_children_count = customer_demographics.groupby(\"customer_id\")['no_of_children'].count().to_dict()\n",
    "data['no_of_children_count'] = data['customer_id'].map(no_of_children_count)\n"
   ]
  },
  {
   "cell_type": "code",
   "execution_count": 100,
   "metadata": {},
   "outputs": [],
   "source": [
    "# marital_status\n",
    "marital_status_count = customer_demographics.groupby(\"customer_id\")['marital_status'].count().to_dict()\n",
    "data['marital_status_count'] = data['customer_id'].map(marital_status_count)\n"
   ]
  },
  {
   "cell_type": "code",
   "execution_count": 101,
   "metadata": {},
   "outputs": [],
   "source": [
    "# customer_transaction_data\n",
    "customer_transaction_data['date'] = pd.to_datetime(customer_transaction_data['date'])\n",
    "# quantity\t\n",
    "quantity_mean = customer_transaction_data.groupby(\"customer_id\")['quantity'].mean().to_dict()\n",
    "data['quantity_mean'] = data['customer_id'].map(quantity_mean)\n",
    "#coupon_discount\n",
    "coupon_discount_mean = customer_transaction_data.groupby(\"customer_id\")['coupon_discount'].mean().to_dict()\n",
    "data['coupon_discount_mean'] = data['customer_id'].map(coupon_discount_mean)\n",
    "# other_discount\n",
    "other_discount_mean = customer_transaction_data.groupby(\"customer_id\")['other_discount'].mean().to_dict()\n",
    "data['other_discount_mean'] = data['customer_id'].map(other_discount_mean)\n",
    "# day\n",
    "customer_transaction_data['day'] = customer_transaction_data.date.dt.day\n",
    "date_day_mean = customer_transaction_data.groupby(\"customer_id\")['day'].mean().to_dict()\n",
    "data['date_day_mean'] = data['customer_id'].map(date_day_mean)\n",
    "\n",
    "# selling_price\n",
    "selling_price_mean = customer_transaction_data.groupby(\"customer_id\")['selling_price'].mean().to_dict()\n",
    "data['selling_price_mean'] = data['customer_id'].map(selling_price_mean)\n",
    "selling_price_mean = customer_transaction_data.groupby(\"customer_id\")['selling_price'].sum().to_dict()\n",
    "data['selling_price_sum'] = data['customer_id'].map(selling_price_mean)\n",
    "selling_price_mean = customer_transaction_data.groupby(\"customer_id\")['selling_price'].min().to_dict()\n",
    "data['selling_price_min'] = data['customer_id'].map(selling_price_mean)\n",
    "selling_price_mean = customer_transaction_data.groupby(\"customer_id\")['selling_price'].max().to_dict()\n",
    "data['selling_price_max'] = data['customer_id'].map(selling_price_mean)\n",
    "selling_price_mean = customer_transaction_data.groupby(\"customer_id\")['selling_price'].nunique().to_dict()\n",
    "data['selling_price_nunique'] = data['customer_id'].map(selling_price_mean)"
   ]
  },
  {
   "cell_type": "code",
   "execution_count": 102,
   "metadata": {},
   "outputs": [],
   "source": [
    "coupon_item_mapping = coupon_item_mapping.merge(item_data, how = 'left', on = 'item_id')\n",
    "coupon_item_mapping['brand_type'] = pd.Series(coupon_item_mapping['brand_type'].factorize()[0]).replace(-1, np.nan)\n",
    "coupon_item_mapping['category'] = pd.Series(coupon_item_mapping['category'].factorize()[0]).replace(-1, np.nan)\n",
    "\n",
    "category = coupon_item_mapping.groupby(\"coupon_id\")['category'].mean().to_dict()\n",
    "data['category_mean'] = data['coupon_id'].map(category)\n",
    "category = coupon_item_mapping.groupby(\"coupon_id\")['category'].count().to_dict()\n",
    "data['category_count'] = data['coupon_id'].map(category)\n",
    "category = coupon_item_mapping.groupby(\"coupon_id\")['category'].nunique().to_dict()\n",
    "data['category_nunique'] = data['coupon_id'].map(category)\n",
    "category = coupon_item_mapping.groupby(\"coupon_id\")['category'].max().to_dict()\n",
    "data['category_max'] = data['coupon_id'].map(category)\n",
    "category = coupon_item_mapping.groupby(\"coupon_id\")['category'].min().to_dict()\n",
    "data['category_min'] = data['coupon_id'].map(category)\n",
    "\n",
    "brand_mean = coupon_item_mapping.groupby(\"coupon_id\")['brand'].mean().to_dict()\n",
    "data['brand_mean'] = data['coupon_id'].map(brand_mean)\n",
    "brand_mean = coupon_item_mapping.groupby(\"coupon_id\")['brand'].count().to_dict()\n",
    "data['brand_count'] = data['coupon_id'].map(brand_mean)\n",
    "brand_mean = coupon_item_mapping.groupby(\"coupon_id\")['brand'].min().to_dict()\n",
    "data['brand_min'] = data['coupon_id'].map(brand_mean)\n",
    "brand_mean = coupon_item_mapping.groupby(\"coupon_id\")['brand'].max().to_dict()\n",
    "data['brand_max'] = data['coupon_id'].map(brand_mean)\n",
    "brand_mean = coupon_item_mapping.groupby(\"coupon_id\")['brand'].nunique().to_dict()\n",
    "data['brand_nunique'] = data['coupon_id'].map(brand_mean)\n"
   ]
  },
  {
   "cell_type": "code",
   "execution_count": 103,
   "metadata": {},
   "outputs": [
    {
     "data": {
      "text/plain": [
       "Index(['id', 'campaign_id', 'coupon_id', 'customer_id', 'redemption_status',\n",
       "       'campaign_type', 'start_date', 'end_date',\n",
       "       'no_of_times_redeemed_before', 'rented_mean', 'income_bracket_sum',\n",
       "       'age_range_mean', 'family_size_mean', 'no_of_children_mean',\n",
       "       'no_of_children_count', 'marital_status_count', 'quantity_mean',\n",
       "       'coupon_discount_mean', 'other_discount_mean', 'date_day_mean',\n",
       "       'selling_price_mean', 'selling_price_sum', 'selling_price_min',\n",
       "       'selling_price_max', 'selling_price_nunique', 'category_mean',\n",
       "       'category_count', 'category_nunique', 'category_max', 'category_min',\n",
       "       'brand_mean', 'brand_count', 'brand_min', 'brand_max', 'brand_nunique'],\n",
       "      dtype='object')"
      ]
     },
     "execution_count": 103,
     "metadata": {},
     "output_type": "execute_result"
    }
   ],
   "source": [
    "data.columns"
   ]
  },
  {
   "cell_type": "code",
   "execution_count": 104,
   "metadata": {},
   "outputs": [
    {
     "data": {
      "text/plain": [
       "(128595, 35)"
      ]
     },
     "execution_count": 104,
     "metadata": {},
     "output_type": "execute_result"
    }
   ],
   "source": [
    "data.shape"
   ]
  },
  {
   "cell_type": "code",
   "execution_count": null,
   "metadata": {},
   "outputs": [],
   "source": []
  },
  {
   "cell_type": "code",
   "execution_count": 134,
   "metadata": {},
   "outputs": [],
   "source": [
    "train_cols = ['campaign_id','coupon_id','campaign_type','rented_mean','income_bracket_sum','age_range_mean','family_size_mean',\n",
    " 'no_of_children_mean',\n",
    " 'no_of_children_count',\n",
    " 'marital_status_count',\n",
    " 'quantity_mean',\n",
    " 'coupon_discount_mean',\n",
    " 'other_discount_mean',\n",
    " 'date_day_mean',\n",
    " 'category_mean',\n",
    " 'category_nunique',\n",
    " 'category_max',\n",
    " 'category_min',\n",
    " 'brand_mean',\n",
    " 'brand_max',\n",
    " 'brand_nunique',\n",
    " 'selling_price_mean',\n",
    " 'selling_price_min',\n",
    " 'selling_price_nunique']"
   ]
  },
  {
   "cell_type": "code",
   "execution_count": 135,
   "metadata": {},
   "outputs": [
    {
     "data": {
      "text/plain": [
       "24"
      ]
     },
     "execution_count": 135,
     "metadata": {},
     "output_type": "execute_result"
    }
   ],
   "source": [
    "len(train_cols)"
   ]
  },
  {
   "cell_type": "code",
   "execution_count": 136,
   "metadata": {},
   "outputs": [],
   "source": [
    "train = data[data['redemption_status'].notnull()]\n",
    "test = data[data['redemption_status'].isnull()]\n"
   ]
  },
  {
   "cell_type": "code",
   "execution_count": 137,
   "metadata": {},
   "outputs": [
    {
     "data": {
      "text/html": [
       "<div>\n",
       "<style scoped>\n",
       "    .dataframe tbody tr th:only-of-type {\n",
       "        vertical-align: middle;\n",
       "    }\n",
       "\n",
       "    .dataframe tbody tr th {\n",
       "        vertical-align: top;\n",
       "    }\n",
       "\n",
       "    .dataframe thead th {\n",
       "        text-align: right;\n",
       "    }\n",
       "</style>\n",
       "<table border=\"1\" class=\"dataframe\">\n",
       "  <thead>\n",
       "    <tr style=\"text-align: right;\">\n",
       "      <th></th>\n",
       "      <th>id</th>\n",
       "      <th>campaign_id</th>\n",
       "      <th>coupon_id</th>\n",
       "      <th>customer_id</th>\n",
       "      <th>redemption_status</th>\n",
       "      <th>campaign_type</th>\n",
       "      <th>start_date</th>\n",
       "      <th>end_date</th>\n",
       "      <th>no_of_times_redeemed_before</th>\n",
       "      <th>rented_mean</th>\n",
       "      <th>...</th>\n",
       "      <th>category_mean</th>\n",
       "      <th>category_count</th>\n",
       "      <th>category_nunique</th>\n",
       "      <th>category_max</th>\n",
       "      <th>category_min</th>\n",
       "      <th>brand_mean</th>\n",
       "      <th>brand_count</th>\n",
       "      <th>brand_min</th>\n",
       "      <th>brand_max</th>\n",
       "      <th>brand_nunique</th>\n",
       "    </tr>\n",
       "  </thead>\n",
       "  <tbody>\n",
       "    <tr>\n",
       "      <th>0</th>\n",
       "      <td>1</td>\n",
       "      <td>13</td>\n",
       "      <td>27</td>\n",
       "      <td>1053</td>\n",
       "      <td>0.0</td>\n",
       "      <td>0</td>\n",
       "      <td>2013-05-19</td>\n",
       "      <td>2013-07-05</td>\n",
       "      <td>0.0</td>\n",
       "      <td>0.0</td>\n",
       "      <td>...</td>\n",
       "      <td>0.0</td>\n",
       "      <td>125</td>\n",
       "      <td>1</td>\n",
       "      <td>0</td>\n",
       "      <td>0</td>\n",
       "      <td>1364.128</td>\n",
       "      <td>125</td>\n",
       "      <td>1105</td>\n",
       "      <td>1636</td>\n",
       "      <td>2</td>\n",
       "    </tr>\n",
       "    <tr>\n",
       "      <th>1</th>\n",
       "      <td>2</td>\n",
       "      <td>13</td>\n",
       "      <td>116</td>\n",
       "      <td>48</td>\n",
       "      <td>0.0</td>\n",
       "      <td>0</td>\n",
       "      <td>2013-05-19</td>\n",
       "      <td>2013-07-05</td>\n",
       "      <td>0.0</td>\n",
       "      <td>0.0</td>\n",
       "      <td>...</td>\n",
       "      <td>0.0</td>\n",
       "      <td>3</td>\n",
       "      <td>1</td>\n",
       "      <td>0</td>\n",
       "      <td>0</td>\n",
       "      <td>56.000</td>\n",
       "      <td>3</td>\n",
       "      <td>56</td>\n",
       "      <td>56</td>\n",
       "      <td>1</td>\n",
       "    </tr>\n",
       "    <tr>\n",
       "      <th>2</th>\n",
       "      <td>7</td>\n",
       "      <td>13</td>\n",
       "      <td>644</td>\n",
       "      <td>1050</td>\n",
       "      <td>0.0</td>\n",
       "      <td>0</td>\n",
       "      <td>2013-05-19</td>\n",
       "      <td>2013-07-05</td>\n",
       "      <td>0.0</td>\n",
       "      <td>NaN</td>\n",
       "      <td>...</td>\n",
       "      <td>0.0</td>\n",
       "      <td>4</td>\n",
       "      <td>1</td>\n",
       "      <td>0</td>\n",
       "      <td>0</td>\n",
       "      <td>611.000</td>\n",
       "      <td>4</td>\n",
       "      <td>611</td>\n",
       "      <td>611</td>\n",
       "      <td>1</td>\n",
       "    </tr>\n",
       "    <tr>\n",
       "      <th>3</th>\n",
       "      <td>21</td>\n",
       "      <td>13</td>\n",
       "      <td>1028</td>\n",
       "      <td>89</td>\n",
       "      <td>0.0</td>\n",
       "      <td>0</td>\n",
       "      <td>2013-05-19</td>\n",
       "      <td>2013-07-05</td>\n",
       "      <td>0.0</td>\n",
       "      <td>0.0</td>\n",
       "      <td>...</td>\n",
       "      <td>0.0</td>\n",
       "      <td>6</td>\n",
       "      <td>1</td>\n",
       "      <td>0</td>\n",
       "      <td>0</td>\n",
       "      <td>1639.000</td>\n",
       "      <td>6</td>\n",
       "      <td>1639</td>\n",
       "      <td>1639</td>\n",
       "      <td>1</td>\n",
       "    </tr>\n",
       "    <tr>\n",
       "      <th>4</th>\n",
       "      <td>23</td>\n",
       "      <td>13</td>\n",
       "      <td>517</td>\n",
       "      <td>1067</td>\n",
       "      <td>0.0</td>\n",
       "      <td>0</td>\n",
       "      <td>2013-05-19</td>\n",
       "      <td>2013-07-05</td>\n",
       "      <td>0.0</td>\n",
       "      <td>0.0</td>\n",
       "      <td>...</td>\n",
       "      <td>3.0</td>\n",
       "      <td>3</td>\n",
       "      <td>1</td>\n",
       "      <td>3</td>\n",
       "      <td>3</td>\n",
       "      <td>261.000</td>\n",
       "      <td>3</td>\n",
       "      <td>261</td>\n",
       "      <td>261</td>\n",
       "      <td>1</td>\n",
       "    </tr>\n",
       "  </tbody>\n",
       "</table>\n",
       "<p>5 rows × 35 columns</p>\n",
       "</div>"
      ],
      "text/plain": [
       "   id  campaign_id  coupon_id  customer_id  redemption_status  campaign_type  \\\n",
       "0   1           13         27         1053                0.0              0   \n",
       "1   2           13        116           48                0.0              0   \n",
       "2   7           13        644         1050                0.0              0   \n",
       "3  21           13       1028           89                0.0              0   \n",
       "4  23           13        517         1067                0.0              0   \n",
       "\n",
       "  start_date   end_date  no_of_times_redeemed_before  rented_mean  ...  \\\n",
       "0 2013-05-19 2013-07-05                          0.0          0.0  ...   \n",
       "1 2013-05-19 2013-07-05                          0.0          0.0  ...   \n",
       "2 2013-05-19 2013-07-05                          0.0          NaN  ...   \n",
       "3 2013-05-19 2013-07-05                          0.0          0.0  ...   \n",
       "4 2013-05-19 2013-07-05                          0.0          0.0  ...   \n",
       "\n",
       "   category_mean  category_count  category_nunique  category_max  \\\n",
       "0            0.0             125                 1             0   \n",
       "1            0.0               3                 1             0   \n",
       "2            0.0               4                 1             0   \n",
       "3            0.0               6                 1             0   \n",
       "4            3.0               3                 1             3   \n",
       "\n",
       "   category_min  brand_mean  brand_count  brand_min  brand_max  brand_nunique  \n",
       "0             0    1364.128          125       1105       1636              2  \n",
       "1             0      56.000            3         56         56              1  \n",
       "2             0     611.000            4        611        611              1  \n",
       "3             0    1639.000            6       1639       1639              1  \n",
       "4             3     261.000            3        261        261              1  \n",
       "\n",
       "[5 rows x 35 columns]"
      ]
     },
     "execution_count": 137,
     "metadata": {},
     "output_type": "execute_result"
    }
   ],
   "source": [
    "train.head()"
   ]
  },
  {
   "cell_type": "code",
   "execution_count": 138,
   "metadata": {},
   "outputs": [
    {
     "data": {
      "text/plain": [
       "id                                 0\n",
       "campaign_id                        0\n",
       "coupon_id                          0\n",
       "customer_id                        0\n",
       "redemption_status                  0\n",
       "campaign_type                      0\n",
       "start_date                         0\n",
       "end_date                           0\n",
       "no_of_times_redeemed_before        0\n",
       "rented_mean                    34708\n",
       "income_bracket_sum             34708\n",
       "age_range_mean                 34708\n",
       "family_size_mean               34708\n",
       "no_of_children_mean            64313\n",
       "no_of_children_count           34708\n",
       "marital_status_count           34708\n",
       "quantity_mean                      0\n",
       "coupon_discount_mean               0\n",
       "other_discount_mean                0\n",
       "date_day_mean                      0\n",
       "selling_price_mean                 0\n",
       "selling_price_sum                  0\n",
       "selling_price_min                  0\n",
       "selling_price_max                  0\n",
       "selling_price_nunique              0\n",
       "category_mean                      0\n",
       "category_count                     0\n",
       "category_nunique                   0\n",
       "category_max                       0\n",
       "category_min                       0\n",
       "brand_mean                         0\n",
       "brand_count                        0\n",
       "brand_min                          0\n",
       "brand_max                          0\n",
       "brand_nunique                      0\n",
       "dtype: int64"
      ]
     },
     "execution_count": 138,
     "metadata": {},
     "output_type": "execute_result"
    }
   ],
   "source": [
    "train.isna().sum()"
   ]
  },
  {
   "cell_type": "code",
   "execution_count": 110,
   "metadata": {},
   "outputs": [
    {
     "data": {
      "text/plain": [
       "id                                 0\n",
       "campaign_id                        0\n",
       "coupon_id                          0\n",
       "customer_id                        0\n",
       "redemption_status              50226\n",
       "campaign_type                      0\n",
       "start_date                         0\n",
       "end_date                           0\n",
       "no_of_times_redeemed_before     4018\n",
       "rented_mean                    19287\n",
       "income_bracket_sum             19287\n",
       "age_range_mean                 19287\n",
       "family_size_mean               19287\n",
       "no_of_children_mean            40064\n",
       "no_of_children_count           19287\n",
       "marital_status_count           19287\n",
       "quantity_mean                      0\n",
       "coupon_discount_mean               0\n",
       "other_discount_mean                0\n",
       "date_day_mean                      0\n",
       "selling_price_mean                 0\n",
       "selling_price_sum                  0\n",
       "selling_price_min                  0\n",
       "selling_price_max                  0\n",
       "selling_price_nunique              0\n",
       "category_mean                      0\n",
       "category_count                     0\n",
       "category_nunique                   0\n",
       "category_max                       0\n",
       "category_min                       0\n",
       "brand_mean                         0\n",
       "brand_count                        0\n",
       "brand_min                          0\n",
       "brand_max                          0\n",
       "brand_nunique                      0\n",
       "dtype: int64"
      ]
     },
     "execution_count": 110,
     "metadata": {},
     "output_type": "execute_result"
    }
   ],
   "source": [
    "test.isna().sum()"
   ]
  },
  {
   "cell_type": "code",
   "execution_count": 52,
   "metadata": {},
   "outputs": [
    {
     "data": {
      "text/plain": [
       "Index(['campaign_id_2', 'campaign_id_3', 'campaign_id_4', 'campaign_id_5',\n",
       "       'campaign_id_6', 'campaign_id_7', 'campaign_id_8', 'campaign_id_9',\n",
       "       'campaign_id_10', 'campaign_id_11',\n",
       "       ...\n",
       "       'selling_price_nunique_408', 'selling_price_nunique_423',\n",
       "       'selling_price_nunique_430', 'selling_price_nunique_437',\n",
       "       'selling_price_nunique_439', 'selling_price_nunique_444',\n",
       "       'selling_price_nunique_451', 'selling_price_nunique_452',\n",
       "       'selling_price_nunique_500', 'selling_price_nunique_536'],\n",
       "      dtype='object', length=9978)"
      ]
     },
     "execution_count": 52,
     "metadata": {},
     "output_type": "execute_result"
    }
   ],
   "source": [
    "pd.get_dummies(data[train_cols].fillna(0), columns=train_cols, drop_first=True, sparse=True).columns"
   ]
  },
  {
   "cell_type": "code",
   "execution_count": 61,
   "metadata": {},
   "outputs": [
    {
     "data": {
      "text/plain": [
       "Index(['id', 'campaign_id', 'coupon_id', 'customer_id', 'redemption_status',\n",
       "       'campaign_type', 'start_date', 'end_date', 'rented_mean',\n",
       "       'income_bracket_sum', 'age_range_mean', 'family_size_mean',\n",
       "       'no_of_children_mean', 'no_of_children_count', 'marital_status_count',\n",
       "       'quantity_mean', 'coupon_discount_mean', 'other_discount_mean',\n",
       "       'date_day_mean', 'selling_price_mean', 'selling_price_sum',\n",
       "       'selling_price_min', 'selling_price_max', 'selling_price_nunique',\n",
       "       'category_mean', 'category_count', 'category_nunique', 'category_max',\n",
       "       'category_min', 'brand_mean', 'brand_count', 'brand_min', 'brand_max',\n",
       "       'brand_nunique'],\n",
       "      dtype='object')"
      ]
     },
     "execution_count": 61,
     "metadata": {},
     "output_type": "execute_result"
    }
   ],
   "source": [
    "train.columns"
   ]
  },
  {
   "cell_type": "code",
   "execution_count": 55,
   "metadata": {},
   "outputs": [
    {
     "data": {
      "text/plain": [
       "(78369, 34)"
      ]
     },
     "execution_count": 55,
     "metadata": {},
     "output_type": "execute_result"
    }
   ],
   "source": [
    "train.shape"
   ]
  },
  {
   "cell_type": "code",
   "execution_count": 57,
   "metadata": {},
   "outputs": [
    {
     "data": {
      "text/plain": [
       "(50226, 34)"
      ]
     },
     "execution_count": 57,
     "metadata": {},
     "output_type": "execute_result"
    }
   ],
   "source": [
    "test.shape"
   ]
  },
  {
   "cell_type": "code",
   "execution_count": 58,
   "metadata": {},
   "outputs": [
    {
     "data": {
      "text/plain": [
       "(78369,)"
      ]
     },
     "execution_count": 58,
     "metadata": {},
     "output_type": "execute_result"
    }
   ],
   "source": [
    "target.shape"
   ]
  },
  {
   "cell_type": "code",
   "execution_count": 139,
   "metadata": {},
   "outputs": [],
   "source": [
    "train_np = train[train_cols].fillna(0).values\n",
    "test_np = test[train_cols].fillna(0).values"
   ]
  },
  {
   "cell_type": "code",
   "execution_count": 146,
   "metadata": {},
   "outputs": [],
   "source": [
    "def run_cv_model(train, test, target, model_fn, params={}, eval_fn=None, label='model'):\n",
    "    kf = StratifiedKFold(n_splits=5, shuffle = True, random_state = 228)\n",
    "    fold_splits = kf.split(train, target)\n",
    "    cv_scores = []\n",
    "    pred_full_test = 0\n",
    "    pred_train = np.zeros((train.shape[0]))\n",
    "    i = 1\n",
    "    for dev_index, val_index in fold_splits:\n",
    "        print('Started ' + label + ' fold ' + str(i) + '/5')\n",
    "        dev_X, val_X = train[dev_index], train[val_index]\n",
    "        dev_y, val_y = target[dev_index], target[val_index]\n",
    "        params2 = params.copy()\n",
    "        pred_val_y, pred_test_y = model_fn(dev_X, dev_y, val_X, val_y, test, params2)\n",
    "        pred_full_test = pred_full_test + pred_test_y\n",
    "        pred_train[val_index] = pred_val_y\n",
    "        if eval_fn is not None:\n",
    "            cv_score = eval_fn(val_y, pred_val_y)\n",
    "            cv_scores.append(cv_score)\n",
    "            print(label + ' cv score {}: {}'.format(i, cv_score))\n",
    "        i += 1\n",
    "    print('{} cv scores : {}'.format(label, cv_scores))\n",
    "    print('{} cv mean score : {}'.format(label, np.mean(cv_scores)))\n",
    "    print('{} cv std score : {}'.format(label, np.std(cv_scores)))\n",
    "    pred_full_test = pred_full_test / 10.0\n",
    "    results = {'label': label,\n",
    "              'train': pred_train, 'test': pred_full_test,\n",
    "              'cv': cv_scores}\n",
    "    return results\n",
    "\n",
    "\n",
    "def runLR(train_X, train_y, test_X, test_y, test_X2, params):\n",
    "    print('Train LR')\n",
    "    model = LogisticRegression(**params)\n",
    "    model.fit(train_X, train_y)\n",
    "    print('Predict 1/2')\n",
    "    pred_test_y = logit(model.predict_proba(test_X)[:, 1])\n",
    "    print('Predict 2/2')\n",
    "    pred_test_y2 = logit(model.predict_proba(test_X2)[:, 1])\n",
    "    return pred_test_y, pred_test_y2"
   ]
  },
  {
   "cell_type": "code",
   "execution_count": 67,
   "metadata": {
    "scrolled": true
   },
   "outputs": [
    {
     "name": "stdout",
     "output_type": "stream",
     "text": [
      "Started lr fold 1/5\n",
      "Train LR\n"
     ]
    },
    {
     "name": "stderr",
     "output_type": "stream",
     "text": [
      "/home/ubuntu/miniconda3/envs/xray/lib/python3.6/site-packages/sklearn/linear_model/logistic.py:758: ConvergenceWarning: lbfgs failed to converge. Increase the number of iterations.\n",
      "  \"of iterations.\", ConvergenceWarning)\n"
     ]
    },
    {
     "name": "stdout",
     "output_type": "stream",
     "text": [
      "Predict 1/2\n",
      "Predict 2/2\n",
      "lr cv score 1: 0.8174433458251289\n",
      "Started lr fold 2/5\n",
      "Train LR\n"
     ]
    },
    {
     "name": "stderr",
     "output_type": "stream",
     "text": [
      "/home/ubuntu/miniconda3/envs/xray/lib/python3.6/site-packages/sklearn/linear_model/logistic.py:758: ConvergenceWarning: lbfgs failed to converge. Increase the number of iterations.\n",
      "  \"of iterations.\", ConvergenceWarning)\n"
     ]
    },
    {
     "name": "stdout",
     "output_type": "stream",
     "text": [
      "Predict 1/2\n",
      "Predict 2/2\n",
      "lr cv score 2: 0.8208574170918818\n",
      "Started lr fold 3/5\n",
      "Train LR\n"
     ]
    },
    {
     "name": "stderr",
     "output_type": "stream",
     "text": [
      "/home/ubuntu/miniconda3/envs/xray/lib/python3.6/site-packages/sklearn/linear_model/logistic.py:758: ConvergenceWarning: lbfgs failed to converge. Increase the number of iterations.\n",
      "  \"of iterations.\", ConvergenceWarning)\n"
     ]
    },
    {
     "name": "stdout",
     "output_type": "stream",
     "text": [
      "Predict 1/2\n",
      "Predict 2/2\n",
      "lr cv score 3: 0.8195853006147095\n",
      "Started lr fold 4/5\n",
      "Train LR\n"
     ]
    },
    {
     "name": "stderr",
     "output_type": "stream",
     "text": [
      "/home/ubuntu/miniconda3/envs/xray/lib/python3.6/site-packages/sklearn/linear_model/logistic.py:758: ConvergenceWarning: lbfgs failed to converge. Increase the number of iterations.\n",
      "  \"of iterations.\", ConvergenceWarning)\n"
     ]
    },
    {
     "name": "stdout",
     "output_type": "stream",
     "text": [
      "Predict 1/2\n",
      "Predict 2/2\n",
      "lr cv score 4: 0.8672676137847318\n",
      "Started lr fold 5/5\n",
      "Train LR\n"
     ]
    },
    {
     "name": "stderr",
     "output_type": "stream",
     "text": [
      "/home/ubuntu/miniconda3/envs/xray/lib/python3.6/site-packages/sklearn/linear_model/logistic.py:758: ConvergenceWarning: lbfgs failed to converge. Increase the number of iterations.\n",
      "  \"of iterations.\", ConvergenceWarning)\n"
     ]
    },
    {
     "name": "stdout",
     "output_type": "stream",
     "text": [
      "Predict 1/2\n",
      "Predict 2/2\n",
      "lr cv score 5: 0.810428179232566\n",
      "Started lr fold 6/5\n",
      "Train LR\n"
     ]
    },
    {
     "name": "stderr",
     "output_type": "stream",
     "text": [
      "/home/ubuntu/miniconda3/envs/xray/lib/python3.6/site-packages/sklearn/linear_model/logistic.py:758: ConvergenceWarning: lbfgs failed to converge. Increase the number of iterations.\n",
      "  \"of iterations.\", ConvergenceWarning)\n"
     ]
    },
    {
     "name": "stdout",
     "output_type": "stream",
     "text": [
      "Predict 1/2\n",
      "Predict 2/2\n",
      "lr cv score 6: 0.858639805777279\n",
      "Started lr fold 7/5\n",
      "Train LR\n"
     ]
    },
    {
     "name": "stderr",
     "output_type": "stream",
     "text": [
      "/home/ubuntu/miniconda3/envs/xray/lib/python3.6/site-packages/sklearn/linear_model/logistic.py:758: ConvergenceWarning: lbfgs failed to converge. Increase the number of iterations.\n",
      "  \"of iterations.\", ConvergenceWarning)\n"
     ]
    },
    {
     "name": "stdout",
     "output_type": "stream",
     "text": [
      "Predict 1/2\n",
      "Predict 2/2\n",
      "lr cv score 7: 0.8201481371697966\n",
      "Started lr fold 8/5\n",
      "Train LR\n"
     ]
    },
    {
     "name": "stderr",
     "output_type": "stream",
     "text": [
      "/home/ubuntu/miniconda3/envs/xray/lib/python3.6/site-packages/sklearn/linear_model/logistic.py:758: ConvergenceWarning: lbfgs failed to converge. Increase the number of iterations.\n",
      "  \"of iterations.\", ConvergenceWarning)\n"
     ]
    },
    {
     "name": "stdout",
     "output_type": "stream",
     "text": [
      "Predict 1/2\n",
      "Predict 2/2\n",
      "lr cv score 8: 0.8351435850747744\n",
      "Started lr fold 9/5\n",
      "Train LR\n"
     ]
    },
    {
     "name": "stderr",
     "output_type": "stream",
     "text": [
      "/home/ubuntu/miniconda3/envs/xray/lib/python3.6/site-packages/sklearn/linear_model/logistic.py:758: ConvergenceWarning: lbfgs failed to converge. Increase the number of iterations.\n",
      "  \"of iterations.\", ConvergenceWarning)\n"
     ]
    },
    {
     "name": "stdout",
     "output_type": "stream",
     "text": [
      "Predict 1/2\n",
      "Predict 2/2\n",
      "lr cv score 9: 0.8019750446387612\n",
      "Started lr fold 10/5\n",
      "Train LR\n",
      "Predict 1/2\n",
      "Predict 2/2\n",
      "lr cv score 10: 0.8494189707481825\n",
      "lr cv scores : [0.8174433458251289, 0.8208574170918818, 0.8195853006147095, 0.8672676137847318, 0.810428179232566, 0.858639805777279, 0.8201481371697966, 0.8351435850747744, 0.8019750446387612, 0.8494189707481825]\n",
      "lr cv mean score : 0.8300907399957811\n",
      "lr cv std score : 0.020561663135559557\n"
     ]
    },
    {
     "name": "stderr",
     "output_type": "stream",
     "text": [
      "/home/ubuntu/miniconda3/envs/xray/lib/python3.6/site-packages/sklearn/linear_model/logistic.py:758: ConvergenceWarning: lbfgs failed to converge. Increase the number of iterations.\n",
      "  \"of iterations.\", ConvergenceWarning)\n"
     ]
    }
   ],
   "source": [
    "target = train['redemption_status'].values\n",
    "lr_params = {'solver': 'lbfgs','C': 1.8,'max_iter' : 2000}\n",
    "results = run_cv_model(train_np, test_np, target, runLR, lr_params, auc, 'lr')"
   ]
  },
  {
   "cell_type": "code",
   "execution_count": 68,
   "metadata": {},
   "outputs": [],
   "source": [
    "tmp = dict(zip(test.id.values, results['test']))\n",
    "answer1 = pd.DataFrame()\n",
    "answer1['id'] = test.id.values\n",
    "answer1['redemption_status'] = answer1['id'].map(tmp)\n",
    "answer1.to_csv('submit_new.csv', index = None)"
   ]
  },
  {
   "cell_type": "markdown",
   "metadata": {},
   "source": [
    "**xgboost**"
   ]
  },
  {
   "cell_type": "code",
   "execution_count": 113,
   "metadata": {},
   "outputs": [],
   "source": [
    "def runXgb(train_X, train_y, test_X, test_y, test_X2, params):\n",
    "    print('Train LR')\n",
    "    model = XGBClassifier(random_state=42)\n",
    "    model.fit(train_X, train_y)\n",
    "    print('Predict 1/2')\n",
    "    pred_test_y = logit(model.predict_proba(test_X)[:, 1])\n",
    "    print('Predict 2/2')\n",
    "    pred_test_y2 = logit(model.predict_proba(test_X2)[:, 1])\n",
    "    return pred_test_y, pred_test_y2"
   ]
  },
  {
   "cell_type": "code",
   "execution_count": 71,
   "metadata": {
    "scrolled": true
   },
   "outputs": [
    {
     "name": "stdout",
     "output_type": "stream",
     "text": [
      "Started lr fold 1/5\n",
      "Train LR\n",
      "Predict 1/2\n",
      "Predict 2/2\n",
      "lr cv score 1: 0.9196237640532701\n",
      "Started lr fold 2/5\n",
      "Train LR\n",
      "Predict 1/2\n",
      "Predict 2/2\n",
      "lr cv score 2: 0.9069978756889896\n",
      "Started lr fold 3/5\n",
      "Train LR\n",
      "Predict 1/2\n",
      "Predict 2/2\n",
      "lr cv score 3: 0.9192505981241135\n",
      "Started lr fold 4/5\n",
      "Train LR\n",
      "Predict 1/2\n",
      "Predict 2/2\n",
      "lr cv score 4: 0.9319179493694114\n",
      "Started lr fold 5/5\n",
      "Train LR\n",
      "Predict 1/2\n",
      "Predict 2/2\n",
      "lr cv score 5: 0.8962757510956787\n",
      "Started lr fold 6/5\n",
      "Train LR\n",
      "Predict 1/2\n",
      "Predict 2/2\n",
      "lr cv score 6: 0.9253500525784619\n",
      "Started lr fold 7/5\n",
      "Train LR\n",
      "Predict 1/2\n",
      "Predict 2/2\n",
      "lr cv score 7: 0.9145855829151758\n",
      "Started lr fold 8/5\n",
      "Train LR\n",
      "Predict 1/2\n",
      "Predict 2/2\n",
      "lr cv score 8: 0.9036667301842716\n",
      "Started lr fold 9/5\n",
      "Train LR\n",
      "Predict 1/2\n",
      "Predict 2/2\n",
      "lr cv score 9: 0.9028039493835263\n",
      "Started lr fold 10/5\n",
      "Train LR\n",
      "Predict 1/2\n",
      "Predict 2/2\n",
      "lr cv score 10: 0.9265609794493103\n",
      "lr cv scores : [0.9196237640532701, 0.9069978756889896, 0.9192505981241135, 0.9319179493694114, 0.8962757510956787, 0.9253500525784619, 0.9145855829151758, 0.9036667301842716, 0.9028039493835263, 0.9265609794493103]\n",
      "lr cv mean score : 0.9147033232842208\n",
      "lr cv std score : 0.011214068575508933\n"
     ]
    }
   ],
   "source": [
    "target = train['redemption_status'].values\n",
    "lr_params = {'solver': 'lbfgs','C': 1.8,'max_iter' : 2000}\n",
    "results = run_cv_model(train_np, test_np, target, runXgb, lr_params, auc, 'xgb')"
   ]
  },
  {
   "cell_type": "code",
   "execution_count": 72,
   "metadata": {},
   "outputs": [],
   "source": [
    "tmp = dict(zip(test.id.values, results['test']))\n",
    "answer1 = pd.DataFrame()\n",
    "answer1['id'] = test.id.values\n",
    "answer1['redemption_status'] = answer1['id'].map(tmp)\n",
    "answer1.to_csv('submit_new_xgb.csv', index = None)"
   ]
  },
  {
   "cell_type": "code",
   "execution_count": null,
   "metadata": {},
   "outputs": [],
   "source": []
  },
  {
   "cell_type": "code",
   "execution_count": 114,
   "metadata": {
    "scrolled": true
   },
   "outputs": [
    {
     "name": "stdout",
     "output_type": "stream",
     "text": [
      "Started xgb fold 1/5\n",
      "Train LR\n",
      "Predict 1/2\n",
      "Predict 2/2\n",
      "xgb cv score 1: 0.9604805812566606\n",
      "Started xgb fold 2/5\n",
      "Train LR\n",
      "Predict 1/2\n",
      "Predict 2/2\n",
      "xgb cv score 2: 0.9641646023445054\n",
      "Started xgb fold 3/5\n",
      "Train LR\n",
      "Predict 1/2\n",
      "Predict 2/2\n",
      "xgb cv score 3: 0.9680991650963703\n",
      "Started xgb fold 4/5\n",
      "Train LR\n",
      "Predict 1/2\n",
      "Predict 2/2\n",
      "xgb cv score 4: 0.9692248382065451\n",
      "Started xgb fold 5/5\n",
      "Train LR\n",
      "Predict 1/2\n",
      "Predict 2/2\n",
      "xgb cv score 5: 0.9586562144918944\n",
      "Started xgb fold 6/5\n",
      "Train LR\n",
      "Predict 1/2\n",
      "Predict 2/2\n",
      "xgb cv score 6: 0.9692371888519546\n",
      "Started xgb fold 7/5\n",
      "Train LR\n",
      "Predict 1/2\n",
      "Predict 2/2\n",
      "xgb cv score 7: 0.9671155244084041\n",
      "Started xgb fold 8/5\n",
      "Train LR\n",
      "Predict 1/2\n",
      "Predict 2/2\n",
      "xgb cv score 8: 0.9604417649425167\n",
      "Started xgb fold 9/5\n",
      "Train LR\n",
      "Predict 1/2\n",
      "Predict 2/2\n",
      "xgb cv score 9: 0.9643022238219248\n",
      "Started xgb fold 10/5\n",
      "Train LR\n",
      "Predict 1/2\n",
      "Predict 2/2\n",
      "xgb cv score 10: 0.969627447192169\n",
      "xgb cv scores : [0.9604805812566606, 0.9641646023445054, 0.9680991650963703, 0.9692248382065451, 0.9586562144918944, 0.9692371888519546, 0.9671155244084041, 0.9604417649425167, 0.9643022238219248, 0.969627447192169]\n",
      "xgb cv mean score : 0.9651349550612945\n",
      "xgb cv std score : 0.003921039172382897\n"
     ]
    }
   ],
   "source": [
    "target = train['redemption_status'].values\n",
    "lr_params = {'solver': 'lbfgs','C': 1.8,'max_iter' : 2000}\n",
    "results = run_cv_model(train_np, test_np, target, runXgb, lr_params, auc, 'xgb')"
   ]
  },
  {
   "cell_type": "code",
   "execution_count": 115,
   "metadata": {},
   "outputs": [],
   "source": [
    "tmp = dict(zip(test.id.values, results['test']))\n",
    "answer1 = pd.DataFrame()\n",
    "answer1['id'] = test.id.values\n",
    "answer1['redemption_status'] = answer1['id'].map(tmp)\n",
    "answer1.to_csv('submit_new_xgb_with_my_inception_feature.csv', index = None)"
   ]
  },
  {
   "cell_type": "code",
   "execution_count": null,
   "metadata": {},
   "outputs": [],
   "source": []
  },
  {
   "cell_type": "markdown",
   "metadata": {},
   "source": [
    "### Bayesian Optimisation"
   ]
  },
  {
   "cell_type": "code",
   "execution_count": 140,
   "metadata": {},
   "outputs": [],
   "source": [
    "dtrain = xgb.DMatrix(train_np, label=target)"
   ]
  },
  {
   "cell_type": "code",
   "execution_count": 141,
   "metadata": {},
   "outputs": [
    {
     "data": {
      "text/plain": [
       "(78369, 24)"
      ]
     },
     "execution_count": 141,
     "metadata": {},
     "output_type": "execute_result"
    }
   ],
   "source": [
    "train_np.shape"
   ]
  },
  {
   "cell_type": "code",
   "execution_count": 142,
   "metadata": {},
   "outputs": [],
   "source": [
    "def bo_tune_xgb(max_depth, gamma, n_estimators ,learning_rate, subsample):\n",
    "    params = {'max_depth': int(max_depth),\n",
    "              'gamma': gamma,\n",
    "              'n_estimators': int(n_estimators),\n",
    "              'learning_rate':learning_rate,\n",
    "              'subsample': float(subsample),\n",
    "              'eta': 0.1,\n",
    "               'objective':'binary:logistic',\n",
    "              'eval_metric': 'auc'}\n",
    "    #Cross validating with the specified parameters in 5 folds and 70 iterations\n",
    "    cv_result = xgb.cv(params, dtrain, num_boost_round=70, nfold=5)\n",
    "    #Return the negative RMSE\n",
    "    return cv_result['test-auc-mean'].iloc[-1]"
   ]
  },
  {
   "cell_type": "code",
   "execution_count": 143,
   "metadata": {},
   "outputs": [],
   "source": [
    "xgb_bo = BayesianOptimization(bo_tune_xgb, {'max_depth': (3, 10), \n",
    "                                             'gamma': (0, 1),\n",
    "                                             'learning_rate':(0,1),\n",
    "                                             'n_estimators':(100,120),\n",
    "                                            'subsample':(0.1,0.3)\n",
    "                                            })"
   ]
  },
  {
   "cell_type": "code",
   "execution_count": 144,
   "metadata": {},
   "outputs": [
    {
     "name": "stdout",
     "output_type": "stream",
     "text": [
      "|   iter    |  target   |   gamma   | learni... | max_depth | n_esti... | subsample |\n",
      "-------------------------------------------------------------------------------------\n",
      "| \u001b[0m 1       \u001b[0m | \u001b[0m 0.8971  \u001b[0m | \u001b[0m 0.4825  \u001b[0m | \u001b[0m 0.4488  \u001b[0m | \u001b[0m 4.53    \u001b[0m | \u001b[0m 117.1   \u001b[0m | \u001b[0m 0.2903  \u001b[0m |\n",
      "| \u001b[0m 2       \u001b[0m | \u001b[0m 0.833   \u001b[0m | \u001b[0m 0.04989 \u001b[0m | \u001b[0m 0.9978  \u001b[0m | \u001b[0m 3.954   \u001b[0m | \u001b[0m 113.9   \u001b[0m | \u001b[0m 0.1999  \u001b[0m |\n",
      "| \u001b[0m 3       \u001b[0m | \u001b[0m 0.8611  \u001b[0m | \u001b[0m 0.2141  \u001b[0m | \u001b[0m 0.4501  \u001b[0m | \u001b[0m 7.414   \u001b[0m | \u001b[0m 108.3   \u001b[0m | \u001b[0m 0.1594  \u001b[0m |\n",
      "| \u001b[0m 4       \u001b[0m | \u001b[0m 0.8727  \u001b[0m | \u001b[0m 0.2158  \u001b[0m | \u001b[0m 0.6634  \u001b[0m | \u001b[0m 3.655   \u001b[0m | \u001b[0m 119.4   \u001b[0m | \u001b[0m 0.1952  \u001b[0m |\n",
      "| \u001b[95m 5       \u001b[0m | \u001b[95m 0.8993  \u001b[0m | \u001b[95m 0.2872  \u001b[0m | \u001b[95m 0.4883  \u001b[0m | \u001b[95m 3.239   \u001b[0m | \u001b[95m 113.1   \u001b[0m | \u001b[95m 0.2781  \u001b[0m |\n",
      "| \u001b[0m 6       \u001b[0m | \u001b[0m 0.8809  \u001b[0m | \u001b[0m 0.3213  \u001b[0m | \u001b[0m 0.4004  \u001b[0m | \u001b[0m 8.183   \u001b[0m | \u001b[0m 117.6   \u001b[0m | \u001b[0m 0.2675  \u001b[0m |\n",
      "| \u001b[95m 7       \u001b[0m | \u001b[95m 0.9074  \u001b[0m | \u001b[95m 0.923   \u001b[0m | \u001b[95m 0.1733  \u001b[0m | \u001b[95m 3.168   \u001b[0m | \u001b[95m 106.2   \u001b[0m | \u001b[95m 0.1987  \u001b[0m |\n",
      "| \u001b[0m 8       \u001b[0m | \u001b[0m 0.8323  \u001b[0m | \u001b[0m 0.7869  \u001b[0m | \u001b[0m 0.8965  \u001b[0m | \u001b[0m 7.656   \u001b[0m | \u001b[0m 119.3   \u001b[0m | \u001b[0m 0.2554  \u001b[0m |\n",
      "| \u001b[0m 9       \u001b[0m | \u001b[0m 0.5     \u001b[0m | \u001b[0m 1.0     \u001b[0m | \u001b[0m 0.0     \u001b[0m | \u001b[0m 3.0     \u001b[0m | \u001b[0m 115.3   \u001b[0m | \u001b[0m 0.3     \u001b[0m |\n",
      "| \u001b[0m 10      \u001b[0m | \u001b[0m 0.5     \u001b[0m | \u001b[0m 0.0     \u001b[0m | \u001b[0m 0.0     \u001b[0m | \u001b[0m 3.0     \u001b[0m | \u001b[0m 110.0   \u001b[0m | \u001b[0m 0.3     \u001b[0m |\n",
      "| \u001b[0m 11      \u001b[0m | \u001b[0m 0.7679  \u001b[0m | \u001b[0m 1.0     \u001b[0m | \u001b[0m 1.0     \u001b[0m | \u001b[0m 5.304   \u001b[0m | \u001b[0m 100.6   \u001b[0m | \u001b[0m 0.1     \u001b[0m |\n",
      "| \u001b[0m 12      \u001b[0m | \u001b[0m 0.5     \u001b[0m | \u001b[0m 1.0     \u001b[0m | \u001b[0m 0.0     \u001b[0m | \u001b[0m 10.0    \u001b[0m | \u001b[0m 104.1   \u001b[0m | \u001b[0m 0.3     \u001b[0m |\n",
      "| \u001b[0m 13      \u001b[0m | \u001b[0m 0.5     \u001b[0m | \u001b[0m 1.0     \u001b[0m | \u001b[0m 0.0     \u001b[0m | \u001b[0m 10.0    \u001b[0m | \u001b[0m 112.1   \u001b[0m | \u001b[0m 0.3     \u001b[0m |\n",
      "=====================================================================================\n"
     ]
    }
   ],
   "source": [
    "xgb_bo.maximize(n_iter=5, init_points=8, acq='ei')"
   ]
  },
  {
   "cell_type": "code",
   "execution_count": 131,
   "metadata": {},
   "outputs": [],
   "source": [
    "def runXgbHighest(train_X, train_y, test_X, test_y, test_X2, params):\n",
    "    print('Train LR')\n",
    "    model = XGBClassifier(random_state=42, learning_rate=0.03455, gamma=0.1887, max_depth=8, n_estimators=116, subsample=0.2643)\n",
    "    model.fit(train_X, train_y)\n",
    "    print('Predict 1/2')\n",
    "    pred_test_y = logit(model.predict_proba(test_X)[:, 1])\n",
    "    print('Predict 2/2')\n",
    "    pred_test_y2 = logit(model.predict_proba(test_X2)[:, 1])\n",
    "    return pred_test_y, pred_test_y2"
   ]
  },
  {
   "cell_type": "code",
   "execution_count": 132,
   "metadata": {
    "scrolled": true
   },
   "outputs": [
    {
     "name": "stdout",
     "output_type": "stream",
     "text": [
      "Started xgb-bpo fold 1/5\n",
      "Train LR\n",
      "Predict 1/2\n",
      "Predict 2/2\n",
      "xgb-bpo cv score 1: 0.9554970958339507\n",
      "Started xgb-bpo fold 2/5\n",
      "Train LR\n",
      "Predict 1/2\n",
      "Predict 2/2\n",
      "xgb-bpo cv score 2: 0.9634103307855716\n",
      "Started xgb-bpo fold 3/5\n",
      "Train LR\n",
      "Predict 1/2\n",
      "Predict 2/2\n",
      "xgb-bpo cv score 3: 0.9661248262087753\n",
      "Started xgb-bpo fold 4/5\n",
      "Train LR\n",
      "Predict 1/2\n",
      "Predict 2/2\n",
      "xgb-bpo cv score 4: 0.9712794562893016\n",
      "Started xgb-bpo fold 5/5\n",
      "Train LR\n",
      "Predict 1/2\n",
      "Predict 2/2\n",
      "xgb-bpo cv score 5: 0.9562954768407755\n",
      "Started xgb-bpo fold 6/5\n",
      "Train LR\n",
      "Predict 1/2\n",
      "Predict 2/2\n",
      "xgb-bpo cv score 6: 0.9679112588483553\n",
      "Started xgb-bpo fold 7/5\n",
      "Train LR\n",
      "Predict 1/2\n",
      "Predict 2/2\n",
      "xgb-bpo cv score 7: 0.9626587057935113\n",
      "Started xgb-bpo fold 8/5\n",
      "Train LR\n",
      "Predict 1/2\n",
      "Predict 2/2\n",
      "xgb-bpo cv score 8: 0.959531345938049\n",
      "Started xgb-bpo fold 9/5\n",
      "Train LR\n",
      "Predict 1/2\n",
      "Predict 2/2\n",
      "xgb-bpo cv score 9: 0.9605696823413999\n",
      "Started xgb-bpo fold 10/5\n",
      "Train LR\n",
      "Predict 1/2\n",
      "Predict 2/2\n",
      "xgb-bpo cv score 10: 0.9698125965996909\n",
      "xgb-bpo cv scores : [0.9554970958339507, 0.9634103307855716, 0.9661248262087753, 0.9712794562893016, 0.9562954768407755, 0.9679112588483553, 0.9626587057935113, 0.959531345938049, 0.9605696823413999, 0.9698125965996909]\n",
      "xgb-bpo cv mean score : 0.9633090775479383\n",
      "xgb-bpo cv std score : 0.005170663802747549\n"
     ]
    }
   ],
   "source": [
    "target = train['redemption_status'].values\n",
    "lr_params = {'solver': 'lbfgs','C': 1.8,'max_iter' : 2000}\n",
    "results = run_cv_model(train_np, test_np, target, runXgbHighest, lr_params, auc, 'xgb-bpo')"
   ]
  },
  {
   "cell_type": "code",
   "execution_count": 133,
   "metadata": {},
   "outputs": [],
   "source": [
    "tmp = dict(zip(test.id.values, results['test']))\n",
    "answer1 = pd.DataFrame()\n",
    "answer1['id'] = test.id.values\n",
    "answer1['redemption_status'] = answer1['id'].map(tmp)\n",
    "answer1.to_csv('submit_new_xgb_with_my_inception_feature_BPO.csv', index = None)"
   ]
  },
  {
   "cell_type": "code",
   "execution_count": 150,
   "metadata": {},
   "outputs": [],
   "source": [
    "def runXgbHighest2(train_X, train_y, test_X, test_y, test_X2, params):\n",
    "    print('Train LR')\n",
    "    model = XGBClassifier(random_state=42, learning_rate=0.1733, gamma=0.923, max_depth=3, n_estimators=106, subsample=0.1987)\n",
    "    model.fit(train_X, train_y)\n",
    "    print('Predict 1/2')\n",
    "    pred_test_y = logit(model.predict_proba(test_X)[:, 1])\n",
    "    print('Predict 2/2')\n",
    "    pred_test_y2 = logit(model.predict_proba(test_X2)[:, 1])\n",
    "    print('feature importance : {}'.format(model.feature_importances_))\n",
    "    return pred_test_y, pred_test_y2"
   ]
  },
  {
   "cell_type": "code",
   "execution_count": 151,
   "metadata": {
    "scrolled": true
   },
   "outputs": [
    {
     "name": "stdout",
     "output_type": "stream",
     "text": [
      "Started xgb-bpo2 fold 1/5\n",
      "Train LR\n",
      "Predict 1/2\n",
      "Predict 2/2\n",
      "feature importance : [0.05037954 0.04591098 0.05606027 0.03044404 0.04609721 0.0337368\n",
      " 0.05608289 0.03338706 0.         0.0485968  0.04821579 0.05407567\n",
      " 0.03965615 0.03938425 0.06306253 0.02905087 0.03927152 0.03638927\n",
      " 0.05644433 0.04014567 0.03124542 0.04412053 0.03865521 0.03958711]\n",
      "xgb-bpo2 cv score 1: 0.9153043463685573\n",
      "Started xgb-bpo2 fold 2/5\n",
      "Train LR\n",
      "Predict 1/2\n",
      "Predict 2/2\n",
      "feature importance : [0.05307731 0.04672448 0.05680313 0.0479537  0.03344129 0.04509368\n",
      " 0.02907523 0.         0.         0.03389921 0.04171652 0.05706872\n",
      " 0.03926303 0.04610841 0.047458   0.04981609 0.05788095 0.04451828\n",
      " 0.05359478 0.04155997 0.04086689 0.04405981 0.0406845  0.0493359 ]\n",
      "xgb-bpo2 cv score 2: 0.9277235819694692\n",
      "Started xgb-bpo2 fold 3/5\n",
      "Train LR\n",
      "Predict 1/2\n",
      "Predict 2/2\n",
      "feature importance : [0.05655163 0.04777016 0.06292161 0.0517264  0.04835346 0.03664533\n",
      " 0.03281117 0.         0.         0.05184841 0.04450717 0.05238169\n",
      " 0.0376266  0.04430813 0.0495269  0.04030379 0.03992847 0.0461232\n",
      " 0.05115718 0.04447303 0.02687925 0.04876933 0.04060897 0.04477812]\n",
      "xgb-bpo2 cv score 3: 0.9001875974818798\n",
      "Started xgb-bpo2 fold 4/5\n",
      "Train LR\n",
      "Predict 1/2\n",
      "Predict 2/2\n",
      "feature importance : [0.04816479 0.04339594 0.06282289 0.         0.05181263 0.02832247\n",
      " 0.02851094 0.04499105 0.         0.04509948 0.03927634 0.05259936\n",
      " 0.03851651 0.04232266 0.05089379 0.05259987 0.05147269 0.06226695\n",
      " 0.0569682  0.0433233  0.0283847  0.04341668 0.03487258 0.04996615]\n",
      "xgb-bpo2 cv score 4: 0.9102317598611082\n",
      "Started xgb-bpo2 fold 5/5\n",
      "Train LR\n",
      "Predict 1/2\n",
      "Predict 2/2\n",
      "feature importance : [0.05382433 0.04921471 0.06266589 0.03617982 0.04662308 0.04141796\n",
      " 0.01766203 0.03672034 0.         0.02891087 0.04258856 0.05705872\n",
      " 0.03792675 0.04301045 0.03520577 0.04179351 0.04757439 0.07518928\n",
      " 0.05066955 0.05031457 0.02105836 0.04312341 0.03551601 0.04575156]\n",
      "xgb-bpo2 cv score 5: 0.9097265895645685\n",
      "xgb-bpo2 cv scores : [0.9153043463685573, 0.9277235819694692, 0.9001875974818798, 0.9102317598611082, 0.9097265895645685]\n",
      "xgb-bpo2 cv mean score : 0.9126347750491167\n",
      "xgb-bpo2 cv std score : 0.008988469942163907\n"
     ]
    }
   ],
   "source": [
    "target = train['redemption_status'].values\n",
    "lr_params = {'solver': 'lbfgs','C': 1.8,'max_iter' : 2000}\n",
    "results = run_cv_model(train_np, test_np, target, runXgbHighest2, lr_params, auc, 'xgb-bpo2')"
   ]
  },
  {
   "cell_type": "code",
   "execution_count": 149,
   "metadata": {},
   "outputs": [],
   "source": [
    "tmp = dict(zip(test.id.values, results['test']))\n",
    "answer1 = pd.DataFrame()\n",
    "answer1['id'] = test.id.values\n",
    "answer1['redemption_status'] = answer1['id'].map(tmp)\n",
    "answer1.to_csv('submit_new_xgb_BPO_2.csv', index = None)"
   ]
  },
  {
   "cell_type": "code",
   "execution_count": null,
   "metadata": {},
   "outputs": [],
   "source": []
  },
  {
   "cell_type": "code",
   "execution_count": 148,
   "metadata": {},
   "outputs": [],
   "source": [
    "def runXgbHighest3(train_X, train_y, test_X, test_y, test_X2, params):\n",
    "    print('Train LR')\n",
    "    model = XGBClassifier(random_state=42, learning_rate=0.4501, gamma=0.2141, max_depth=7, n_estimators=108, subsample=0.1594)\n",
    "    model.fit(train_X, train_y)\n",
    "    print('Predict 1/2')\n",
    "    pred_test_y = logit(model.predict_proba(test_X)[:, 1])\n",
    "    print('Predict 2/2')\n",
    "    pred_test_y2 = logit(model.predict_proba(test_X2)[:, 1])\n",
    "    return pred_test_y, pred_test_y2"
   ]
  },
  {
   "cell_type": "code",
   "execution_count": null,
   "metadata": {},
   "outputs": [],
   "source": []
  },
  {
   "cell_type": "code",
   "execution_count": null,
   "metadata": {},
   "outputs": [],
   "source": []
  },
  {
   "cell_type": "code",
   "execution_count": null,
   "metadata": {},
   "outputs": [],
   "source": []
  },
  {
   "cell_type": "code",
   "execution_count": null,
   "metadata": {},
   "outputs": [],
   "source": []
  },
  {
   "cell_type": "markdown",
   "metadata": {},
   "source": [
    "**Tetsing sanity of data**"
   ]
  },
  {
   "cell_type": "code",
   "execution_count": 35,
   "metadata": {},
   "outputs": [
    {
     "data": {
      "text/html": [
       "<div>\n",
       "<style scoped>\n",
       "    .dataframe tbody tr th:only-of-type {\n",
       "        vertical-align: middle;\n",
       "    }\n",
       "\n",
       "    .dataframe tbody tr th {\n",
       "        vertical-align: top;\n",
       "    }\n",
       "\n",
       "    .dataframe thead th {\n",
       "        text-align: right;\n",
       "    }\n",
       "</style>\n",
       "<table border=\"1\" class=\"dataframe\">\n",
       "  <thead>\n",
       "    <tr style=\"text-align: right;\">\n",
       "      <th></th>\n",
       "      <th>item_id</th>\n",
       "      <th>brand</th>\n",
       "      <th>brand_type</th>\n",
       "      <th>category</th>\n",
       "    </tr>\n",
       "  </thead>\n",
       "  <tbody>\n",
       "    <tr>\n",
       "      <th>0</th>\n",
       "      <td>1</td>\n",
       "      <td>1</td>\n",
       "      <td>Established</td>\n",
       "      <td>Grocery</td>\n",
       "    </tr>\n",
       "    <tr>\n",
       "      <th>1</th>\n",
       "      <td>2</td>\n",
       "      <td>1</td>\n",
       "      <td>Established</td>\n",
       "      <td>Miscellaneous</td>\n",
       "    </tr>\n",
       "    <tr>\n",
       "      <th>2</th>\n",
       "      <td>3</td>\n",
       "      <td>56</td>\n",
       "      <td>Local</td>\n",
       "      <td>Bakery</td>\n",
       "    </tr>\n",
       "    <tr>\n",
       "      <th>3</th>\n",
       "      <td>4</td>\n",
       "      <td>56</td>\n",
       "      <td>Local</td>\n",
       "      <td>Grocery</td>\n",
       "    </tr>\n",
       "    <tr>\n",
       "      <th>4</th>\n",
       "      <td>5</td>\n",
       "      <td>56</td>\n",
       "      <td>Local</td>\n",
       "      <td>Grocery</td>\n",
       "    </tr>\n",
       "  </tbody>\n",
       "</table>\n",
       "</div>"
      ],
      "text/plain": [
       "   item_id  brand   brand_type       category\n",
       "0        1      1  Established        Grocery\n",
       "1        2      1  Established  Miscellaneous\n",
       "2        3     56        Local         Bakery\n",
       "3        4     56        Local        Grocery\n",
       "4        5     56        Local        Grocery"
      ]
     },
     "execution_count": 35,
     "metadata": {},
     "output_type": "execute_result"
    }
   ],
   "source": [
    "item_data.head()"
   ]
  },
  {
   "cell_type": "code",
   "execution_count": 36,
   "metadata": {},
   "outputs": [
    {
     "data": {
      "text/html": [
       "<div>\n",
       "<style scoped>\n",
       "    .dataframe tbody tr th:only-of-type {\n",
       "        vertical-align: middle;\n",
       "    }\n",
       "\n",
       "    .dataframe tbody tr th {\n",
       "        vertical-align: top;\n",
       "    }\n",
       "\n",
       "    .dataframe thead th {\n",
       "        text-align: right;\n",
       "    }\n",
       "</style>\n",
       "<table border=\"1\" class=\"dataframe\">\n",
       "  <thead>\n",
       "    <tr style=\"text-align: right;\">\n",
       "      <th></th>\n",
       "      <th>coupon_id</th>\n",
       "      <th>item_id</th>\n",
       "    </tr>\n",
       "  </thead>\n",
       "  <tbody>\n",
       "    <tr>\n",
       "      <th>0</th>\n",
       "      <td>105</td>\n",
       "      <td>37</td>\n",
       "    </tr>\n",
       "    <tr>\n",
       "      <th>1</th>\n",
       "      <td>107</td>\n",
       "      <td>75</td>\n",
       "    </tr>\n",
       "    <tr>\n",
       "      <th>2</th>\n",
       "      <td>494</td>\n",
       "      <td>76</td>\n",
       "    </tr>\n",
       "    <tr>\n",
       "      <th>3</th>\n",
       "      <td>522</td>\n",
       "      <td>77</td>\n",
       "    </tr>\n",
       "    <tr>\n",
       "      <th>4</th>\n",
       "      <td>518</td>\n",
       "      <td>77</td>\n",
       "    </tr>\n",
       "  </tbody>\n",
       "</table>\n",
       "</div>"
      ],
      "text/plain": [
       "   coupon_id  item_id\n",
       "0        105       37\n",
       "1        107       75\n",
       "2        494       76\n",
       "3        522       77\n",
       "4        518       77"
      ]
     },
     "execution_count": 36,
     "metadata": {},
     "output_type": "execute_result"
    }
   ],
   "source": [
    "coupon_item_mapping.head()"
   ]
  },
  {
   "cell_type": "code",
   "execution_count": 39,
   "metadata": {},
   "outputs": [
    {
     "data": {
      "text/plain": [
       "(92663, 2)"
      ]
     },
     "execution_count": 39,
     "metadata": {},
     "output_type": "execute_result"
    }
   ],
   "source": [
    "coupon_item_mapping.shape"
   ]
  },
  {
   "cell_type": "code",
   "execution_count": 38,
   "metadata": {},
   "outputs": [
    {
     "data": {
      "text/plain": [
       "(92663, 5)"
      ]
     },
     "execution_count": 38,
     "metadata": {},
     "output_type": "execute_result"
    }
   ],
   "source": [
    "coupon_item_mapping.merge(item_data, how = 'left', on = 'item_id').shape"
   ]
  },
  {
   "cell_type": "code",
   "execution_count": 30,
   "metadata": {},
   "outputs": [
    {
     "data": {
      "text/html": [
       "<div>\n",
       "<style scoped>\n",
       "    .dataframe tbody tr th:only-of-type {\n",
       "        vertical-align: middle;\n",
       "    }\n",
       "\n",
       "    .dataframe tbody tr th {\n",
       "        vertical-align: top;\n",
       "    }\n",
       "\n",
       "    .dataframe thead th {\n",
       "        text-align: right;\n",
       "    }\n",
       "</style>\n",
       "<table border=\"1\" class=\"dataframe\">\n",
       "  <thead>\n",
       "    <tr style=\"text-align: right;\">\n",
       "      <th></th>\n",
       "      <th>id</th>\n",
       "      <th>campaign_id</th>\n",
       "      <th>coupon_id</th>\n",
       "      <th>customer_id</th>\n",
       "      <th>redemption_status</th>\n",
       "      <th>campaign_type</th>\n",
       "      <th>start_date</th>\n",
       "      <th>end_date</th>\n",
       "      <th>rented_mean</th>\n",
       "      <th>income_bracket_sum</th>\n",
       "      <th>age_range_mean</th>\n",
       "      <th>family_size_mean</th>\n",
       "      <th>no_of_children_mean</th>\n",
       "      <th>no_of_children_count</th>\n",
       "    </tr>\n",
       "  </thead>\n",
       "  <tbody>\n",
       "    <tr>\n",
       "      <th>0</th>\n",
       "      <td>1</td>\n",
       "      <td>13</td>\n",
       "      <td>27</td>\n",
       "      <td>1053</td>\n",
       "      <td>0.0</td>\n",
       "      <td>0</td>\n",
       "      <td>2013-05-19</td>\n",
       "      <td>2013-07-05</td>\n",
       "      <td>0.0</td>\n",
       "      <td>5.0</td>\n",
       "      <td>1.0</td>\n",
       "      <td>1.0</td>\n",
       "      <td>NaN</td>\n",
       "      <td>0.0</td>\n",
       "    </tr>\n",
       "    <tr>\n",
       "      <th>1</th>\n",
       "      <td>2</td>\n",
       "      <td>13</td>\n",
       "      <td>116</td>\n",
       "      <td>48</td>\n",
       "      <td>0.0</td>\n",
       "      <td>0</td>\n",
       "      <td>2013-05-19</td>\n",
       "      <td>2013-07-05</td>\n",
       "      <td>0.0</td>\n",
       "      <td>3.0</td>\n",
       "      <td>3.0</td>\n",
       "      <td>2.0</td>\n",
       "      <td>NaN</td>\n",
       "      <td>0.0</td>\n",
       "    </tr>\n",
       "    <tr>\n",
       "      <th>2</th>\n",
       "      <td>7</td>\n",
       "      <td>13</td>\n",
       "      <td>644</td>\n",
       "      <td>1050</td>\n",
       "      <td>0.0</td>\n",
       "      <td>0</td>\n",
       "      <td>2013-05-19</td>\n",
       "      <td>2013-07-05</td>\n",
       "      <td>NaN</td>\n",
       "      <td>NaN</td>\n",
       "      <td>NaN</td>\n",
       "      <td>NaN</td>\n",
       "      <td>NaN</td>\n",
       "      <td>NaN</td>\n",
       "    </tr>\n",
       "    <tr>\n",
       "      <th>3</th>\n",
       "      <td>21</td>\n",
       "      <td>13</td>\n",
       "      <td>1028</td>\n",
       "      <td>89</td>\n",
       "      <td>0.0</td>\n",
       "      <td>0</td>\n",
       "      <td>2013-05-19</td>\n",
       "      <td>2013-07-05</td>\n",
       "      <td>0.0</td>\n",
       "      <td>3.0</td>\n",
       "      <td>1.0</td>\n",
       "      <td>1.0</td>\n",
       "      <td>NaN</td>\n",
       "      <td>0.0</td>\n",
       "    </tr>\n",
       "    <tr>\n",
       "      <th>4</th>\n",
       "      <td>23</td>\n",
       "      <td>13</td>\n",
       "      <td>517</td>\n",
       "      <td>1067</td>\n",
       "      <td>0.0</td>\n",
       "      <td>0</td>\n",
       "      <td>2013-05-19</td>\n",
       "      <td>2013-07-05</td>\n",
       "      <td>0.0</td>\n",
       "      <td>5.0</td>\n",
       "      <td>1.0</td>\n",
       "      <td>1.0</td>\n",
       "      <td>NaN</td>\n",
       "      <td>0.0</td>\n",
       "    </tr>\n",
       "  </tbody>\n",
       "</table>\n",
       "</div>"
      ],
      "text/plain": [
       "   id  campaign_id  coupon_id  customer_id  redemption_status  campaign_type  \\\n",
       "0   1           13         27         1053                0.0              0   \n",
       "1   2           13        116           48                0.0              0   \n",
       "2   7           13        644         1050                0.0              0   \n",
       "3  21           13       1028           89                0.0              0   \n",
       "4  23           13        517         1067                0.0              0   \n",
       "\n",
       "  start_date   end_date  rented_mean  income_bracket_sum  age_range_mean  \\\n",
       "0 2013-05-19 2013-07-05          0.0                 5.0             1.0   \n",
       "1 2013-05-19 2013-07-05          0.0                 3.0             3.0   \n",
       "2 2013-05-19 2013-07-05          NaN                 NaN             NaN   \n",
       "3 2013-05-19 2013-07-05          0.0                 3.0             1.0   \n",
       "4 2013-05-19 2013-07-05          0.0                 5.0             1.0   \n",
       "\n",
       "   family_size_mean  no_of_children_mean  no_of_children_count  \n",
       "0               1.0                  NaN                   0.0  \n",
       "1               2.0                  NaN                   0.0  \n",
       "2               NaN                  NaN                   NaN  \n",
       "3               1.0                  NaN                   0.0  \n",
       "4               1.0                  NaN                   0.0  "
      ]
     },
     "execution_count": 30,
     "metadata": {},
     "output_type": "execute_result"
    }
   ],
   "source": [
    "data.head()"
   ]
  },
  {
   "cell_type": "code",
   "execution_count": 12,
   "metadata": {},
   "outputs": [
    {
     "data": {
      "text/plain": [
       "78369"
      ]
     },
     "execution_count": 12,
     "metadata": {},
     "output_type": "execute_result"
    }
   ],
   "source": [
    "ltr"
   ]
  },
  {
   "cell_type": "code",
   "execution_count": 6,
   "metadata": {},
   "outputs": [
    {
     "data": {
      "text/plain": [
       "(128595, 5)"
      ]
     },
     "execution_count": 6,
     "metadata": {},
     "output_type": "execute_result"
    }
   ],
   "source": [
    "data.shape"
   ]
  },
  {
   "cell_type": "code",
   "execution_count": 7,
   "metadata": {},
   "outputs": [
    {
     "data": {
      "text/plain": [
       "(78369, 5)"
      ]
     },
     "execution_count": 7,
     "metadata": {},
     "output_type": "execute_result"
    }
   ],
   "source": [
    "train.shape"
   ]
  },
  {
   "cell_type": "code",
   "execution_count": 8,
   "metadata": {},
   "outputs": [
    {
     "data": {
      "text/plain": [
       "(50226, 4)"
      ]
     },
     "execution_count": 8,
     "metadata": {},
     "output_type": "execute_result"
    }
   ],
   "source": [
    "test.shape"
   ]
  },
  {
   "cell_type": "code",
   "execution_count": 9,
   "metadata": {},
   "outputs": [
    {
     "data": {
      "text/html": [
       "<div>\n",
       "<style scoped>\n",
       "    .dataframe tbody tr th:only-of-type {\n",
       "        vertical-align: middle;\n",
       "    }\n",
       "\n",
       "    .dataframe tbody tr th {\n",
       "        vertical-align: top;\n",
       "    }\n",
       "\n",
       "    .dataframe thead th {\n",
       "        text-align: right;\n",
       "    }\n",
       "</style>\n",
       "<table border=\"1\" class=\"dataframe\">\n",
       "  <thead>\n",
       "    <tr style=\"text-align: right;\">\n",
       "      <th></th>\n",
       "      <th>id</th>\n",
       "      <th>campaign_id</th>\n",
       "      <th>coupon_id</th>\n",
       "      <th>customer_id</th>\n",
       "      <th>redemption_status</th>\n",
       "    </tr>\n",
       "  </thead>\n",
       "  <tbody>\n",
       "    <tr>\n",
       "      <th>0</th>\n",
       "      <td>1</td>\n",
       "      <td>13</td>\n",
       "      <td>27</td>\n",
       "      <td>1053</td>\n",
       "      <td>0.0</td>\n",
       "    </tr>\n",
       "    <tr>\n",
       "      <th>1</th>\n",
       "      <td>2</td>\n",
       "      <td>13</td>\n",
       "      <td>116</td>\n",
       "      <td>48</td>\n",
       "      <td>0.0</td>\n",
       "    </tr>\n",
       "    <tr>\n",
       "      <th>2</th>\n",
       "      <td>6</td>\n",
       "      <td>9</td>\n",
       "      <td>635</td>\n",
       "      <td>205</td>\n",
       "      <td>0.0</td>\n",
       "    </tr>\n",
       "    <tr>\n",
       "      <th>3</th>\n",
       "      <td>7</td>\n",
       "      <td>13</td>\n",
       "      <td>644</td>\n",
       "      <td>1050</td>\n",
       "      <td>0.0</td>\n",
       "    </tr>\n",
       "    <tr>\n",
       "      <th>4</th>\n",
       "      <td>9</td>\n",
       "      <td>8</td>\n",
       "      <td>1017</td>\n",
       "      <td>1489</td>\n",
       "      <td>0.0</td>\n",
       "    </tr>\n",
       "  </tbody>\n",
       "</table>\n",
       "</div>"
      ],
      "text/plain": [
       "   id  campaign_id  coupon_id  customer_id  redemption_status\n",
       "0   1           13         27         1053                0.0\n",
       "1   2           13        116           48                0.0\n",
       "2   6            9        635          205                0.0\n",
       "3   7           13        644         1050                0.0\n",
       "4   9            8       1017         1489                0.0"
      ]
     },
     "execution_count": 9,
     "metadata": {},
     "output_type": "execute_result"
    }
   ],
   "source": [
    "data.head()"
   ]
  },
  {
   "cell_type": "code",
   "execution_count": 10,
   "metadata": {},
   "outputs": [
    {
     "data": {
      "text/plain": [
       "id                       0\n",
       "campaign_id              0\n",
       "coupon_id                0\n",
       "customer_id              0\n",
       "redemption_status    50226\n",
       "dtype: int64"
      ]
     },
     "execution_count": 10,
     "metadata": {},
     "output_type": "execute_result"
    }
   ],
   "source": [
    "data.isna().sum()"
   ]
  },
  {
   "cell_type": "code",
   "execution_count": null,
   "metadata": {},
   "outputs": [],
   "source": []
  }
 ],
 "metadata": {
  "kernelspec": {
   "display_name": "Python [conda env:xray] *",
   "language": "python",
   "name": "conda-env-xray-py"
  },
  "language_info": {
   "codemirror_mode": {
    "name": "ipython",
    "version": 3
   },
   "file_extension": ".py",
   "mimetype": "text/x-python",
   "name": "python",
   "nbconvert_exporter": "python",
   "pygments_lexer": "ipython3",
   "version": "3.6.8"
  }
 },
 "nbformat": 4,
 "nbformat_minor": 4
}
